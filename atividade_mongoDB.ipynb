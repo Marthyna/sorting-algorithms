{
  "nbformat": 4,
  "nbformat_minor": 0,
  "metadata": {
    "kernelspec": {
      "name": "python36",
      "display_name": "Python 3.6",
      "language": "python"
    },
    "language_info": {
      "mimetype": "text/x-python",
      "nbconvert_exporter": "python",
      "name": "python",
      "pygments_lexer": "ipython3",
      "version": "3.6.6",
      "file_extension": ".py",
      "codemirror_mode": {
        "version": 3,
        "name": "ipython"
      }
    },
    "colab": {
      "name": "atividade_mongoDB.ipynb",
      "provenance": [],
      "collapsed_sections": [],
      "include_colab_link": true
    }
  },
  "cells": [
    {
      "cell_type": "markdown",
      "metadata": {
        "id": "view-in-github",
        "colab_type": "text"
      },
      "source": [
        "<a href=\"https://colab.research.google.com/github/Marthyna/sorting-algorithms/blob/master/atividade_mongoDB.ipynb\" target=\"_parent\"><img src=\"https://colab.research.google.com/assets/colab-badge.svg\" alt=\"Open In Colab\"/></a>"
      ]
    },
    {
      "cell_type": "markdown",
      "metadata": {
        "id": "Mohf5jg7ydQT"
      },
      "source": [
        "<h1>Aula prática Banco de dados NoSQL</h1>\n",
        "\n",
        "Professor: Leandro Krug Wives <br/>\n",
        "\n",
        "<p>O objetivo desta aula consiste em explorar um SGBD (Sistema de Gerenciamento de Bancos de Dados) não relacional (NoSQL), usando a Linguagem Python. Como estudado em aula, existem várias abordagens NoSQL (chave-valor, família de colunas, documentos, grafos, etc). Para esta aula, será utilizada a abordagem baseada em documentos, através do <a href=\"https://www.mongodb.com/\" target=\"_blank\">MongoDB</a>, buscando compreender o seguinte:</p>\n",
        "\n",
        "<ul>\n",
        "    <li>Como criar uma base de dados;\n",
        "    <li>Como inserir, alterar, remover e excluir dados;\n",
        "    <li>Como consultar dados;\n",
        "</ul>\n",
        "\n",
        "<p>Este notebook serve como um guia para o desenvolvimento da atividade que exigirá de você os conhecimentos trabalhados adquiridos na aula de NoSQL. Você poderá acessá-los no Moodle para consulta. Está disponível <a href=\"https://docs.mongodb.com/manual/introduction/\" target=\"_blank\">neste link</a>, também, a documentação oficial do MongoDB para aprofundamento.</p>"
      ]
    },
    {
      "cell_type": "markdown",
      "metadata": {
        "id": "HT9whrAtydQZ"
      },
      "source": [
        "<h2>Parte 1: MongoDB cloud</h2>\n",
        "\n",
        "<p>Acesse <a href=\"https://www.mongodb.com/download-center\" target=\"_blank\">este link</a> e crie uma conta grátis no MongoDB Atlas. É através dele que faremos nossos exercícios sem a necessidade de instalar e configurar localmente. </p>\n",
        "\n",
        "Para tanto, siga os seguintes passos:\n",
        "\n",
        "<ol>\n",
        "    <li>Escolha o plano grátis (shared cluster) para a Linguagem Python (você pode escolher em C, C++ ou outra linguagem, mas os exemplos apresentados aqui serão em Python;\n",
        "    <li>Escolha a plataforma Google Cloud, em São Paulo, como provedora (antes de seguir adiante, confirme que o plano é do tipo M0 Sandbox (shared RAM, 512MB storage encrypted) ou similar;        \n",
        "    <li>Clique em \"Create Cluster\" e aguarde... A criação do cluster custa entre 1 e 10 minutos. Enquanto isso, faça uma leitura rápida da documentação do MongoDB indicada abaixo).\n",
        "</ol>\n",
        "Link para a documentação MongoDB Atlas (serviço cloud): <a href=\"https://docs.atlas.mongodb.com/getting-started/\">https://docs.atlas.mongodb.com/getting-started/</a><br/>\n",
        "Link para a documentação de uso MongoDB:  <a href=\"https://docs.mongodb.com/manual/introduction/\">https://docs.mongodb.com/manual/introduction/</a>"
      ]
    },
    {
      "cell_type": "markdown",
      "metadata": {
        "id": "RayweHR5ydQa"
      },
      "source": [
        "<h2>Parte 2: Configuração e Conexão</h2>\n",
        "\n",
        "<p>Antes de trabalharmos diretamente com o banco, precisamos confingurar algumas coisas como usuário e senha do banco de dados.\n",
        "\n",
        "<ol>\n",
        "    <li>No Cluster criado (Cluster0), clique em \"Connect\";\n",
        "    <li>Clique em \"Allow Access From Anywhere\" para possibilitar o acesso ao banco de qualquer lugar, no nosso caso a partir do Google Colab. Perceba que o IP 0.0.0.0/0 será adicionado - confirme com o Add; \n",
        "    <li>Crie um usuário e defina uma senha (anote-os);\n",
        "    <li>Clique em \"Choose a connection method\" e escolha a opção \"Connect Your Application\";\n",
        "    <li>Escolha o Driver Python versão \"3.6 or later\";\n",
        "    <li>Marque a opção \"Include full driver code example\", copie o texto e clique em fechar, mas mantenha a página do MongoDB aberta;        \n",
        "</ol>\n",
        "\n",
        "A seguir você encontra uma célula que instala uma biblioteca importante e atualiza o comando pip. \n",
        "\n",
        "Após ela há um local para você colar a string copiada no passo 6, acima. Ele criará uma conexão com o servidor cloud."
      ]
    },
    {
      "cell_type": "code",
      "metadata": {
        "trusted": true,
        "id": "D0C2geR5ydQa"
      },
      "source": [
        "import sys\n",
        "\n",
        "!{sys.executable} -m pip install dnspython # este comando serve para instalar a dependencia de resolução de DNS para a conexão com o BD.\n",
        "\n",
        "!pip install --upgrade pip"
      ],
      "execution_count": null,
      "outputs": []
    },
    {
      "cell_type": "code",
      "metadata": {
        "trusted": true,
        "id": "RU5hAxWtydQc"
      },
      "source": [
        "# caso ocorra erro ao rodar o comando de conexão abaixo, reinicie o kernel indo na aba \"Kernel > Restart\" para que o módulo dnspython seja reconhecido.\n",
        "# o pymongo é a biblioteca que implementa as funções de conexão e \"conversa\" com o DBMS MongoDB.\n",
        "# Por trás, ele executa os comandos que o usuário comandaria caso estivesse utilizando um shell, por exemplo.\n",
        "import pymongo \n",
        "\n",
        "# cole abaixo o código copiado na página do mongo DB\n",
        "# não esqueça de substituir <password> pela senha que você criou ao criar o banco no cloud.\n",
        "# >>>>>>>>>>>>>>>>>>>>>> Cole abaixo a string de conexão copiada anteriormente (passo 6)\n",
        "\n",
        "\n",
        "# <<<<<<<<<<<<<<<<<<<<<<<<<<<"
      ],
      "execution_count": null,
      "outputs": []
    },
    {
      "cell_type": "markdown",
      "metadata": {
        "id": "xsuA4BaOydQc"
      },
      "source": [
        "<h2>Parte 3: Manipulação de Bases de Dados</h2>\n",
        "\n",
        "Vamos criar uma base de dados... \n",
        "\n",
        "O comando seguinte cria uma base. A partir dele, ela será manipulada a partir da variável 'db_1'."
      ]
    },
    {
      "cell_type": "code",
      "metadata": {
        "trusted": true,
        "id": "e-KKwmU6ydQc"
      },
      "source": [
        "db_1 = client['db_1'] # o objeto client cria uma nova base de dados"
      ],
      "execution_count": null,
      "outputs": []
    },
    {
      "cell_type": "markdown",
      "metadata": {
        "id": "Cv9T_dEUydQd"
      },
      "source": [
        "\n",
        "No site do MongoDB, vá até a página inicial da sua SandBox e clique no botão \"Collections\". Lá você pode visualizar, de forma fácil, quais são as bases de dados existentes.\n",
        "\n",
        "Veja se a base de dados \"db_1\" foi criada (Clique no botão \"refresh\"). \n",
        "\n",
        "Você verá que não. Isso porque o MongoDB só cria e seleciona uma base de dados, de fato, se algum documento for inserido. \n",
        "\n",
        "Logo, vamos criar uma coleção de pessoas, para a base de dados \"db_1\", contendo um documento simples (uma pessoa)."
      ]
    },
    {
      "cell_type": "code",
      "metadata": {
        "trusted": true,
        "colab": {
          "base_uri": "https://localhost:8080/"
        },
        "id": "y_Jh92o8ydQd",
        "outputId": "69e94609-3b88-480c-9e78-9122b41675a7"
      },
      "source": [
        "db_1.pessoas.insert_one({\n",
        "        \"nome\": \"Fulano de tal\",\n",
        "        \"idade\": 30,\n",
        "        \"salario\": 2000000,\n",
        "        \"emprego\": \"Programador Python + MongoDB\"\n",
        "    })"
      ],
      "execution_count": null,
      "outputs": [
        {
          "output_type": "execute_result",
          "data": {
            "text/plain": [
              "<pymongo.results.InsertOneResult at 0x7f910d096af0>"
            ]
          },
          "metadata": {
            "tags": []
          },
          "execution_count": 4
        }
      ]
    },
    {
      "cell_type": "markdown",
      "metadata": {
        "id": "MifC0dYDydQe"
      },
      "source": [
        "Volte novamente à página Collections e confira o resultado (Clique no botão \"refresh\").\n",
        "\n",
        "Agora ela deve aparecer e mostrar 1 registro (o que foi incluido acima)."
      ]
    },
    {
      "cell_type": "markdown",
      "metadata": {
        "id": "dOYBt_TN7s96"
      },
      "source": [
        "Vamos consultar todas as coleções da base \"db_1\":\n",
        "\n"
      ]
    },
    {
      "cell_type": "code",
      "metadata": {
        "trusted": true,
        "colab": {
          "base_uri": "https://localhost:8080/"
        },
        "id": "G0Lfix8xydQe",
        "outputId": "eb1d7202-d72c-42f4-b632-be35969c34d6"
      },
      "source": [
        "db_1.list_collection_names()"
      ],
      "execution_count": null,
      "outputs": [
        {
          "output_type": "execute_result",
          "data": {
            "text/plain": [
              "['pessoas']"
            ]
          },
          "metadata": {
            "tags": []
          },
          "execution_count": 5
        }
      ]
    },
    {
      "cell_type": "markdown",
      "metadata": {
        "id": "7UPu49H_ydQe"
      },
      "source": [
        "<ol start=6>\n",
        "    <li>Exclua todas as coleções da base de dados \"db_1\" e, em seguida, ela em si. Note que o último comando pode ser utilizado diretamente. \n",
        "</ol>"
      ]
    },
    {
      "cell_type": "code",
      "metadata": {
        "trusted": true,
        "id": "KMu-aKDuydQe"
      },
      "source": [
        "db_1.pessoas.drop()                          # exclui a coleção inteira\n",
        "client.drop_database('db_1')                 # exclui a base de dados e todas as suas coleções"
      ],
      "execution_count": null,
      "outputs": []
    },
    {
      "cell_type": "markdown",
      "metadata": {
        "id": "SXxEfGERydQf"
      },
      "source": [
        "<h2>Parte 4: Inserção de dados </h2>\n",
        "\n",
        "<ol>\n",
        "        <li>Já vimos o comando insert_one() de uma coleção. Vamos dizer que desejamos guardar dados sobre produtos diversos de um e-commerce. Vamos considerar um notebook vendido no site. Rode o comando abaixo e confira a página \"Collections\" do dashboard MongoDB Atlas. Note que, para cada documento inserido, é criado um identificador automático, chamado de \"_id\".\n",
        "</ol>"
      ]
    },
    {
      "cell_type": "code",
      "metadata": {
        "trusted": true,
        "colab": {
          "base_uri": "https://localhost:8080/"
        },
        "id": "V2JPBPFvydQf",
        "outputId": "a61bb667-fb2b-41db-d6b6-2dea3ecc80c3"
      },
      "source": [
        "ecommerce = client['ecommerce']\n",
        "ecommerce.produtos.insert_one({\n",
        "    \"nome\": \"Acer notebook Gamer G242\",\n",
        "    \"tipo\": [\"eletronico\", \"informatica\"], #lista de tipos\n",
        "    \"preco\": 5000,\n",
        "    \"disponibilidade\": 381,\n",
        "    \"ram\": \"16GB\",\n",
        "    \"processador\": \"Intel Core i9\",\n",
        "    \"tela\": \"IPS 17\",\n",
        "    \"disco\": {\"tipo\": \"SSD\", \"capacidade\": \"500GB\"} #um dicionario com informacoes especificas do disco\n",
        "})"
      ],
      "execution_count": null,
      "outputs": [
        {
          "output_type": "execute_result",
          "data": {
            "text/plain": [
              "<pymongo.results.InsertOneResult at 0x7f9109665280>"
            ]
          },
          "metadata": {
            "tags": []
          },
          "execution_count": 7
        }
      ]
    },
    {
      "cell_type": "markdown",
      "metadata": {
        "id": "M1F6H_EPydQf"
      },
      "source": [
        "<ol start=2>\n",
        "    <li>Podemos ter acesso a esse ID atribuindo a saída da inserção a uma variável, vejamos:\n",
        "        </ol>\n"
      ]
    },
    {
      "cell_type": "code",
      "metadata": {
        "trusted": true,
        "colab": {
          "base_uri": "https://localhost:8080/"
        },
        "id": "6qJPsjSNydQf",
        "outputId": "e0784c8e-5302-4ff5-fc44-286efced0f8b"
      },
      "source": [
        "noteDell = ecommerce.produtos.insert_one({\n",
        "    \"nome\": \"Dell Insiron 5000\",\n",
        "    \"tipo\": [\"eletronico\", \"informatica\"], #lista de tipos\n",
        "    \"preco\": 2000,\n",
        "    \"disponibilidade\": 32,\n",
        "    \"ram\": \"4GB\",\n",
        "    \"processador\": \"Intel Core i3\",\n",
        "    \"tela\": \"14 LCD\",\n",
        "    \"disco\": {\"tipo\": \"HD\", \"capacidade\": \"500GB\"} #um dicionario com informacoes especificas do disco\n",
        "})\n",
        "\n",
        "noteDell.inserted_id"
      ],
      "execution_count": null,
      "outputs": [
        {
          "output_type": "execute_result",
          "data": {
            "text/plain": [
              "ObjectId('6087fb0abbd7e86a0440f06f')"
            ]
          },
          "metadata": {
            "tags": []
          },
          "execution_count": 8
        }
      ]
    },
    {
      "cell_type": "markdown",
      "metadata": {
        "id": "dY3w0pVOydQg"
      },
      "source": [
        "<ol start=3>\n",
        "    <li>Outra forma de inserir um documento é através de um dicionário Python:\n",
        "        </ol>"
      ]
    },
    {
      "cell_type": "code",
      "metadata": {
        "trusted": true,
        "colab": {
          "base_uri": "https://localhost:8080/"
        },
        "id": "30Tt3iwtydQg",
        "outputId": "c5bec443-8cbb-42ae-c5ea-847f89234d08"
      },
      "source": [
        "geladeira_dict = {\n",
        "    \"nome\": \"Geladeira Bosch 1234\",\n",
        "    \"tipo\": [\"eletrodomestico\", \"refrigeracao\"],\n",
        "    \"preco\": 3500,\n",
        "    \"disponibilidade\": 121,\n",
        "    \"potencia\": \"1000BTU\",\n",
        "    \"capacidade\": \"600L\",\n",
        "    \"tensao\": 220\n",
        "} #note aqui a diferença de dados deste documento para o do produto notebook. Essa é a grande virtude NoSQL, não existe um schema que fixe a forma dos dados.\n",
        "\n",
        "ecommerce.produtos.insert_one(geladeira_dict)"
      ],
      "execution_count": null,
      "outputs": [
        {
          "output_type": "execute_result",
          "data": {
            "text/plain": [
              "<pymongo.results.InsertOneResult at 0x7f9112c00af0>"
            ]
          },
          "metadata": {
            "tags": []
          },
          "execution_count": 9
        }
      ]
    },
    {
      "cell_type": "markdown",
      "metadata": {
        "id": "n5iaWV_nydQg"
      },
      "source": [
        "<ol start=4>\n",
        "<li>Muitas vezes precisamos inserir vários documentos de uma vez. Isso pode ser feito utilizando uma lista de dicionários Python, em que cada um é um documento a ser inserido.\n",
        "</ol>"
      ]
    },
    {
      "cell_type": "code",
      "metadata": {
        "trusted": true,
        "colab": {
          "base_uri": "https://localhost:8080/"
        },
        "id": "mOYd43FZydQg",
        "outputId": "4645e324-afad-463d-8d77-8ef61c1163d7"
      },
      "source": [
        "ecommerce.produtos.insert_many([\n",
        "    {\n",
        "        \"nome\": \"TV Samsung\",\n",
        "        \"tipo\": [\"eletrodomestico\", \"refrigeracao\"],\n",
        "        \"preco\": 2500,\n",
        "        \"disponibilidade\": 50,\n",
        "        \"tamanho\": \"50 pol\"\n",
        "    },\n",
        "    {\n",
        "        \"nome\": \"Furadeira Blaster power\",\n",
        "        \"tipo\": [\"ferramentas\", \"oficina\"],\n",
        "        \"preco\": 500,\n",
        "        \"disponibilidade\": 134,\n",
        "        \"potencia\": \"1000W\"\n",
        "    }\n",
        "])"
      ],
      "execution_count": null,
      "outputs": [
        {
          "output_type": "execute_result",
          "data": {
            "text/plain": [
              "<pymongo.results.InsertManyResult at 0x7fc52b61faa0>"
            ]
          },
          "metadata": {
            "tags": []
          },
          "execution_count": 32
        }
      ]
    },
    {
      "cell_type": "markdown",
      "metadata": {
        "id": "cccu3lsgydQh"
      },
      "source": [
        "<h2>Parte 5: Consultas </h2>\n",
        "\n",
        "<ol>\n",
        "        <li>Vamos ver agora algumas consultas simples, começando por recuperar todos os itens da coleção \"produtos\".\n",
        "</ol>"
      ]
    },
    {
      "cell_type": "code",
      "metadata": {
        "trusted": true,
        "colab": {
          "base_uri": "https://localhost:8080/"
        },
        "id": "WdoNGa2qydQh",
        "outputId": "fd6b9836-5edb-4ae3-a39a-878abb4106cb"
      },
      "source": [
        "import pprint #biblioteca para identar a saída da consulta.\n",
        "\n",
        "todos_produtos = ecommerce.produtos.find() #o comando find, sem parâmetros, é equivalente ao SELECT * FROM do SQL.\n",
        "\n",
        "for produto in todos_produtos:\n",
        "    pprint.pprint(produto)    "
      ],
      "execution_count": null,
      "outputs": [
        {
          "output_type": "stream",
          "text": [
            "{'_id': ObjectId('6087688a17f27462897d8455'),\n",
            " 'disco': {'capacidade': '500GB', 'tipo': 'SSD'},\n",
            " 'disponibilidade': 381,\n",
            " 'nome': 'Acer notebook Gamer G242',\n",
            " 'preco': 5000,\n",
            " 'processador': 'Intel Core i9',\n",
            " 'ram': '16GB',\n",
            " 'tela': 'IPS 17',\n",
            " 'tipo': ['eletronico', 'informatica']}\n",
            "{'_id': ObjectId('608768c517f27462897d8456'),\n",
            " 'disco': {'capacidade': '500GB', 'tipo': 'HD'},\n",
            " 'disponibilidade': 32,\n",
            " 'nome': 'Dell Insiron 5000',\n",
            " 'preco': 2000,\n",
            " 'processador': 'Intel Core i3',\n",
            " 'ram': '4GB',\n",
            " 'tela': '14 LCD',\n",
            " 'tipo': ['eletronico', 'informatica']}\n",
            "{'_id': ObjectId('608768e817f27462897d8457'),\n",
            " 'capacidade': '600L',\n",
            " 'disponibilidade': 121,\n",
            " 'nome': 'Geladeira Bosch 1234',\n",
            " 'potencia': '1000BTU',\n",
            " 'preco': 3500,\n",
            " 'tensao': 220,\n",
            " 'tipo': ['eletrodomestico', 'refrigeracao']}\n",
            "{'_id': ObjectId('6087693017f27462897d8458'),\n",
            " 'disponibilidade': 50,\n",
            " 'nome': 'TV Samsung',\n",
            " 'preco': 2500,\n",
            " 'tamanho': '50 pol',\n",
            " 'tipo': ['eletrodomestico', 'refrigeracao']}\n",
            "{'_id': ObjectId('6087693017f27462897d8459'),\n",
            " 'disponibilidade': 134,\n",
            " 'nome': 'Furadeira Blaster power',\n",
            " 'potencia': '1000W',\n",
            " 'preco': 500,\n",
            " 'tipo': ['ferramentas', 'oficina']}\n"
          ],
          "name": "stdout"
        }
      ]
    },
    {
      "cell_type": "code",
      "metadata": {
        "trusted": true,
        "colab": {
          "base_uri": "https://localhost:8080/",
          "height": 279
        },
        "id": "e2Z04jHlydQh",
        "outputId": "f711338a-47d2-4540-f647-cabadb32c4df"
      },
      "source": [
        "# vamos criar um dataframe (tabela local)\n",
        "import pandas as pd\n",
        "\n",
        "todos_produtos = ecommerce.produtos.find() #o comando find, sem parâmetros, é equivalente ao SELECT * FROM do SQL.\n",
        "\n",
        "df = pd.DataFrame(list(todos_produtos))\n",
        "df"
      ],
      "execution_count": null,
      "outputs": [
        {
          "output_type": "execute_result",
          "data": {
            "text/html": [
              "<div>\n",
              "<style scoped>\n",
              "    .dataframe tbody tr th:only-of-type {\n",
              "        vertical-align: middle;\n",
              "    }\n",
              "\n",
              "    .dataframe tbody tr th {\n",
              "        vertical-align: top;\n",
              "    }\n",
              "\n",
              "    .dataframe thead th {\n",
              "        text-align: right;\n",
              "    }\n",
              "</style>\n",
              "<table border=\"1\" class=\"dataframe\">\n",
              "  <thead>\n",
              "    <tr style=\"text-align: right;\">\n",
              "      <th></th>\n",
              "      <th>_id</th>\n",
              "      <th>nome</th>\n",
              "      <th>tipo</th>\n",
              "      <th>preco</th>\n",
              "      <th>disponibilidade</th>\n",
              "      <th>ram</th>\n",
              "      <th>processador</th>\n",
              "      <th>tela</th>\n",
              "      <th>disco</th>\n",
              "      <th>potencia</th>\n",
              "      <th>capacidade</th>\n",
              "      <th>tensao</th>\n",
              "      <th>tamanho</th>\n",
              "    </tr>\n",
              "  </thead>\n",
              "  <tbody>\n",
              "    <tr>\n",
              "      <th>0</th>\n",
              "      <td>6087688a17f27462897d8455</td>\n",
              "      <td>Acer notebook Gamer G242</td>\n",
              "      <td>[eletronico, informatica]</td>\n",
              "      <td>5000</td>\n",
              "      <td>381</td>\n",
              "      <td>16GB</td>\n",
              "      <td>Intel Core i9</td>\n",
              "      <td>IPS 17</td>\n",
              "      <td>{'tipo': 'SSD', 'capacidade': '500GB'}</td>\n",
              "      <td>NaN</td>\n",
              "      <td>NaN</td>\n",
              "      <td>NaN</td>\n",
              "      <td>NaN</td>\n",
              "    </tr>\n",
              "    <tr>\n",
              "      <th>1</th>\n",
              "      <td>608768c517f27462897d8456</td>\n",
              "      <td>Dell Insiron 5000</td>\n",
              "      <td>[eletronico, informatica]</td>\n",
              "      <td>2000</td>\n",
              "      <td>32</td>\n",
              "      <td>4GB</td>\n",
              "      <td>Intel Core i3</td>\n",
              "      <td>14 LCD</td>\n",
              "      <td>{'tipo': 'HD', 'capacidade': '500GB'}</td>\n",
              "      <td>NaN</td>\n",
              "      <td>NaN</td>\n",
              "      <td>NaN</td>\n",
              "      <td>NaN</td>\n",
              "    </tr>\n",
              "    <tr>\n",
              "      <th>2</th>\n",
              "      <td>608768e817f27462897d8457</td>\n",
              "      <td>Geladeira Bosch 1234</td>\n",
              "      <td>[eletrodomestico, refrigeracao]</td>\n",
              "      <td>3500</td>\n",
              "      <td>121</td>\n",
              "      <td>NaN</td>\n",
              "      <td>NaN</td>\n",
              "      <td>NaN</td>\n",
              "      <td>NaN</td>\n",
              "      <td>1000BTU</td>\n",
              "      <td>600L</td>\n",
              "      <td>220.0</td>\n",
              "      <td>NaN</td>\n",
              "    </tr>\n",
              "    <tr>\n",
              "      <th>3</th>\n",
              "      <td>6087693017f27462897d8458</td>\n",
              "      <td>TV Samsung</td>\n",
              "      <td>[eletrodomestico, refrigeracao]</td>\n",
              "      <td>2500</td>\n",
              "      <td>50</td>\n",
              "      <td>NaN</td>\n",
              "      <td>NaN</td>\n",
              "      <td>NaN</td>\n",
              "      <td>NaN</td>\n",
              "      <td>NaN</td>\n",
              "      <td>NaN</td>\n",
              "      <td>NaN</td>\n",
              "      <td>50 pol</td>\n",
              "    </tr>\n",
              "    <tr>\n",
              "      <th>4</th>\n",
              "      <td>6087693017f27462897d8459</td>\n",
              "      <td>Furadeira Blaster power</td>\n",
              "      <td>[ferramentas, oficina]</td>\n",
              "      <td>500</td>\n",
              "      <td>134</td>\n",
              "      <td>NaN</td>\n",
              "      <td>NaN</td>\n",
              "      <td>NaN</td>\n",
              "      <td>NaN</td>\n",
              "      <td>1000W</td>\n",
              "      <td>NaN</td>\n",
              "      <td>NaN</td>\n",
              "      <td>NaN</td>\n",
              "    </tr>\n",
              "  </tbody>\n",
              "</table>\n",
              "</div>"
            ],
            "text/plain": [
              "                        _id                      nome  ... tensao  tamanho\n",
              "0  6087688a17f27462897d8455  Acer notebook Gamer G242  ...    NaN      NaN\n",
              "1  608768c517f27462897d8456         Dell Insiron 5000  ...    NaN      NaN\n",
              "2  608768e817f27462897d8457      Geladeira Bosch 1234  ...  220.0      NaN\n",
              "3  6087693017f27462897d8458                TV Samsung  ...    NaN   50 pol\n",
              "4  6087693017f27462897d8459   Furadeira Blaster power  ...    NaN      NaN\n",
              "\n",
              "[5 rows x 13 columns]"
            ]
          },
          "metadata": {
            "tags": []
          },
          "execution_count": 34
        }
      ]
    },
    {
      "cell_type": "markdown",
      "metadata": {
        "id": "-tPowClBydQh"
      },
      "source": [
        "<ol start=2>\n",
        "        <li>Vamos mostrar agora só 3 produtos.\n",
        "</ol>"
      ]
    },
    {
      "cell_type": "code",
      "metadata": {
        "trusted": true,
        "colab": {
          "base_uri": "https://localhost:8080/"
        },
        "id": "oT4a5zX_ydQh",
        "outputId": "d03d4390-0324-471c-f13d-01e20037f26c"
      },
      "source": [
        "todos_produtos = ecommerce.produtos.find().limit(3)\n",
        "\n",
        "for produto in todos_produtos:\n",
        "    pprint.pprint(produto)"
      ],
      "execution_count": null,
      "outputs": [
        {
          "output_type": "stream",
          "text": [
            "{'_id': ObjectId('6087688a17f27462897d8455'),\n",
            " 'disco': {'capacidade': '500GB', 'tipo': 'SSD'},\n",
            " 'disponibilidade': 381,\n",
            " 'nome': 'Acer notebook Gamer G242',\n",
            " 'preco': 5000,\n",
            " 'processador': 'Intel Core i9',\n",
            " 'ram': '16GB',\n",
            " 'tela': 'IPS 17',\n",
            " 'tipo': ['eletronico', 'informatica']}\n",
            "{'_id': ObjectId('608768c517f27462897d8456'),\n",
            " 'disco': {'capacidade': '500GB', 'tipo': 'HD'},\n",
            " 'disponibilidade': 32,\n",
            " 'nome': 'Dell Insiron 5000',\n",
            " 'preco': 2000,\n",
            " 'processador': 'Intel Core i3',\n",
            " 'ram': '4GB',\n",
            " 'tela': '14 LCD',\n",
            " 'tipo': ['eletronico', 'informatica']}\n",
            "{'_id': ObjectId('608768e817f27462897d8457'),\n",
            " 'capacidade': '600L',\n",
            " 'disponibilidade': 121,\n",
            " 'nome': 'Geladeira Bosch 1234',\n",
            " 'potencia': '1000BTU',\n",
            " 'preco': 3500,\n",
            " 'tensao': 220,\n",
            " 'tipo': ['eletrodomestico', 'refrigeracao']}\n"
          ],
          "name": "stdout"
        }
      ]
    },
    {
      "cell_type": "markdown",
      "metadata": {
        "id": "1G_D6JtrydQi"
      },
      "source": [
        "<ol start=3>\n",
        "        <li>O comando find() possui dois parâmetros. O segundo permite indicar quais são os atributos que devem aparecer no resultado. Vamos especificar que apareça apenas o nome e o preço, sem o identificador do produto.\n",
        "</ol>"
      ]
    },
    {
      "cell_type": "code",
      "metadata": {
        "trusted": true,
        "colab": {
          "base_uri": "https://localhost:8080/"
        },
        "id": "_vCGO5LAydQi",
        "outputId": "aa78e4cf-1e72-4c7e-ea7a-6cdcf75cef14"
      },
      "source": [
        "todos_produtos = ecommerce.produtos.find({}, {\"_id\": 0, \"nome\": 1, \"preco\": 1})\n",
        "\n",
        "for produto in todos_produtos:\n",
        "    pprint.pprint(produto)"
      ],
      "execution_count": null,
      "outputs": [
        {
          "output_type": "stream",
          "text": [
            "{'nome': 'Acer notebook Gamer G242', 'preco': 5000}\n",
            "{'nome': 'Dell Insiron 5000', 'preco': 2000}\n",
            "{'nome': 'Geladeira Bosch 1234', 'preco': 3500}\n",
            "{'nome': 'TV Samsung', 'preco': 2500}\n",
            "{'nome': 'Furadeira Blaster power', 'preco': 500}\n"
          ],
          "name": "stdout"
        }
      ]
    },
    {
      "cell_type": "markdown",
      "metadata": {
        "id": "I3ZvNa2xydQi"
      },
      "source": [
        "<ol start=4>\n",
        "        <li>É possível recuperar apenas um documento. No caso abaixo é retornada a primeira ocorrência encontrada.\n",
        "</ol>"
      ]
    },
    {
      "cell_type": "code",
      "metadata": {
        "trusted": true,
        "colab": {
          "base_uri": "https://localhost:8080/"
        },
        "id": "V2IcHgUoydQi",
        "outputId": "e0f0b1af-a07a-4eaa-bec3-8836f1f7876a"
      },
      "source": [
        "produto = ecommerce.produtos.find_one()\n",
        "pprint.pprint(produto)"
      ],
      "execution_count": null,
      "outputs": [
        {
          "output_type": "stream",
          "text": [
            "{'_id': ObjectId('6087688a17f27462897d8455'),\n",
            " 'disco': {'capacidade': '500GB', 'tipo': 'SSD'},\n",
            " 'disponibilidade': 381,\n",
            " 'nome': 'Acer notebook Gamer G242',\n",
            " 'preco': 5000,\n",
            " 'processador': 'Intel Core i9',\n",
            " 'ram': '16GB',\n",
            " 'tela': 'IPS 17',\n",
            " 'tipo': ['eletronico', 'informatica']}\n"
          ],
          "name": "stdout"
        }
      ]
    },
    {
      "cell_type": "markdown",
      "metadata": {
        "id": "BsYs-9zIydQi"
      },
      "source": [
        "<ol start=5>\n",
        "        <li>Vamos filtrar os resultados agora utilizando o primeiro parâmetro da função find(). Vamos supor que desejamos recuperar todos os produtos que são do tipo informática. Além disso, não queremos recuperar o atributo _id e queremos ordenar os resultados por ordem descrescente de preço.            \n",
        "</ol>"
      ]
    },
    {
      "cell_type": "code",
      "metadata": {
        "trusted": true,
        "colab": {
          "base_uri": "https://localhost:8080/"
        },
        "id": "tNHsICI0ydQj",
        "outputId": "d9e76717-8d66-4dd5-97a0-eac65b267add"
      },
      "source": [
        "todos_produtos_inf = ecommerce.produtos.find({\"tipo\": \"informatica\"},{\"_id\":0}).sort(\"preco\", -1) # -1 especifica que desejamos em ordem decrescente.\n",
        "\n",
        "for produto in todos_produtos_inf:\n",
        "    pprint.pprint(produto)"
      ],
      "execution_count": null,
      "outputs": [
        {
          "output_type": "stream",
          "text": [
            "{'disco': {'capacidade': '500GB', 'tipo': 'SSD'},\n",
            " 'disponibilidade': 381,\n",
            " 'nome': 'Acer notebook Gamer G242',\n",
            " 'preco': 5000,\n",
            " 'processador': 'Intel Core i9',\n",
            " 'ram': '16GB',\n",
            " 'tela': 'IPS 17',\n",
            " 'tipo': ['eletronico', 'informatica']}\n",
            "{'disco': {'capacidade': '500GB', 'tipo': 'HD'},\n",
            " 'disponibilidade': 32,\n",
            " 'nome': 'Dell Insiron 5000',\n",
            " 'preco': 2000,\n",
            " 'processador': 'Intel Core i3',\n",
            " 'ram': '4GB',\n",
            " 'tela': '14 LCD',\n",
            " 'tipo': ['eletronico', 'informatica']}\n"
          ],
          "name": "stdout"
        }
      ]
    },
    {
      "cell_type": "markdown",
      "metadata": {
        "trusted": true,
        "id": "7DSST61QydQj"
      },
      "source": [
        "<ol start=6>\n",
        "        <li>Existem vários operadores como **>**, **<**, **>=**, **AND**, **OR**, etc, que podem ser utilizados nas consultas. No comando seguinte vamos consultar todos os produtos que são do tipo informatica **OU** que possuem um preço acima de R$ 2.000,00. <a href=\"https://docs.mongodb.com/manual/reference/operator/query/\" target=\"_blank\">Acesse aqui</a> a lista completa de operadores de consulta (comparação, lógicos, etc.)\n",
        "            \n",
        "</ol>"
      ]
    },
    {
      "cell_type": "code",
      "metadata": {
        "trusted": true,
        "colab": {
          "base_uri": "https://localhost:8080/"
        },
        "id": "ZPjf9XsgydQj",
        "outputId": "f0693f57-f415-4d32-e191-bc439f3ee58c"
      },
      "source": [
        "todos_produtos_inf = ecommerce.produtos.find(\n",
        "    {\"$or\": [\n",
        "        {\"tipo\": \"informatica\"}, \n",
        "        {\"preco\": {\"$gt\" : 2000}}\n",
        "    ]},\n",
        "    {\"_id\":0}) # -1 especifica que desejamos em ordem decrescente.\n",
        "\n",
        "for produto in todos_produtos_inf:\n",
        "    pprint.pprint(produto)"
      ],
      "execution_count": null,
      "outputs": [
        {
          "output_type": "stream",
          "text": [
            "{'disco': {'capacidade': '500GB', 'tipo': 'SSD'},\n",
            " 'disponibilidade': 381,\n",
            " 'nome': 'Acer notebook Gamer G242',\n",
            " 'preco': 5000,\n",
            " 'processador': 'Intel Core i9',\n",
            " 'ram': '16GB',\n",
            " 'tela': 'IPS 17',\n",
            " 'tipo': ['eletronico', 'informatica']}\n",
            "{'disco': {'capacidade': '500GB', 'tipo': 'HD'},\n",
            " 'disponibilidade': 32,\n",
            " 'nome': 'Dell Insiron 5000',\n",
            " 'preco': 2000,\n",
            " 'processador': 'Intel Core i3',\n",
            " 'ram': '4GB',\n",
            " 'tela': '14 LCD',\n",
            " 'tipo': ['eletronico', 'informatica']}\n",
            "{'capacidade': '600L',\n",
            " 'disponibilidade': 121,\n",
            " 'nome': 'Geladeira Bosch 1234',\n",
            " 'potencia': '1000BTU',\n",
            " 'preco': 3500,\n",
            " 'tensao': 220,\n",
            " 'tipo': ['eletrodomestico', 'refrigeracao']}\n",
            "{'disponibilidade': 50,\n",
            " 'nome': 'TV Samsung',\n",
            " 'preco': 2500,\n",
            " 'tamanho': '50 pol',\n",
            " 'tipo': ['eletrodomestico', 'refrigeracao']}\n"
          ],
          "name": "stdout"
        }
      ]
    },
    {
      "cell_type": "markdown",
      "metadata": {
        "id": "kHdNNZC2ydQj"
      },
      "source": [
        "<h2>Parte 6: Atualizações </h2>\n",
        "\n",
        "<ol>\n",
        "        <li>Vamos verificar agora como atualizar registros de um documento. Como exemplo, vamos atualizar o preço do notebook Acer, buscando-o pelo seu nome.\n",
        "</ol>"
      ]
    },
    {
      "cell_type": "code",
      "metadata": {
        "trusted": true,
        "colab": {
          "base_uri": "https://localhost:8080/"
        },
        "id": "zmaUX_JOydQj",
        "outputId": "d37c49a3-1bc1-4cce-c021-a02cb966206e"
      },
      "source": [
        "print(\"ANTES\")\n",
        "pprint.pprint(ecommerce.produtos.find_one({\"nome\": \"Acer notebook Gamer G242\"}))\n",
        "\n",
        "ecommerce.produtos.update_one({\"nome\": \"Acer notebook Gamer G242\"},\n",
        "                              {\"$set\": {\"preco\": \"4000\"}}) #observe o uso do operador de atribuição $set\n",
        "\n",
        "print(\"\\n\\n DEPOIS\")\n",
        "pprint.pprint(ecommerce.produtos.find_one({\"nome\": \"Acer notebook Gamer G242\"}))"
      ],
      "execution_count": null,
      "outputs": [
        {
          "output_type": "stream",
          "text": [
            "ANTES\n",
            "{'_id': ObjectId('6087688a17f27462897d8455'),\n",
            " 'disco': {'capacidade': '500GB', 'tipo': 'SSD'},\n",
            " 'disponibilidade': 381,\n",
            " 'nome': 'Acer notebook Gamer G242',\n",
            " 'preco': 5000,\n",
            " 'processador': 'Intel Core i9',\n",
            " 'ram': '16GB',\n",
            " 'tela': 'IPS 17',\n",
            " 'tipo': ['eletronico', 'informatica']}\n",
            "\n",
            "\n",
            " DEPOIS\n",
            "{'_id': ObjectId('6087688a17f27462897d8455'),\n",
            " 'disco': {'capacidade': '500GB', 'tipo': 'SSD'},\n",
            " 'disponibilidade': 381,\n",
            " 'nome': 'Acer notebook Gamer G242',\n",
            " 'preco': '4000',\n",
            " 'processador': 'Intel Core i9',\n",
            " 'ram': '16GB',\n",
            " 'tela': 'IPS 17',\n",
            " 'tipo': ['eletronico', 'informatica']}\n"
          ],
          "name": "stdout"
        }
      ]
    },
    {
      "cell_type": "markdown",
      "metadata": {
        "id": "0_ww1uEiydQk"
      },
      "source": [
        "<ol start=2>\n",
        "        <li>Suponha que agora precisamos adicionar um novo tipo (fabricante processador) a todos os produtos de informatica que possuam processador Intel. Para isso, usamos uma expressão regular no atributo processador. O operador \\$push é usado ao invés de $set porque precisamos adicionar o novo tipo e não substituir o anterior, já que não é um dado único, mas sim um array. Usamos aqui o comando update_many() porque atualizaremos todos os documentos que se encaixarem na consulta.\n",
        "</ol>"
      ]
    },
    {
      "cell_type": "code",
      "metadata": {
        "trusted": true,
        "colab": {
          "base_uri": "https://localhost:8080/"
        },
        "id": "4C6t1vJMydQk",
        "outputId": "37182a6b-6467-4d39-cbc5-af85898af943"
      },
      "source": [
        "ecommerce.produtos.update_many({\"processador\": {\"$regex\": r\"Intel\"}}, \n",
        "                               {\"$push\": {\"tipo\": \"Intel\"}})\n",
        "\n"
      ],
      "execution_count": null,
      "outputs": [
        {
          "output_type": "execute_result",
          "data": {
            "text/plain": [
              "<pymongo.results.UpdateResult at 0x7fc521d746e0>"
            ]
          },
          "metadata": {
            "tags": []
          },
          "execution_count": 41
        }
      ]
    },
    {
      "cell_type": "markdown",
      "metadata": {
        "id": "e1HrPI-hydQk"
      },
      "source": [
        "<ol start=3>\n",
        "        <li>Observe que o novo tipo \"Intel\" foi adicionado aos tipos de cada produto enquadrado na consulta pela expressão regular.\n",
        "</ol>"
      ]
    },
    {
      "cell_type": "code",
      "metadata": {
        "trusted": true,
        "colab": {
          "base_uri": "https://localhost:8080/"
        },
        "id": "ABTyx7YIydQk",
        "outputId": "701a4a06-33be-4f65-9774-6db214598928"
      },
      "source": [
        "todos_produtos_inf = ecommerce.produtos.find({\"tipo\": \"informatica\"},{\"_id\":0})\n",
        "\n",
        "for produto in todos_produtos_inf:\n",
        "    pprint.pprint(produto)"
      ],
      "execution_count": null,
      "outputs": [
        {
          "output_type": "stream",
          "text": [
            "{'disco': {'capacidade': '500GB', 'tipo': 'SSD'},\n",
            " 'disponibilidade': 381,\n",
            " 'nome': 'Acer notebook Gamer G242',\n",
            " 'preco': '4000',\n",
            " 'processador': 'Intel Core i9',\n",
            " 'ram': '16GB',\n",
            " 'tela': 'IPS 17',\n",
            " 'tipo': ['eletronico', 'informatica', 'Intel']}\n",
            "{'disco': {'capacidade': '500GB', 'tipo': 'HD'},\n",
            " 'disponibilidade': 32,\n",
            " 'nome': 'Dell Insiron 5000',\n",
            " 'preco': 2000,\n",
            " 'processador': 'Intel Core i3',\n",
            " 'ram': '4GB',\n",
            " 'tela': '14 LCD',\n",
            " 'tipo': ['eletronico', 'informatica', 'Intel']}\n"
          ],
          "name": "stdout"
        }
      ]
    },
    {
      "cell_type": "markdown",
      "metadata": {
        "id": "5U-Xx0fUydQk"
      },
      "source": [
        "<h2>Parte 6: Exclusões </h2>\n",
        "\n",
        "<ol>\n",
        "        <li>Vamos ver agora como excluir um determinado produto. Para tanto, vamos utilizar o comando delete_one() para excluir o documento (produto) \"furadeira\". O funcionamento acontece de forma bastante similiar às atualizações que acabamos de ver.\n",
        "</ol>"
      ]
    },
    {
      "cell_type": "code",
      "metadata": {
        "trusted": true,
        "colab": {
          "base_uri": "https://localhost:8080/"
        },
        "id": "tOzjEO0oydQl",
        "outputId": "9379cf21-3d6a-4816-ee30-ab1024e95e3a"
      },
      "source": [
        "print(\"ANTES\")\n",
        "pprint.pprint(ecommerce.produtos.find_one({\"nome\": \"Furadeira Blaster power\"}))\n",
        "\n",
        "ecommerce.produtos.delete_one({\"nome\": \"Furadeira Blaster power\"})\n",
        "\n",
        "print(\"\\n\\n DEPOIS\")\n",
        "pprint.pprint(ecommerce.produtos.find_one({\"nome\": \"Furadeira Blaster power\"}))"
      ],
      "execution_count": null,
      "outputs": [
        {
          "output_type": "stream",
          "text": [
            "ANTES\n",
            "{'_id': ObjectId('6087693017f27462897d8459'),\n",
            " 'disponibilidade': 134,\n",
            " 'nome': 'Furadeira Blaster power',\n",
            " 'potencia': '1000W',\n",
            " 'preco': 500,\n",
            " 'tipo': ['ferramentas', 'oficina']}\n",
            "\n",
            "\n",
            " DEPOIS\n",
            "None\n"
          ],
          "name": "stdout"
        }
      ]
    },
    {
      "cell_type": "markdown",
      "metadata": {
        "id": "cl6gk0uIydQl"
      },
      "source": [
        "A remoção de vários documento de uma só vez também acontece de forma similar ao exemplo das atualizações. Entretanto, sem o segundo parâmetro."
      ]
    },
    {
      "cell_type": "markdown",
      "metadata": {
        "id": "T-nIYO1hydQl"
      },
      "source": [
        "<h2>Desafio: Venda de Produtos E-Commerce MyBric </h2>\n",
        "\n",
        "Até este ponto você aprendeu o básico de MongoDB: coleções, documentos, consultas, inserções, atualizações e exclusões. Isso em apenas uma coleção (produtos). Um e-commerce é uma das muitas aplicações de MongoDB, afinal, nesse contexto temos vários tipos de produtos sendo vendidos com diferentes atributos, tornando difícil manter um esquema estático de dados tal como com SQL. Sendo assim, vamos supor, agora, que você tem um rol de produtos que deseja vender e está considerando construir um e-commerce bastante simples. Para tanto, você verá a seguir uma descrição das coleções necessárias na sua aplicação para guardar os documentos de vendas e de clientes. \n",
        "\n",
        "<h4>Coleção vendas:</h4>\n",
        "<ul>\n",
        "        <li>data da venda.\n",
        "        <li>cliente para o qual vendeu.\n",
        "        <li>quais itens vendidos.\n",
        "        <li>preço total da venda.\n",
        "        <li>metodo de pagamento (cartão ou dinheiro).\n",
        "</ul>\n",
        "\n",
        "<h4>Coleção clientes:</h4>\n",
        "<ul>\n",
        "        <li>nome\n",
        "        <li>endereço\n",
        "</ul>\n",
        "\n",
        "Você deverá criar essas duas coleções e, em seguida, fazer algumas vendas o que implicará em encadear os dados, i.e., para quais clientes foram vendidos determinados produtos. Você conseguirá fazer isso utilizando as operações vistas anteriormente e, também, consultando a seção de modelagem de dados presente na documentação do MongoDB indicada <a href=\"https://docs.mongodb.com/manual/core/data-modeling-introduction/\" target=\"_blank\">neste link</a>. \n",
        "\n",
        "<h5>Observações</h5>\n",
        "<ul>\n",
        "    <li>Faça pelo menos UMA venda com dois produtos. Observe que você precisa somar o valor dos dois produtos para o atributo \"preço total venda\" na coleção \"vendas\";\n",
        "    <li>Para cada venda efetuada você precisa decrementar a quantidade de produtos em estoque posta no atributo \"disponibilidade\" da coleção \"produtos\". Dica: para decrementar, utilize a função update_one().   \n",
        "</ul>"
      ]
    }
  ]
}