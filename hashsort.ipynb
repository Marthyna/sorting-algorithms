{
  "nbformat": 4,
  "nbformat_minor": 0,
  "metadata": {
    "language_info": {
      "mimetype": "text/x-python",
      "nbconvert_exporter": "python",
      "name": "python",
      "pygments_lexer": "ipython3",
      "version": "3.8.2-final",
      "file_extension": ".py",
      "codemirror_mode": {
        "version": 3,
        "name": "ipython"
      }
    },
    "kernelspec": {
      "name": "python3",
      "display_name": "Python 3.8.2 32-bit",
      "metadata": {
        "interpreter": {
          "hash": "bda073503229fefdaf75bc3b7738415ceeefb3d799842a35a2440f1c081f5a88"
        }
      }
    },
    "colab": {
      "name": "LabCPD-04-Python.ipynb",
      "provenance": [],
      "collapsed_sections": [
        "FbIPfhlZ4gnw"
      ]
    }
  },
  "cells": [
    {
      "cell_type": "markdown",
      "metadata": {
        "id": "C1BispB84gnj"
      },
      "source": [
        "# Disciplina de Classificação e Pesquisa de Dados\n",
        " \n",
        "# Laboratório #4\n",
        " \n",
        "### Implementação (em Python) de estratégias e funções relacionados com estruturas Hash"
      ]
    },
    {
      "cell_type": "code",
      "metadata": {
        "id": "eqFQKKDK8o1r"
      },
      "source": [],
      "execution_count": null,
      "outputs": []
    },
    {
      "cell_type": "markdown",
      "metadata": {
        "id": "mI8l12rW8pKK"
      },
      "source": [
        "O objetivo consiste em usar os mecanismos de dicionário oferecidos pela linguagem Python 3 ou superior para armazenar e consultar informações, além de verificarmos o funcionamento de algumas técnicas de tratamento de colisões e de redimencionamento de tabelas. Em seguida, vamos implementar algumas funções de geração de códigos hash para diferentes tipos de dados.\n",
        "\n",
        "Se possível, estude como Python implementa internamente um dicionário. Também avalie que tipos de estruturas semelhantes outras linguagens oferecem (p.ex., hash tables em Java/C# e arrays associativos em C++).  "
      ]
    },
    {
      "cell_type": "markdown",
      "metadata": {
        "id": "T46zMuLE4gno"
      },
      "source": [
        "----------------\n",
        "## I) Python Dicts\n",
        "\n",
        "Python oferece uma estrutura de dados muito utilizada chamada de dicionário. Essa estrutura é implementada internamente usando as técnicas de hash que vimos em aula.\n",
        "\n",
        "Seguem alguns exemplos abaixo."
      ]
    },
    {
      "cell_type": "code",
      "metadata": {
        "trusted": true,
        "id": "veN7IgVe4gnp"
      },
      "source": [
        "# cria um dicionário vazio:\n",
        "dicionario1 = {}\n",
        "\n",
        "# cria um dicionário cujas chaves são números\n",
        "dicionario2 = {1: 'bananas', 2: 'maças', 5: 'peras'}\n",
        "\n",
        "# dicionário com chaves alfanuméricas (ou mistas):\n",
        "dicionario3 = {'nome': 'Leonardo', 1: [2, 4, 3]}\n",
        "\n",
        "# criando usando compreensions:\n",
        "odd_squares = {x: x*x for x in range(11) if x%2 == 1}\n",
        "print(odd_squares)"
      ],
      "execution_count": 1162,
      "outputs": [
        {
          "output_type": "stream",
          "name": "stdout",
          "text": [
            "{1: 1, 3: 9, 5: 25, 7: 49, 9: 81}\n"
          ]
        }
      ]
    },
    {
      "cell_type": "code",
      "metadata": {
        "trusted": true,
        "id": "pURXp-qk4gnp"
      },
      "source": [
        "# Adicionando itens no dicionário:\n",
        "dicionario1['leandro'] = {'status':'professor', 'lotacao': 'CINTED'}"
      ],
      "execution_count": 1163,
      "outputs": []
    },
    {
      "source": [
        "# consulta ao dicionário:\n",
        "print(dicionario1['leandro'])\n",
        "\n",
        "print(dicionario2[1])\n",
        "\n",
        "print(dicionario3['nome'])\n",
        "\n",
        "print(dicionario3[1])\n",
        "\n",
        "print(odd_squares)"
      ],
      "cell_type": "code",
      "metadata": {
        "trusted": true,
        "id": "EbqqCEOl4gnp",
        "outputId": "eadad650-8edb-4797-f062-30975223aa31"
      },
      "execution_count": 1164,
      "outputs": [
        {
          "output_type": "stream",
          "name": "stdout",
          "text": [
            "{'status': 'professor', 'lotacao': 'CINTED'}\nbananas\nLeonardo\n[2, 4, 3]\n{1: 1, 3: 9, 5: 25, 7: 49, 9: 81}\n"
          ]
        }
      ]
    },
    {
      "source": [
        "# removendo um item:\n",
        "dicionario3.pop(1)\n",
        "print(dicionario3[1]) # erro porque a chave não existe mais!"
      ],
      "cell_type": "code",
      "metadata": {
        "trusted": true,
        "id": "826fLMs44gnq",
        "outputId": "b36fbacf-d898-4bae-91fe-b39e9dd4afe1"
      },
      "execution_count": 1165,
      "outputs": [
        {
          "output_type": "error",
          "ename": "KeyError",
          "evalue": "1",
          "traceback": [
            "\u001b[1;31m---------------------------------------------------------------------------\u001b[0m",
            "\u001b[1;31mKeyError\u001b[0m                                  Traceback (most recent call last)",
            "\u001b[1;32m<ipython-input-1165-e4e70f507ba7>\u001b[0m in \u001b[0;36m<module>\u001b[1;34m\u001b[0m\n\u001b[0;32m      1\u001b[0m \u001b[1;31m# removendo um item:\u001b[0m\u001b[1;33m\u001b[0m\u001b[1;33m\u001b[0m\u001b[1;33m\u001b[0m\u001b[0m\n\u001b[0;32m      2\u001b[0m \u001b[0mdicionario3\u001b[0m\u001b[1;33m.\u001b[0m\u001b[0mpop\u001b[0m\u001b[1;33m(\u001b[0m\u001b[1;36m1\u001b[0m\u001b[1;33m)\u001b[0m\u001b[1;33m\u001b[0m\u001b[1;33m\u001b[0m\u001b[0m\n\u001b[1;32m----> 3\u001b[1;33m \u001b[0mprint\u001b[0m\u001b[1;33m(\u001b[0m\u001b[0mdicionario3\u001b[0m\u001b[1;33m[\u001b[0m\u001b[1;36m1\u001b[0m\u001b[1;33m]\u001b[0m\u001b[1;33m)\u001b[0m \u001b[1;31m# erro porque a chave não existe mais!\u001b[0m\u001b[1;33m\u001b[0m\u001b[1;33m\u001b[0m\u001b[0m\n\u001b[0m",
            "\u001b[1;31mKeyError\u001b[0m: 1"
          ]
        }
      ]
    },
    {
      "source": [
        "# apagando tudo em um dicionário:\n",
        "dicionario2.clear()\n",
        "print(dicionario2[1]) # erro porque não tem mais nada!"
      ],
      "cell_type": "code",
      "metadata": {
        "trusted": true,
        "id": "a7dNxNGC4gnq",
        "outputId": "42b19b2e-7358-4303-c06e-eb2b6b8ba3b2"
      },
      "execution_count": null,
      "outputs": []
    },
    {
      "cell_type": "markdown",
      "metadata": {
        "id": "lSAZy4uB4gnr"
      },
      "source": [
        "---------------\n",
        "## 2) SimpleHashTable\n",
        "\n",
        "Agora vamos analisar uma implementação simples de tabelas hash que usam a função módulo para gerar código hash (posição/endereço em uma tabela ou array) e a técnica de sondagem linear (linear probing) para tratar colisões.\n",
        "\n",
        "Observe o código abaixo e seu teste de uso com diferentes exemplos."
      ]
    },
    {
      "cell_type": "code",
      "metadata": {
        "trusted": true,
        "id": "pHDWzAH94gnr"
      },
      "source": [
        "class SimpleHashTable:\n",
        "    # construtor, basta passar tamanho inicial da tabela hash\n",
        "    def __init__(self, size):\n",
        "        self.size = size\n",
        "        self.dicionario = [-1] * size                 # -1 significa que o local está vago\n",
        "        self.conteudo   = [None] * size \n",
        "        self.used       = [False] * size                 \n",
        "        \n",
        "    def add(self, chave, dado):\n",
        "        posicao = posicao_inicial = chave % self.size # usa o módulo\n",
        "        \n",
        "        if self.dicionario[posicao] == -1:            # se estiver vazio\n",
        "            self.dicionario[posicao] = chave          # coloca a chave\n",
        "            self.conteudo[posicao] = dado                      # associa dado\n",
        "            self.used[posicao] = True\n",
        "            return posicao\n",
        "        else:                                         # se estiver ocupado, tenta achar lugar usando linear probing\n",
        "            first_pass = True\n",
        "            while posicao != posicao_inicial or first_pass:\n",
        "                first_pass = False\n",
        "                posicao = (posicao + 1) % self.size   # incrementa posição (mas fica dentro do intervalo do array de chaves)\n",
        "                if self.dicionario[posicao] == -1:    \n",
        "                    self.dicionario[posicao] = chave  \n",
        "                    self.conteudo[posicao] = dado\n",
        "                    self.used[posicao] = True\n",
        "                    return posicao\n",
        "                    \n",
        "        if posicao == posicao_inicial:                  # se posicao igual à inicial é porque fez a volta e não achou\n",
        "            return -1                                  # informa que deu problema (está cheio)\n",
        "        else:   \n",
        "            return posicao                             # retorna posição onde colocou o dado\n",
        "    \n",
        "    def get(self, chave):\n",
        "        posicao_inicial = posicao = chave % self.size\n",
        "        first_pass = True\n",
        "        \n",
        "        # busca elemento usando linear probing:\n",
        "        while self.dicionario[posicao] != chave and self.used and (posicao_inicial != posicao or first_pass):\n",
        "            first_pass = False\n",
        "            posicao = (posicao + 1) % self.size\n",
        "            \n",
        "        if self.dicionario[posicao] == chave:\n",
        "            return self.conteudo[posicao]\n",
        "        else:\n",
        "            return None # se chegou aqui é porque não existe a chave\n",
        "    \n",
        "    def remove(self, chave):\n",
        "        posicao_inicial = posicao = chave % self.size\n",
        "        first_pass = True\n",
        "        \n",
        "        # busca elemento usando linear probing:\n",
        "        while self.dicionario[posicao] != chave and self.used and (posicao_inicial != posicao or first_pass):\n",
        "            first_pass = False\n",
        "            posicao = (posicao + 1) % self.size\n",
        "            \n",
        "        if self.dicionario[posicao] == chave:\n",
        "            self.dicionario[posicao] = -1\n",
        "            self.conteudo[posicao] = None\n",
        "            return posicao\n",
        "        else:\n",
        "            return None # se chegou aqui é porque não existe a chave\n",
        "        return -1\n",
        "        \n",
        "    # modifica tamanho da tabela criando nova tabela\n",
        "    def resize_on_new(self, novo_tamanho):\n",
        "        nova = SimpleHashTable(novo_tamanho) # cria nova tabela com novo tamanho\n",
        "        for i in range(1,self.size): # passa todo os registros da tabela antiga para a nova, levando em conta nova função de hash\n",
        "            if self.dicionario[i] != -1:\n",
        "                nova.add(self.dicionario[i], self.conteudo[i])\n",
        "        return nova\n",
        "\n",
        "    # modifica tamanho da tabela nela mesmo\n",
        "    def resize_in_situ(self, novo_tamanho):\n",
        "        # guarda todas as infos da lista em auxiliares\n",
        "        dicioaux = self.dicionario\n",
        "        contaux = self.conteudo\n",
        "        usedaux = self.used\n",
        "        tam = self.size\n",
        "\n",
        "        # aumenta o tamanho da tabela\n",
        "        self = SimpleHashTable(novo_tamanho)\n",
        "        # copia as infos de volta\n",
        "        for i in range(0,tam):\n",
        "            self.dicionario[i] = dicioaux[i]\n",
        "            self.conteudo[i] = contaux[i]\n",
        "            self.used[i] = usedaux[i]\n",
        "        \n",
        "        # para todo registro não nulo antigo na lista, remove e adiciona novamente pra realocar\n",
        "        for i in (0,tam):\n",
        "            if self.dicionario[i] != None:\n",
        "                pos = self.remove(self.dicionario[i])\n",
        "                self.add(self.dicionario[i], self.conteudo[i])\n",
        "        return self\n",
        "    \n",
        "    def print(self):\n",
        "        for indice in range(0, self.size):\n",
        "            print(f\"({indice:03d})[{self.dicionario[indice]:03d}] = {str(self.conteudo[indice]):15s} ({self.used[indice]})\")"
      ],
      "execution_count": 1122,
      "outputs": []
    },
    {
      "cell_type": "markdown",
      "metadata": {
        "id": "4K29RdBh4gnr"
      },
      "source": [
        "Abaixo veja alguns exemplos de uso:"
      ]
    },
    {
      "cell_type": "code",
      "metadata": {
        "trusted": true,
        "id": "BMPEcDsI4gns"
      },
      "source": [
        "#cria uma estrutura com 20 posições\n",
        "hash_table = SimpleHashTable(20)"
      ],
      "execution_count": 1123,
      "outputs": []
    },
    {
      "cell_type": "code",
      "metadata": {
        "trusted": true,
        "id": "oNUomw9w4gns",
        "outputId": "55eaac1a-534e-499c-d6b9-942de91137d0"
      },
      "source": [
        "# mostra estrutura interna da hashtable\n",
        "hash_table.print()"
      ],
      "execution_count": 1124,
      "outputs": [
        {
          "output_type": "stream",
          "name": "stdout",
          "text": [
            "(000)[-01] = None            (False)\n(001)[-01] = None            (False)\n(002)[-01] = None            (False)\n(003)[-01] = None            (False)\n(004)[-01] = None            (False)\n(005)[-01] = None            (False)\n(006)[-01] = None            (False)\n(007)[-01] = None            (False)\n(008)[-01] = None            (False)\n(009)[-01] = None            (False)\n(010)[-01] = None            (False)\n(011)[-01] = None            (False)\n(012)[-01] = None            (False)\n(013)[-01] = None            (False)\n(014)[-01] = None            (False)\n(015)[-01] = None            (False)\n(016)[-01] = None            (False)\n(017)[-01] = None            (False)\n(018)[-01] = None            (False)\n(019)[-01] = None            (False)\n"
          ]
        }
      ]
    },
    {
      "cell_type": "code",
      "metadata": {
        "trusted": true,
        "id": "Mf6erCgX4gns",
        "outputId": "b6d58f85-d6f5-4bb7-ad09-b33fcebf9ad0"
      },
      "source": [
        "# adiciona uma chave e dados associados:\n",
        "hash_table.add(10, \"valor 10\")\n",
        "hash_table.print() # mostra como ficou a estrutura interna"
      ],
      "execution_count": 1125,
      "outputs": [
        {
          "output_type": "stream",
          "name": "stdout",
          "text": [
            "(000)[-01] = None            (False)\n(001)[-01] = None            (False)\n(002)[-01] = None            (False)\n(003)[-01] = None            (False)\n(004)[-01] = None            (False)\n(005)[-01] = None            (False)\n(006)[-01] = None            (False)\n(007)[-01] = None            (False)\n(008)[-01] = None            (False)\n(009)[-01] = None            (False)\n(010)[010] = valor 10        (True)\n(011)[-01] = None            (False)\n(012)[-01] = None            (False)\n(013)[-01] = None            (False)\n(014)[-01] = None            (False)\n(015)[-01] = None            (False)\n(016)[-01] = None            (False)\n(017)[-01] = None            (False)\n(018)[-01] = None            (False)\n(019)[-01] = None            (False)\n"
          ]
        }
      ]
    },
    {
      "cell_type": "code",
      "metadata": {
        "trusted": true,
        "id": "vVWjfIn04gns",
        "outputId": "c10eabeb-f916-4abb-9550-6e95d912d968"
      },
      "source": [
        "hash_table.add(20, \"valor 20\")\n",
        "hash_table.print()"
      ],
      "execution_count": 1126,
      "outputs": [
        {
          "output_type": "stream",
          "name": "stdout",
          "text": [
            "(000)[020] = valor 20        (True)\n(001)[-01] = None            (False)\n(002)[-01] = None            (False)\n(003)[-01] = None            (False)\n(004)[-01] = None            (False)\n(005)[-01] = None            (False)\n(006)[-01] = None            (False)\n(007)[-01] = None            (False)\n(008)[-01] = None            (False)\n(009)[-01] = None            (False)\n(010)[010] = valor 10        (True)\n(011)[-01] = None            (False)\n(012)[-01] = None            (False)\n(013)[-01] = None            (False)\n(014)[-01] = None            (False)\n(015)[-01] = None            (False)\n(016)[-01] = None            (False)\n(017)[-01] = None            (False)\n(018)[-01] = None            (False)\n(019)[-01] = None            (False)\n"
          ]
        }
      ]
    },
    {
      "cell_type": "code",
      "metadata": {
        "trusted": true,
        "id": "wHYLeu_54gns",
        "outputId": "fa4cee83-cdbf-4512-e1d9-2d044f650e6f"
      },
      "source": [
        "hash_table.add(0, \"valor 0\")\n",
        "hash_table.print()"
      ],
      "execution_count": 1127,
      "outputs": [
        {
          "output_type": "stream",
          "name": "stdout",
          "text": [
            "(000)[020] = valor 20        (True)\n(001)[000] = valor 0         (True)\n(002)[-01] = None            (False)\n(003)[-01] = None            (False)\n(004)[-01] = None            (False)\n(005)[-01] = None            (False)\n(006)[-01] = None            (False)\n(007)[-01] = None            (False)\n(008)[-01] = None            (False)\n(009)[-01] = None            (False)\n(010)[010] = valor 10        (True)\n(011)[-01] = None            (False)\n(012)[-01] = None            (False)\n(013)[-01] = None            (False)\n(014)[-01] = None            (False)\n(015)[-01] = None            (False)\n(016)[-01] = None            (False)\n(017)[-01] = None            (False)\n(018)[-01] = None            (False)\n(019)[-01] = None            (False)\n"
          ]
        }
      ]
    },
    {
      "cell_type": "code",
      "metadata": {
        "trusted": true,
        "id": "i7Agh9bG4gnt",
        "outputId": "9a72f3b7-19ed-464e-8c0d-e07d9ccea350"
      },
      "source": [
        "hash_table.add(12, \"valor 12\")\n",
        "hash_table.print()"
      ],
      "execution_count": 1128,
      "outputs": [
        {
          "output_type": "stream",
          "name": "stdout",
          "text": [
            "(000)[020] = valor 20        (True)\n(001)[000] = valor 0         (True)\n(002)[-01] = None            (False)\n(003)[-01] = None            (False)\n(004)[-01] = None            (False)\n(005)[-01] = None            (False)\n(006)[-01] = None            (False)\n(007)[-01] = None            (False)\n(008)[-01] = None            (False)\n(009)[-01] = None            (False)\n(010)[010] = valor 10        (True)\n(011)[-01] = None            (False)\n(012)[012] = valor 12        (True)\n(013)[-01] = None            (False)\n(014)[-01] = None            (False)\n(015)[-01] = None            (False)\n(016)[-01] = None            (False)\n(017)[-01] = None            (False)\n(018)[-01] = None            (False)\n(019)[-01] = None            (False)\n"
          ]
        }
      ]
    },
    {
      "cell_type": "code",
      "metadata": {
        "trusted": true,
        "id": "Hqrp1Ssr4gnt",
        "outputId": "4265a95d-8233-4374-c7eb-315d7ca4abdf"
      },
      "source": [
        "# recupera o dado associado com a chave 0:\n",
        "print(hash_table.get(0))"
      ],
      "execution_count": 1129,
      "outputs": [
        {
          "output_type": "stream",
          "name": "stdout",
          "text": [
            "valor 0\n"
          ]
        }
      ]
    },
    {
      "cell_type": "code",
      "metadata": {
        "trusted": true,
        "id": "vWg9R8I14gnt",
        "outputId": "243ec1ab-4066-44fa-a1a6-9b1d2d97d111"
      },
      "source": [
        "# recupera dado associado com chave 10:\n",
        "print(hash_table.get(10))"
      ],
      "execution_count": 1130,
      "outputs": [
        {
          "output_type": "stream",
          "name": "stdout",
          "text": [
            "valor 10\n"
          ]
        }
      ]
    },
    {
      "cell_type": "code",
      "metadata": {
        "trusted": true,
        "id": "sF8hZJkF4gnt",
        "outputId": "c6c01bcc-2e74-4c75-9d4c-79a892fd5260"
      },
      "source": [
        "# remove elemento de chave 10:\n",
        "print(hash_table.remove(10))"
      ],
      "execution_count": 1131,
      "outputs": [
        {
          "output_type": "stream",
          "name": "stdout",
          "text": [
            "10\n"
          ]
        }
      ]
    },
    {
      "cell_type": "code",
      "metadata": {
        "trusted": true,
        "id": "HJMo_lZJ4gnu",
        "outputId": "741d351b-251f-4858-b0a8-0ed7333cc380"
      },
      "source": [
        "hash_table.print()"
      ],
      "execution_count": 1132,
      "outputs": [
        {
          "output_type": "stream",
          "name": "stdout",
          "text": [
            "(000)[020] = valor 20        (True)\n(001)[000] = valor 0         (True)\n(002)[-01] = None            (False)\n(003)[-01] = None            (False)\n(004)[-01] = None            (False)\n(005)[-01] = None            (False)\n(006)[-01] = None            (False)\n(007)[-01] = None            (False)\n(008)[-01] = None            (False)\n(009)[-01] = None            (False)\n(010)[-01] = None            (True)\n(011)[-01] = None            (False)\n(012)[012] = valor 12        (True)\n(013)[-01] = None            (False)\n(014)[-01] = None            (False)\n(015)[-01] = None            (False)\n(016)[-01] = None            (False)\n(017)[-01] = None            (False)\n(018)[-01] = None            (False)\n(019)[-01] = None            (False)\n"
          ]
        }
      ]
    },
    {
      "cell_type": "code",
      "metadata": {
        "trusted": true,
        "id": "KJOqpeOA4gnu",
        "outputId": "249b3899-1190-47b4-ccce-4ae20c2de25d"
      },
      "source": [
        "print(hash_table.get(10)) # removeu e portanto não retorna nada"
      ],
      "execution_count": 1133,
      "outputs": [
        {
          "output_type": "stream",
          "name": "stdout",
          "text": [
            "None\n"
          ]
        }
      ]
    },
    {
      "cell_type": "markdown",
      "metadata": {
        "id": "2XdM7QpX4gnu"
      },
      "source": [
        "Vamos agora analisar a diferença entre usar um número primo como tamanho para a tabela ou outro número qualquer.\n",
        "\n",
        "O primeiro exemplo adiciona 4 números que possuem divisores comuns (entre si e entre o tamanho da tabela). Perceba que há concentração e todos caem na mesma posição.\n",
        "\n",
        "O segundo exemplo usa um número primo, aumentando as chances de não ocorrer concentração, visto que não há mais propriedades comuns (divisores, no caso) entre os números e o tamanho da tabela."
      ]
    },
    {
      "cell_type": "code",
      "metadata": {
        "trusted": true,
        "id": "ZT4--wWF4gnu",
        "outputId": "d596de7e-4c95-4e78-a61f-a84110be37d6"
      },
      "source": [
        "# cria dicionario com tamanho não primo\n",
        "hash_table = SimpleHashTable(10)\n",
        "hash_table.add(10, 10)\n",
        "hash_table.add(20, 20)\n",
        "hash_table.add(30, 30)\n",
        "hash_table.add(40, 40)\n",
        "hash_table.print()"
      ],
      "execution_count": 1134,
      "outputs": [
        {
          "output_type": "stream",
          "name": "stdout",
          "text": [
            "(000)[010] = 10              (True)\n(001)[020] = 20              (True)\n(002)[030] = 30              (True)\n(003)[040] = 40              (True)\n(004)[-01] = None            (False)\n(005)[-01] = None            (False)\n(006)[-01] = None            (False)\n(007)[-01] = None            (False)\n(008)[-01] = None            (False)\n(009)[-01] = None            (False)\n"
          ]
        }
      ]
    },
    {
      "cell_type": "code",
      "metadata": {
        "trusted": true,
        "id": "PgvUJeSI4gnu",
        "outputId": "7aaafb87-b9ab-45e6-fff6-7c477d67d8a5"
      },
      "source": [
        "# cria dicionario com tamanho  primo\n",
        "hash_table = SimpleHashTable(13)\n",
        "hash_table.add(10, 10)\n",
        "hash_table.add(20, 20)\n",
        "hash_table.add(30, 30)\n",
        "hash_table.add(40, 40)\n",
        "hash_table.print()"
      ],
      "execution_count": 1135,
      "outputs": [
        {
          "output_type": "stream",
          "name": "stdout",
          "text": [
            "(000)[-01] = None            (False)\n(001)[040] = 40              (True)\n(002)[-01] = None            (False)\n(003)[-01] = None            (False)\n(004)[030] = 30              (True)\n(005)[-01] = None            (False)\n(006)[-01] = None            (False)\n(007)[020] = 20              (True)\n(008)[-01] = None            (False)\n(009)[-01] = None            (False)\n(010)[010] = 10              (True)\n(011)[-01] = None            (False)\n(012)[-01] = None            (False)\n"
          ]
        }
      ]
    },
    {
      "cell_type": "markdown",
      "metadata": {
        "id": "rjHyjtbk4gnv"
      },
      "source": [
        "Via de regra, números primos são tipicamente usados para oferecer certa uniformidade às colisões quando a população de chaves apresenta certas características matemáticas (tais como serem múltiplos de determinado número).\n",
        "\n",
        "Se o número de buckets (entradas na tabela) e a polulação de chaves compartilham um fator comum, todas as chaves da população irão ser mapeadas para um bucket que seja múltiplo desse fator comum. "
      ]
    },
    {
      "cell_type": "markdown",
      "metadata": {
        "id": "rxFz3Sho4gnv"
      },
      "source": [
        "------------------------\n",
        "Agora vamos encher a tabela!\n",
        "\n",
        "Perceba que alguns números e dados não serão inseridos..."
      ]
    },
    {
      "cell_type": "code",
      "metadata": {
        "trusted": true,
        "id": "sdJRgNpy4gnv",
        "outputId": "83acd63f-2db6-4944-b7aa-f32dbc8c160b"
      },
      "source": [
        "# perceba que alguns\n",
        "for i in range(1,20):\n",
        "    if hash_table.add(i, f\"valor {i}\") != -1:\n",
        "        print(f\"valor {i} inserido com sucesso\")\n",
        "    else:\n",
        "        print(f\"ERRO ao inserir valor {i}\")"
      ],
      "execution_count": 1136,
      "outputs": [
        {
          "output_type": "stream",
          "name": "stdout",
          "text": [
            "valor 1 inserido com sucesso\nvalor 2 inserido com sucesso\nvalor 3 inserido com sucesso\nvalor 4 inserido com sucesso\nvalor 5 inserido com sucesso\nvalor 6 inserido com sucesso\nvalor 7 inserido com sucesso\nvalor 8 inserido com sucesso\nvalor 9 inserido com sucesso\nERRO ao inserir valor 10\nERRO ao inserir valor 11\nERRO ao inserir valor 12\nERRO ao inserir valor 13\nERRO ao inserir valor 14\nERRO ao inserir valor 15\nERRO ao inserir valor 16\nERRO ao inserir valor 17\nERRO ao inserir valor 18\nERRO ao inserir valor 19\n"
          ]
        }
      ]
    },
    {
      "cell_type": "code",
      "metadata": {
        "trusted": true,
        "id": "XhRja5GZ4gnw",
        "outputId": "17402224-4624-45a6-ea7c-673075ed3082"
      },
      "source": [
        "hash_table.print()"
      ],
      "execution_count": 1137,
      "outputs": [
        {
          "output_type": "stream",
          "name": "stdout",
          "text": [
            "(000)[009] = valor 9         (True)\n(001)[040] = 40              (True)\n(002)[001] = valor 1         (True)\n(003)[002] = valor 2         (True)\n(004)[030] = 30              (True)\n(005)[003] = valor 3         (True)\n(006)[004] = valor 4         (True)\n(007)[020] = 20              (True)\n(008)[005] = valor 5         (True)\n(009)[006] = valor 6         (True)\n(010)[010] = 10              (True)\n(011)[007] = valor 7         (True)\n(012)[008] = valor 8         (True)\n"
          ]
        }
      ]
    },
    {
      "cell_type": "markdown",
      "metadata": {
        "id": "KT09ooez4gnw"
      },
      "source": [
        "-----------------\n",
        "Exercício 1\n",
        "====\n",
        "\n",
        "A classe SimpleHashTable fornecida pelo professor tem dois métodos vazios: \n",
        "\n",
        "- resize_on_new(): aumenta ou diminui a tabela, usando uma nova região de memória \n",
        "- resize_in_situ(): aumenta ou diminui a tabela, usando a mesma região de memória\n",
        "\n",
        "Elas servem, justamente, para você atualizar o tamanho da tabela quando ela fica cheia (aumentando-a) ou quando está muito vazia (diminuindo-a).\n",
        "\n",
        "Implemente essas duas funções. Depois, use-as para atualizar o tamanho da estrutura e execute novamente o código que insere 20 valores. Mostre que suas funções (de resize on new ou in situ) funcionam. "
      ]
    },
    {
      "cell_type": "code",
      "metadata": {
        "id": "JU9azeV54gnw"
      },
      "source": [
        "hash_table = hash_table.resize_in_situ(40)\n",
        "hash_table.print()"
      ],
      "execution_count": 1138,
      "outputs": [
        {
          "output_type": "stream",
          "name": "stdout",
          "text": [
            "(000)[-01] = None            (True)\n",
            "(001)[040] = 40              (True)\n",
            "(002)[001] = valor 1         (True)\n",
            "(003)[002] = valor 2         (True)\n",
            "(004)[030] = 30              (True)\n",
            "(005)[003] = valor 3         (True)\n",
            "(006)[004] = valor 4         (True)\n",
            "(007)[020] = 20              (True)\n",
            "(008)[005] = valor 5         (True)\n",
            "(009)[006] = valor 6         (True)\n",
            "(010)[010] = 10              (True)\n",
            "(011)[007] = valor 7         (True)\n",
            "(012)[008] = valor 8         (True)\n",
            "(013)[-01] = None            (False)\n",
            "(014)[-01] = None            (False)\n",
            "(015)[-01] = None            (False)\n",
            "(016)[-01] = None            (False)\n",
            "(017)[-01] = None            (False)\n",
            "(018)[-01] = None            (False)\n",
            "(019)[-01] = None            (False)\n",
            "(020)[-01] = None            (False)\n",
            "(021)[-01] = None            (False)\n",
            "(022)[-01] = None            (False)\n",
            "(023)[-01] = None            (False)\n",
            "(024)[-01] = None            (False)\n",
            "(025)[-01] = None            (False)\n",
            "(026)[-01] = None            (False)\n",
            "(027)[-01] = None            (False)\n",
            "(028)[-01] = None            (False)\n",
            "(029)[-01] = None            (False)\n",
            "(030)[-01] = None            (False)\n",
            "(031)[-01] = None            (False)\n",
            "(032)[-01] = None            (False)\n",
            "(033)[-01] = None            (False)\n",
            "(034)[-01] = None            (False)\n",
            "(035)[-01] = None            (False)\n",
            "(036)[-01] = None            (False)\n",
            "(037)[-01] = None            (False)\n",
            "(038)[-01] = None            (False)\n",
            "(039)[-01] = None            (True)\n"
          ]
        }
      ]
    },
    {
      "cell_type": "code",
      "execution_count": 1139,
      "metadata": {},
      "outputs": [
        {
          "output_type": "stream",
          "name": "stdout",
          "text": [
            "(000)[030] = 30              (True)\n(001)[001] = valor 1         (True)\n(002)[002] = valor 2         (True)\n(003)[003] = valor 3         (True)\n(004)[004] = valor 4         (True)\n(005)[005] = valor 5         (True)\n(006)[006] = valor 6         (True)\n(007)[007] = valor 7         (True)\n(008)[008] = valor 8         (True)\n(009)[-01] = None            (False)\n(010)[040] = 40              (True)\n(011)[010] = 10              (True)\n(012)[-01] = None            (False)\n(013)[-01] = None            (False)\n(014)[-01] = None            (False)\n(015)[-01] = None            (False)\n(016)[-01] = None            (False)\n(017)[-01] = None            (False)\n(018)[-01] = None            (False)\n(019)[-01] = None            (False)\n(020)[020] = 20              (True)\n(021)[-01] = None            (False)\n(022)[-01] = None            (False)\n(023)[-01] = None            (False)\n(024)[-01] = None            (False)\n(025)[-01] = None            (False)\n(026)[-01] = None            (False)\n(027)[-01] = None            (False)\n(028)[-01] = None            (False)\n(029)[-01] = None            (False)\n"
          ]
        }
      ],
      "source": [
        "hash_table = hash_table.resize_on_new(30)\n",
        "hash_table.print()"
      ]
    },
    {
      "cell_type": "markdown",
      "metadata": {
        "id": "FbIPfhlZ4gnw"
      },
      "source": [
        "------------\n",
        "## Funções de hash para outros tipos de dados\n",
        "\n",
        "Nossa SimpleHashTable foi feita de maneira a aceitar somente números inteiros como chaves. Mas, como vimos nos exemplos de Python, outros tipos de chave poderiam ser utilizados.\n",
        "\n",
        "Vamos criar (e testar) uma função que recebe uma string e a transforma em um número:"
      ]
    },
    {
      "cell_type": "code",
      "metadata": {
        "trusted": true,
        "id": "uhS9WhEn4gnw"
      },
      "source": [
        "# recebe uma string e devolve um numero que é o valor acumulado de seus códigos ASCII\n",
        "def hash_str1(string):\n",
        "    acc = 0\n",
        "    for i in range(0, len(string)):\n",
        "        acc = acc + ord(string[i])        \n",
        "    return acc"
      ],
      "execution_count": 1140,
      "outputs": []
    },
    {
      "cell_type": "code",
      "metadata": {
        "trusted": true,
        "id": "QKxYXMVK4gnx",
        "colab": {
          "base_uri": "https://localhost:8080/"
        },
        "outputId": "70b453c7-1191-454e-ef9c-e213b8dcc83b"
      },
      "source": [
        "hash_str1(\"aaaa\")"
      ],
      "execution_count": 1141,
      "outputs": [
        {
          "output_type": "execute_result",
          "data": {
            "text/plain": [
              "388"
            ]
          },
          "metadata": {},
          "execution_count": 1141
        }
      ]
    },
    {
      "cell_type": "code",
      "metadata": {
        "trusted": true,
        "id": "CVzdphyG4gnx",
        "colab": {
          "base_uri": "https://localhost:8080/"
        },
        "outputId": "36732961-7c57-4a17-ae81-6d54bb5bfd5c"
      },
      "source": [
        "hash_str1(\"abab\")"
      ],
      "execution_count": 1142,
      "outputs": [
        {
          "output_type": "execute_result",
          "data": {
            "text/plain": [
              "390"
            ]
          },
          "metadata": {},
          "execution_count": 1142
        }
      ]
    },
    {
      "cell_type": "code",
      "metadata": {
        "trusted": true,
        "id": "bpU-ivOa4gnx",
        "colab": {
          "base_uri": "https://localhost:8080/"
        },
        "outputId": "1c81ef71-9aa5-46a0-9a76-ae3198aee020"
      },
      "source": [
        "hash_str1(\"baab\")"
      ],
      "execution_count": 1143,
      "outputs": [
        {
          "output_type": "execute_result",
          "data": {
            "text/plain": [
              "390"
            ]
          },
          "metadata": {},
          "execution_count": 1143
        }
      ]
    },
    {
      "cell_type": "code",
      "metadata": {
        "trusted": true,
        "id": "E6J9HU8l4gny",
        "colab": {
          "base_uri": "https://localhost:8080/"
        },
        "outputId": "c1af2f87-310d-490b-8ece-4a9b1344bc01"
      },
      "source": [
        "hash_str1(\"zzzzzzzzzzzzzzzzzzzzzzzzzzzzzzzzzzzzzzzzzzzzzzzzzzzzzzzzzzzzzzzzzzzzzzzzzzzzzzzzzzzzzzzzzzzzzzzzzzz\")"
      ],
      "execution_count": 1144,
      "outputs": [
        {
          "output_type": "execute_result",
          "data": {
            "text/plain": [
              "12078"
            ]
          },
          "metadata": {},
          "execution_count": 1144
        }
      ]
    },
    {
      "cell_type": "markdown",
      "metadata": {
        "id": "Fr1Ot71T4gny"
      },
      "source": [
        "Perceba que essa função tem 2 problemas:\n",
        "\n",
        "1. toda chave que possui a mesma combinação de caracteres, em posições diferentes, gera a mesma chave!\n",
        "2. como os endereços gerados correspondem à soma de valores, essa soma pode ter diferentes tamanhos (casas). Não há um limite para seu tamanho, estando essa soma limitada ao tamanho dos números inteiros.\n",
        "\n",
        "O primeiro problema pode gerar colisões e seria interessante resolvê-lo\n",
        "\n",
        "O segundo problema não é tão grave, pois podemos aplicar uma segunda função hash que mapeia os números inteiros gerados para uma faixa de valores (tal como fizemos com a função módulo nos primeiros exemplos). Mas a função módulo pode gerar colisões demais e seria interessante termos uma função que evita isso já na geração do primeiro valor.\n",
        "\n",
        "Além disso, se desejássemos usar outros tipos de dados como chave, teríamos que pensar em uma função para cada tipo, cada uma com suas respectivas heurísticas para gerar números com pouca repetição e com controle de tamanho. O ideal é que toda chave gerasse uma sequencia de bits de tamanho fixo, independente do seu tipo. \n",
        "\n",
        "Vamos ver como fazer isso em Python. \n",
        "\n",
        "A função 'bin()' converte um número em uma sequencia de bits (em uma string):"
      ]
    },
    {
      "cell_type": "code",
      "metadata": {
        "trusted": true,
        "id": "o1368WYn4gny",
        "colab": {
          "base_uri": "https://localhost:8080/",
          "height": 35
        },
        "outputId": "a5914b94-6ac0-4e18-b199-df702c7120ed"
      },
      "source": [
        "bin(10)"
      ],
      "execution_count": 1145,
      "outputs": [
        {
          "output_type": "execute_result",
          "data": {
            "text/plain": [
              "'0b1010'"
            ]
          },
          "metadata": {},
          "execution_count": 1145
        }
      ]
    },
    {
      "cell_type": "code",
      "metadata": {
        "trusted": true,
        "id": "9U2GWD0-4gny",
        "colab": {
          "base_uri": "https://localhost:8080/",
          "height": 35
        },
        "outputId": "883ee9f9-dfba-457a-ac83-7b7cf025a17b"
      },
      "source": [
        "bin(166)"
      ],
      "execution_count": 1146,
      "outputs": [
        {
          "output_type": "execute_result",
          "data": {
            "text/plain": [
              "'0b10100110'"
            ]
          },
          "metadata": {},
          "execution_count": 1146
        }
      ]
    },
    {
      "cell_type": "markdown",
      "metadata": {
        "id": "ngaHNIwM4gny"
      },
      "source": [
        "Mas ela inclui o tipo da sequencia no início da string (veja que todos possuem '0b' no início)... Python faz isso para diferenciar sequencias de bits de sequencias em outras bases. Em hexadecimal o início seria '0h').\n",
        "\n",
        "Mas isso é fácil de resolver:"
      ]
    },
    {
      "cell_type": "code",
      "metadata": {
        "trusted": true,
        "id": "lAMUIKYH4gny",
        "colab": {
          "base_uri": "https://localhost:8080/",
          "height": 35
        },
        "outputId": "09f10602-2de8-43dd-fbc1-392fd2548f0d"
      },
      "source": [
        "#devolve uma sugstring iniciando na posição 2:\n",
        "bin(10)[2:]"
      ],
      "execution_count": 1147,
      "outputs": [
        {
          "output_type": "execute_result",
          "data": {
            "text/plain": [
              "'1010'"
            ]
          },
          "metadata": {},
          "execution_count": 1147
        }
      ]
    },
    {
      "cell_type": "markdown",
      "metadata": {
        "id": "4U4D-tzo4gnz"
      },
      "source": [
        "Mas a função 'bin()' não funciona para strings... :-("
      ]
    },
    {
      "source": [
        "# bin nao funciona para strings!\n",
        "bin(\"aaaa\")"
      ],
      "cell_type": "code",
      "metadata": {
        "trusted": true,
        "id": "xepS6fmY4gnz",
        "colab": {
          "base_uri": "https://localhost:8080/",
          "height": 182
        },
        "outputId": "3d6e7bc0-277e-4c3b-9358-4835e63a9a96"
      },
      "execution_count": null,
      "outputs": []
    },
    {
      "cell_type": "markdown",
      "metadata": {
        "id": "Rifkhk5T4gnz"
      },
      "source": [
        "Como sabemos programar, vamos criar uma que faça isso para nós! ;-)"
      ]
    },
    {
      "cell_type": "code",
      "metadata": {
        "trusted": true,
        "id": "3Arl2HDK4gnz"
      },
      "source": [
        "def str_to_bin(string):\n",
        "    resultado = \"\"\n",
        "    for c in string:\n",
        "        resultado = resultado + bin(ord(c))[2:]\n",
        "    return resultado   "
      ],
      "execution_count": 1148,
      "outputs": []
    },
    {
      "cell_type": "code",
      "metadata": {
        "trusted": true,
        "id": "tjuqxu_v4gnz"
      },
      "source": [
        "str_to_bin(\"aaaa\")"
      ],
      "execution_count": 1149,
      "outputs": [
        {
          "output_type": "execute_result",
          "data": {
            "text/plain": [
              "'1100001110000111000011100001'"
            ]
          },
          "metadata": {},
          "execution_count": 1149
        }
      ]
    },
    {
      "cell_type": "markdown",
      "metadata": {
        "id": "mBbEEqY_4gnz"
      },
      "source": [
        "Podemos agora lidar como problema do tamanho. Uma maneira de limitar o tamanho é considerarmos todos os elementos como sendo sequencias de 8bit e combinarmos essas sequencias usando operadores booleanos. \n",
        "\n",
        "O exemplo seguinte combina dois-a-dois os caracteres de uma string, gerando sequencias de 8 bits:"
      ]
    },
    {
      "cell_type": "code",
      "metadata": {
        "trusted": true,
        "id": "UVH-B2VZ4gnz"
      },
      "source": [
        "# não há função XOR para strings, então vamos criar uma:\n",
        "\n",
        "# _xormap é um dicionário de combinações de bits e seu resultado em 'xor'\n",
        "_xormap = {('0','1'):'1', ('1','0'):'1', ('1','1'):'0', ('0','0'):'0'}\n",
        "\n",
        "# usa uma list compreensions para agrupar duas strings em uma lista de pares ordenados (zip)\n",
        "# depois, para cada par (a,b) aplica o _xormap:\n",
        "def xor(x, y):\n",
        "    return ''.join([_xormap[a,b] for a,b in zip(x,y)])"
      ],
      "execution_count": 1150,
      "outputs": []
    },
    {
      "cell_type": "code",
      "metadata": {
        "trusted": true,
        "id": "9Shsnhv44gn0"
      },
      "source": [
        "# devolve uma sequencia de bits de tamanho fixo\n",
        "def hash_str2(string):\n",
        "    resultado = str_to_bin(string[0])\n",
        "    for i in range(1, len(string)): # do segundo em diante\n",
        "        str_tmp = str_to_bin(string[i])\n",
        "        resultado = xor(resultado, str_tmp) # combina 2 a 2 usando Xor (bit a bit)\n",
        "    return resultado"
      ],
      "execution_count": 1151,
      "outputs": []
    },
    {
      "cell_type": "markdown",
      "metadata": {
        "id": "uJ3wL3lw4gn0"
      },
      "source": [
        "Vamos testá-la:"
      ]
    },
    {
      "cell_type": "code",
      "metadata": {
        "trusted": true,
        "id": "EuV63DWq4gn0"
      },
      "source": [
        "hash_str2(\"aaaaaa\")"
      ],
      "execution_count": 1152,
      "outputs": [
        {
          "output_type": "execute_result",
          "data": {
            "text/plain": [
              "'0000000'"
            ]
          },
          "metadata": {},
          "execution_count": 1152
        }
      ]
    },
    {
      "cell_type": "code",
      "metadata": {
        "trusted": true,
        "id": "mRBAeAw34gn0"
      },
      "source": [
        "hash_str2(\"abaaaa\")"
      ],
      "execution_count": 1153,
      "outputs": [
        {
          "output_type": "execute_result",
          "data": {
            "text/plain": [
              "'0000011'"
            ]
          },
          "metadata": {},
          "execution_count": 1153
        }
      ]
    },
    {
      "cell_type": "code",
      "metadata": {
        "trusted": true,
        "id": "hUYbV4tG4gn0"
      },
      "source": [
        "hash_str2(\"abaaadddddddddda\")"
      ],
      "execution_count": 1154,
      "outputs": [
        {
          "output_type": "execute_result",
          "data": {
            "text/plain": [
              "'0000011'"
            ]
          },
          "metadata": {},
          "execution_count": 1154
        }
      ]
    },
    {
      "cell_type": "markdown",
      "metadata": {
        "id": "6FYIWArS4gn1"
      },
      "source": [
        "Mas ainda temos o problema de sequências que possuem os mesmos caracteres em posições diferentes gerarem o mesmo código:"
      ]
    },
    {
      "cell_type": "code",
      "metadata": {
        "trusted": true,
        "id": "NThQebMa4gn1"
      },
      "source": [
        "hash_str2(\"aabaaa\")"
      ],
      "execution_count": 1155,
      "outputs": [
        {
          "output_type": "execute_result",
          "data": {
            "text/plain": [
              "'0000011'"
            ]
          },
          "metadata": {},
          "execution_count": 1155
        }
      ]
    },
    {
      "cell_type": "markdown",
      "metadata": {
        "id": "ReTMauB44gn2"
      },
      "source": [
        "-----------------\n",
        "Exercício 2\n",
        "====\n",
        "\n",
        "1. Crie uma Hash Table que aceite Strings como chaves, a StringHashTable, que gera um número a partir da combinação dos bytes dos caracteres de uma string. Faça com que ela gere sequencias ou números diferentes para sequencias que tenham o mesmo conjunto de letras em posições diferentes (i.e., \"ABCD\" == \"BADC\" == \"DCBA\" ....). Observe os slides da disciplina para um insight de como isso poderia ser feito (hashing parte 2).\n",
        "\n",
        "2. E se precisássemos adicionar qualquer coisa como chave, como em Python, o que fazer? Tente criar uma estrutura que aceite qualquer coisa como chave: AnyHashTable."
      ]
    },
    {
      "cell_type": "code",
      "metadata": {
        "id": "XzIGDjR34gn3"
      },
      "source": [
        "class StringHashTable:\n",
        "    def __init__(self, size):\n",
        "        self.size = size\n",
        "        self.dicionario = [None] * size                 # None significa que o local está vago\n",
        "        self.conteudo   = [None] * size \n",
        "        self.used       = [False] * size                 \n",
        "        \n",
        "    # função recursiva que codifica uma string em natural \n",
        "    # usando hashing polinomial com constante a = 3;\n",
        "    # recebe a string (chave), a posição atual e a posição final da string\n",
        "    def codifica(self,chave,pos_curr,pos_fim):\n",
        "        if pos_curr == pos_fim:\n",
        "            return ord(chave[pos_curr])\n",
        "        else:\n",
        "            return ord(chave[pos_curr]) + (3 * (codifica(chave,(pos_curr+1),pos_fim)))\n",
        "\n",
        "    def add(self, chave, dado):\n",
        "        # codifica a string em número\n",
        "        codigo = self.codifica(chave,0,len(chave)-1)\n",
        "        posicao = posicao_inicial = codigo % self.size # usa o módulo a partir do número obtido\n",
        "        \n",
        "        if self.dicionario[posicao] == None:            \n",
        "            self.dicionario[posicao] = chave          \n",
        "            self.conteudo[posicao] = dado                \n",
        "            self.used[posicao] = True\n",
        "            return posicao\n",
        "        else:                                         \n",
        "            first_pass = True\n",
        "            while posicao != posicao_inicial or first_pass:\n",
        "                first_pass = False\n",
        "                posicao = (posicao + 1) % self.size   \n",
        "                if self.dicionario[posicao] == None:    \n",
        "                    self.dicionario[posicao] = chave  \n",
        "                    self.conteudo[posicao] = dado\n",
        "                    self.used[posicao] = True\n",
        "                    return posicao\n",
        "                    \n",
        "        if posicao == posicao_inicial:                \n",
        "            return -1                                 \n",
        "        else:   \n",
        "            return posicao                            \n",
        "    \n",
        "    def print(self):\n",
        "        for indice in range(0, self.size):\n",
        "            print(f\"({indice})[{self.dicionario[indice]}] = {str(self.conteudo[indice])} ({self.used[indice]})\")    \n",
        "    \n",
        "    def get(self, chave):\n",
        "        codigo = self.codifica(chave,0,len(chave)-1)\n",
        "        posicao_inicial = posicao = codigo % self.size\n",
        "        first_pass = True\n",
        "        \n",
        "        while self.dicionario[posicao] != chave and self.used and (posicao_inicial != posicao or first_pass):\n",
        "            first_pass = False\n",
        "            posicao = (posicao + 1) % self.size\n",
        "            \n",
        "        if self.dicionario[posicao] == chave:\n",
        "            return self.conteudo[posicao]\n",
        "        else:\n",
        "            return None \n",
        "    \n",
        "    def remove(self, chave):\n",
        "        codigo = self.codifica(chave,0,len(chave)-1)\n",
        "        posicao_inicial = posicao = codigo % self.size\n",
        "        first_pass = True\n",
        "        \n",
        "        while self.dicionario[posicao] != chave and self.used and (posicao_inicial != posicao or first_pass):\n",
        "            first_pass = False\n",
        "            posicao = (posicao + 1) % self.size\n",
        "            \n",
        "        if self.dicionario[posicao] == chave:\n",
        "            self.dicionario[posicao] = None\n",
        "            self.conteudo[posicao] = None\n",
        "            return posicao\n",
        "        else:\n",
        "            return None \n",
        "        return -1\n",
        "        \n",
        "    def resize_on_new(self, novo_tamanho):\n",
        "        nova = StringHashTable(novo_tamanho)\n",
        "        for i in range(1,self.size):\n",
        "            if self.dicionario[i] != None:\n",
        "                nova.add(self.dicionario[i], self.conteudo[i])\n",
        "        return nova\n",
        "\n",
        "    def resize_in_situ(self, novo_tamanho):\n",
        "        dicioaux = self.dicionario\n",
        "        contaux = self.conteudo\n",
        "        usedaux = self.used\n",
        "        tam = self.size\n",
        "\n",
        "        self = StringHashTable(novo_tamanho)\n",
        "        for i in range(0,tam):\n",
        "            self.dicionario[i] = dicioaux[i]\n",
        "            self.conteudo[i] = contaux[i]\n",
        "            self.used[i] = usedaux[i]\n",
        "        \n",
        "        for i in (0,tam):\n",
        "            if self.dicionario[i] != None:\n",
        "                pos = self.remove(self.dicionario[i])\n",
        "                self.add(self.dicionario[i], self.conteudo[i])\n",
        "            \n",
        "        return self\n",
        "    "
      ],
      "execution_count": 1156,
      "outputs": []
    },
    {
      "cell_type": "code",
      "execution_count": 1157,
      "metadata": {},
      "outputs": [
        {
          "output_type": "stream",
          "name": "stdout",
          "text": [
            "(0)[None] = None (False)\n(1)[None] = None (False)\n(2)[nome] = marthyna (True)\n(3)[None] = None (False)\n(4)[None] = None (False)\n(5)[None] = None (False)\n(6)[idade] = 20 (True)\n(7)[None] = None (False)\n(8)[None] = None (False)\n(9)[None] = None (False)\n(10)[None] = None (False)\n(11)[None] = None (False)\n(12)[cor] = vermelho (True)\n(13)[None] = None (False)\n(14)[None] = None (False)\n(15)[None] = None (False)\n(16)[None] = None (False)\n(17)[None] = None (False)\n(18)[None] = None (False)\n(19)[sexo] = feminino (True)\n(20)[None] = None (False)\n\n marthyna\n19 \n\n(0)[None] = None (False)\n(1)[nome] = marthyna (True)\n(2)[None] = None (False)\n(3)[None] = None (False)\n(4)[cor] = vermelho (True)\n(5)[None] = None (False)\n(6)[None] = None (False)\n(7)[None] = None (False)\n(8)[None] = None (False)\n(9)[None] = None (False)\n(10)[None] = None (False)\n(11)[None] = None (False)\n(12)[None] = None (False)\n(13)[None] = None (False)\n(14)[idade] = 20 (True)\n(15)[None] = None (False)\n(16)[None] = None (False)\n\n\n(0)[None] = None (False)\n(1)[nome] = marthyna (True)\n(2)[None] = None (False)\n(3)[None] = None (False)\n(4)[cor] = vermelho (True)\n(5)[None] = None (False)\n(6)[None] = None (False)\n(7)[None] = None (False)\n(8)[None] = None (False)\n(9)[None] = None (False)\n(10)[None] = None (False)\n(11)[None] = None (False)\n(12)[None] = None (False)\n(13)[None] = None (False)\n(14)[idade] = 20 (True)\n(15)[None] = None (False)\n(16)[None] = None (False)\n(17)[None] = None (False)\n(18)[None] = None (False)\n(19)[None] = None (False)\n(20)[None] = None (False)\n"
          ]
        }
      ],
      "source": [
        "string_table = StringHashTable(21)\n",
        "string_table.add('nome','marthyna')\n",
        "string_table.add('idade','20')\n",
        "string_table.add('sexo','feminino')\n",
        "string_table.add('cor','vermelho')\n",
        "string_table.print()\n",
        "\n",
        "print('\\n',string_table.get('nome'))\n",
        "print(string_table.remove('sexo'),'\\n')\n",
        "string_table = string_table.resize_on_new(17)\n",
        "string_table.print()\n",
        "print('\\n')\n",
        "string_table = string_table.resize_in_situ(21)\n",
        "string_table.print()\n"
      ]
    },
    {
      "cell_type": "code",
      "execution_count": 1158,
      "metadata": {},
      "outputs": [],
      "source": [
        "class AnyHashTable:\n",
        "    def __init__(self, size):\n",
        "        self.size = size\n",
        "        self.dicionario = [None] * size                 \n",
        "        self.conteudo   = [None] * size \n",
        "        self.used       = [False] * size                 \n",
        "        \n",
        "    # função recursiva que codifica tipos iterativos e strings em natural\n",
        "    # recebe a chave e de acordo com o tipo do elemento dentro da lista/string, \n",
        "    # usa codificação polinomial com a função ord ou não\n",
        "    def codifica(self,chave,pos_curr,pos_fim):\n",
        "        if pos_curr == pos_fim:\n",
        "            if isinstance(chave[pos_curr], str):\n",
        "                return ord(chave[pos_curr])\n",
        "            else:\n",
        "                return chave[pos_curr]\n",
        "        else:\n",
        "            if isinstance(chave[pos_curr], str):\n",
        "                return ord(chave[pos_curr]) + (3 * (self.codifica(chave,(pos_curr+1),pos_fim)))\n",
        "            else:\n",
        "                return chave[pos_curr] + (3 * (self.codifica(chave,(pos_curr+1),pos_fim)))\n",
        "\n",
        "    def add(self, chave, dado):\n",
        "        posicao = posicao_inicial = 0\n",
        "        # leva em consideração o tipo da chave:\n",
        "        # string/lista/tupla = hashing polinomial\n",
        "        # números = pula codificação e vai pro módulo direto\n",
        "        if (isinstance(chave, str)) or (isinstance(chave, list)) or (isinstance(chave, tuple)):\n",
        "            codigo = self.codifica(chave,0,len(chave)-1) \n",
        "            posicao = posicao_inicial = codigo % self.size \n",
        "        else:\n",
        "            posicao = posicao_inicial = chave % self.size \n",
        "        \n",
        "        if self.dicionario[posicao] == None:            \n",
        "            self.dicionario[posicao] = chave          \n",
        "            self.conteudo[posicao] = dado             \n",
        "            self.used[posicao] = True\n",
        "            return posicao\n",
        "        else:                                         \n",
        "            first_pass = True\n",
        "            while posicao != posicao_inicial or first_pass:\n",
        "                first_pass = False\n",
        "                posicao = (posicao + 1) % self.size   \n",
        "                if self.dicionario[posicao] == None:    \n",
        "                    self.dicionario[posicao] = chave  \n",
        "                    self.conteudo[posicao] = dado\n",
        "                    self.used[posicao] = True\n",
        "                    return posicao\n",
        "                    \n",
        "        if posicao == posicao_inicial:                \n",
        "            return -1                                 \n",
        "        else:   \n",
        "            return posicao                            \n",
        "    \n",
        "    def print(self):\n",
        "        for indice in range(0, self.size):\n",
        "            print(f\"({indice})[{self.dicionario[indice]}] = {str(self.conteudo[indice])} ({self.used[indice]})\")    \n",
        "    \n",
        "    def get(self, chave):\n",
        "        posicao = posicao_inicial = 0\n",
        "        if (isinstance(chave, str)) or (isinstance(chave, list)) or (isinstance(chave, tuple)):\n",
        "            codigo = self.codifica(chave,0,len(chave)-1) \n",
        "            posicao = posicao_inicial = codigo % self.size \n",
        "        else:\n",
        "            posicao = posicao_inicial = chave % self.size \n",
        "        \n",
        "        first_pass = True\n",
        "        \n",
        "        while self.dicionario[posicao] != chave and self.used and (posicao_inicial != posicao or first_pass):\n",
        "            first_pass = False\n",
        "            posicao = (posicao + 1) % self.size\n",
        "            \n",
        "        if self.dicionario[posicao] == chave:\n",
        "            return self.conteudo[posicao]\n",
        "        else:\n",
        "            return None\n",
        "    \n",
        "    def remove(self, chave):\n",
        "        posicao = posicao_inicial = 0\n",
        "        if (isinstance(chave, str)) or (isinstance(chave, list)) or (isinstance(chave, tuple)):\n",
        "            codigo = self.codifica(chave,0,len(chave)-1) \n",
        "            posicao = posicao_inicial = codigo % self.size \n",
        "        else:\n",
        "            posicao = posicao_inicial = chave % self.size \n",
        "        \n",
        "        first_pass = True\n",
        "        \n",
        "        while self.dicionario[posicao] != chave and self.used and (posicao_inicial != posicao or first_pass):\n",
        "            first_pass = False\n",
        "            posicao = (posicao + 1) % self.size\n",
        "            \n",
        "        if self.dicionario[posicao] == chave:\n",
        "            self.dicionario[posicao] = None\n",
        "            self.conteudo[posicao] = None\n",
        "            return posicao\n",
        "        else:\n",
        "            return None \n",
        "        return -1\n",
        "        \n",
        "    def resize_on_new(self, novo_tamanho):\n",
        "        nova = AnyHashTable(novo_tamanho)\n",
        "        for i in range(1,self.size):\n",
        "            if self.dicionario[i] != None:\n",
        "                nova.add(self.dicionario[i], self.conteudo[i])\n",
        "        return nova\n",
        "\n",
        "    def resize_in_situ(self, novo_tamanho):\n",
        "        dicioaux = self.dicionario\n",
        "        contaux = self.conteudo\n",
        "        usedaux = self.used\n",
        "        tam = self.size\n",
        "\n",
        "        self = AnyHashTable(novo_tamanho)\n",
        "        for i in range(0,tam):\n",
        "            self.dicionario[i] = dicioaux[i]\n",
        "            self.conteudo[i] = contaux[i]\n",
        "            self.used[i] = usedaux[i]\n",
        "        \n",
        "        for i in (0,tam):\n",
        "            if self.dicionario[i] != None:\n",
        "                pos = self.remove(self.dicionario[i])\n",
        "                self.add(self.dicionario[i], self.conteudo[i])\n",
        "            \n",
        "        return self\n",
        "    "
      ]
    },
    {
      "cell_type": "code",
      "execution_count": 1161,
      "metadata": {},
      "outputs": [
        {
          "output_type": "stream",
          "name": "stdout",
          "text": [
            "(0)[None] = None (False)\n(1)[None] = None (False)\n(2)[None] = None (False)\n(3)[None] = None (False)\n(4)[None] = None (False)\n(5)[None] = None (False)\n(6)[None] = None (False)\n(7)[None] = None (False)\n(8)[None] = None (False)\n(9)[None] = None (False)\n(10)[None] = None (False)\n(11)[None] = None (False)\n(12)[None] = None (False)\n(13)[['a', 'b', 'c', 'd']] = vermelho (True)\n(14)[nome] = marthyna (True)\n(15)[None] = None (False)\n(16)[(1, 2, 3, 4)] = feminino (True)\n(17)[None] = None (False)\n(18)[None] = None (False)\n(19)[None] = None (False)\n(20)[20] = 20 (True)\n\n feminino\n13 \n\n(0)[None] = None (False)\n(1)[None] = None (False)\n(2)[None] = None (False)\n(3)[nome] = marthyna (True)\n(4)[20] = 20 (True)\n(5)[None] = None (False)\n(6)[(1, 2, 3, 4)] = feminino (True)\n(7)[None] = None (False)\n(8)[None] = None (False)\n(9)[None] = None (False)\n(10)[None] = None (False)\n(11)[None] = None (False)\n(12)[None] = None (False)\n(13)[None] = None (False)\n(14)[None] = None (False)\n(15)[None] = None (False)\n(16)[None] = None (False)\n\n\n(0)[None] = None (False)\n(1)[None] = None (False)\n(2)[None] = None (False)\n(3)[nome] = marthyna (True)\n(4)[20] = 20 (True)\n(5)[None] = None (False)\n(6)[(1, 2, 3, 4)] = feminino (True)\n(7)[None] = None (False)\n(8)[None] = None (False)\n(9)[None] = None (False)\n(10)[None] = None (False)\n(11)[None] = None (False)\n(12)[None] = None (False)\n(13)[None] = None (False)\n(14)[None] = None (False)\n(15)[None] = None (False)\n(16)[None] = None (False)\n(17)[None] = None (False)\n(18)[None] = None (False)\n(19)[None] = None (False)\n(20)[None] = None (False)\n"
          ]
        }
      ],
      "source": [
        "any_table = AnyHashTable(21)\n",
        "any_table.add('nome','marthyna')\n",
        "any_table.add(20,'20')\n",
        "any_table.add((1,2,3,4),'feminino')\n",
        "any_table.add(['a','b','c','d'],'vermelho')\n",
        "any_table.print()\n",
        "\n",
        "print('\\n',any_table.get((1,2,3,4)))\n",
        "print(any_table.remove(['a','b','c','d']),'\\n')\n",
        "any_table = any_table.resize_on_new(17)\n",
        "any_table.print()\n",
        "print('\\n')\n",
        "any_table = any_table.resize_in_situ(21)\n",
        "any_table.print()\n"
      ]
    }
  ]
}