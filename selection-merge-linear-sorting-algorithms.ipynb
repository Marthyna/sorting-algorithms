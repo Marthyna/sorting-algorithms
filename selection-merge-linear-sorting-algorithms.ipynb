{
  "nbformat": 4,
  "nbformat_minor": 0,
  "metadata": {
    "kernelspec": {
      "name": "python3",
      "display_name": "Python 3.8.2 32-bit",
      "metadata": {
        "interpreter": {
          "hash": "bda073503229fefdaf75bc3b7738415ceeefb3d799842a35a2440f1c081f5a88"
        }
      }
    },
    "language_info": {
      "codemirror_mode": {
        "name": "ipython",
        "version": 3
      },
      "file_extension": ".py",
      "mimetype": "text/x-python",
      "name": "python",
      "nbconvert_exporter": "python",
      "pygments_lexer": "ipython3",
      "version": "3.8.2-final"
    },
    "colab": {
      "name": "labCPD-03-Python.ipynb",
      "provenance": [],
      "collapsed_sections": []
    }
  },
  "cells": [
    {
      "cell_type": "markdown",
      "metadata": {
        "id": "LTM-tQSzRO2b"
      },
      "source": [
        "# Disciplina de Classificação e Pesquisa de Dados\n",
        " \n",
        "# Laboratório #3\n",
        " \n",
        "### Implementação (em Python) dos principais algoritmos de classificação por seleção, intercalação e lineares."
      ]
    },
    {
      "cell_type": "markdown",
      "metadata": {
        "id": "AkA1bR3jUN8v"
      },
      "source": [
        "## Parte I: algoritmos de seleção (Heapsort e relacionados)\n",
        "\n",
        "A seguir você encontra uma versão local do algoritmo heapsort. Ele utiliza o buildheap que constrói um max-heap a partir do array passado. Você também encontra funções auxiliares para identificar o filho esquerdo, o filho direito e o pai de um elemento no array.\n",
        "\n",
        "O exercício consiste em implementar a função heapify, que é usada pelos algoritmos buildheap e heapsort. Também deve implementar a função heap_max, extract_max e insert_heap.\n",
        "\n",
        "Analise o desempenho delas (tempo, comparações e trocas), em diferentes situações. \n",
        "\n",
        "Desafios: \n",
        "1. implemente uma função build-min-heap que constrói um min-heap. \n",
        "2. elabore a função iteractive-build-heap, que constrói um heap inserindo elemento por elemento em um array auxiliar (ou seja, não é local). Analise qual versão apresenta melhor desempenho.\n",
        "3. elabore uma função build-heap que chama o heapify do início até o último nodo folha, ao invés da função que vimos, que chama do último nodo folha até o início. Analise qual versão apresenta melhor desempenho."
      ]
    },
    {
      "cell_type": "code",
      "metadata": {
        "id": "nOWvfug_RO2l"
      },
      "source": [
        "# Bibliotecas necessárias ao script:\n",
        "import numpy as np  # importa a biblioteca numpy (que trabalha com arrays numéricos)\n",
        "import time         # importa a biblioteca utilizada para contar o tempo\n",
        "import pandas as pd # biblioteca para trabalhar com data frames\n",
        "import math\n",
        "from numpy import random\n",
        " \n",
        "################################################\n",
        "# Algoritmos de ordenação por Seleção\n",
        "################################################\n",
        " \n",
        "# Seleção direta \n",
        "def selection_sort(array): \n",
        "    trocas = comparacoes = 0\n",
        "    for i in range(0, len(array)-1):                                            \n",
        "        menorchave = i\n",
        "        for j in range(i, len(array)):                   \n",
        "            comparacoes = comparacoes + 1\n",
        "            if array[j] < array[menorchave]: \n",
        "                menorchave = j\n",
        "        if menorchave != i:\n",
        "            array[i], array[menorchave] = array[menorchave], array[i]\n",
        "            trocas = trocas + 1        \n",
        "    return {'trocas':trocas, 'comparacoes':comparacoes}\n",
        " \n",
        "# Heapsort e funções auxiliares (testado na parte IV)\n",
        "def heap_sort(array):\n",
        "    log_operacoes = {'trocas':0, 'comparacoes':0}  \n",
        "    heap_size = len(array)\n",
        "    qtd_elementos = heap_size-1\n",
        "    \n",
        "    build_heap_auxiliar(array, log_operacoes) \n",
        "    \n",
        "    for i in range(qtd_elementos, 0, -1):\n",
        "        log_operacoes['trocas'] = log_operacoes['trocas'] + 1\n",
        "        array[i], array[0] = array[0], array[i]          # troca\n",
        "        heap_size = heap_size - 1\n",
        "        heapify(array, 0, heap_size, log_operacoes) \n",
        "        \n",
        "    return log_operacoes\n",
        " \n",
        "# igual a seguinte, mas faz o registro do log com base em operações anteriores e posteriores para que o heap_sort conte-as direito\n",
        "def build_heap_auxiliar(array, log_operacoes):\n",
        "    ultimo_pai = math.floor(len(array)/2)-1\n",
        "    for indice in range(ultimo_pai, -1, -1):                                    # range entre [ultimo_pai e -1| (i.e., 0) \n",
        "        heapify(array, indice, len(array), log_operacoes)\n",
        "    return log_operacoes\n",
        " \n",
        "# usada para construir heaps (fora do heap sort):\n",
        "def build_heap(array):\n",
        "    log_operacoes = {'trocas':0, 'comparacoes':0}  \n",
        "    ultimo_pai = math.floor(len(array)/2)-1\n",
        "    for indice in range(ultimo_pai, -1, -1):                                    # range entre [ultimo_pai e -1| (i.e., 0) \n",
        "        heapify(array, indice, len(array), log_operacoes)\n",
        "    return log_operacoes\n",
        " \n",
        "def filho_e(array, elemento):\n",
        "    return math.floor(elemento*2+1)\n",
        " \n",
        "def filho_d(array, elemento):\n",
        "    return math.floor(elemento*2+2)\n",
        " \n",
        "def pai(array, elemento):\n",
        "    return math.floor(elemento/2)\n",
        " \n",
        "################################################\n",
        "# Implementação dos seus algoritmos:\n",
        "   \n",
        "# heapify: verifica se o elemento na posição passada é um heap e se não for transforma-o em um\n",
        "# parâmetros: array, índice do elemento a heapificar, tamanho do heap, dicionário de logs\n",
        "def heapify(array, elemento, heap_size, log_operacoes):\n",
        "    esq = filho_e(array, elemento)\n",
        "    dir = filho_d(array, elemento)\n",
        "    maior = elemento\n",
        "\n",
        "    # Verifica se filho esquerdo da raíz existe e se \n",
        "    # é maior que ela\n",
        "    log_operacoes['comparacoes'] = log_operacoes['comparacoes'] + 1\n",
        "    if esq < heap_size and array[maior] < array[esq]: \n",
        "        maior = esq \n",
        "\n",
        "    # Mesma coisa pro filho direito da raiz\n",
        "    log_operacoes['comparacoes'] = log_operacoes['comparacoes'] + 1 \n",
        "    if dir < heap_size and array[maior] < array[dir]: \n",
        "        maior = dir \n",
        "\n",
        "    # Troca a raiz se precisar\n",
        "    log_operacoes['comparacoes'] = log_operacoes['comparacoes'] + 1 \n",
        "    if maior != elemento: \n",
        "        array[elemento],array[maior] = array[maior],array[elemento] \n",
        "        log_operacoes['trocas'] = log_operacoes['trocas'] + 1 \n",
        "        # Faz Heapify na raiz \n",
        "        heapify(array, maior, heap_size, log_operacoes)\n",
        "    return log_operacoes\n",
        " \n",
        "# retorna o maior elemento do heap\n",
        "def heap_max(heap):\n",
        "    log_operacoes = {'trocas':0, 'comparacoes':0}\n",
        "    max = heap[0]\n",
        "    return [log_operacoes,max] \n",
        "\n",
        "# Função para extrair o maior elemento do heap    \n",
        "def extract_max(heap):\n",
        "    log_operacoes = {'trocas':0, 'comparacoes':0}\n",
        "    heap_size = len(heap) # tamanho do heap\n",
        "\n",
        "    if heap_size < 1: # se menor que 1, retorna 0\n",
        "        max = 0\n",
        "        return {max, log_operacoes}\n",
        "    \n",
        "    max = heap[0] # o maior é o primeiro\n",
        "    heap[0] = heap[heap_size-1] # o novo primeiro é o último\n",
        "    log_operacoes['trocas'] = log_operacoes['trocas'] + 1 \n",
        "    \n",
        "    heap_size = heap_size - 1\n",
        "    # reordena o heap\n",
        "    heapify(heap, 0, heap_size, log_operacoes) \n",
        "    return {'max': max, 'log': log_operacoes}\n",
        " \n",
        "# Função para inserir num heap\n",
        "def heap_insert(array, elemento):\n",
        "    heap_size = len(array) \n",
        "    log_operacoes = {'trocas':0, 'comparacoes':0}\n",
        "    # insere o elemento no ínicio do heap\n",
        "    array = np.insert(array, 0, elemento, axis=None)\n",
        "    # heapifica novamente\n",
        "    heapify(array, 0, heap_size, log_operacoes)\n",
        "    return [log_operacoes,array]\n",
        "\n",
        "# Função para heapificar um array, de modo a criar um min-heap\n",
        "def min_heapify(array, elemento, heap_size, log_operacoes):\n",
        "    esq = filho_e(array, elemento)\n",
        "    dir = filho_d(array, elemento)\n",
        "    menor = elemento\n",
        "\n",
        "    # Verifica se filho esquerdo da raíz existe e se \n",
        "    # é menor que ela\n",
        "    log_operacoes['comparacoes'] = log_operacoes['comparacoes'] + 1\n",
        "    if esq < heap_size and array[menor] > array[esq]: \n",
        "        menor = esq \n",
        "\n",
        "    # Mesma coisa pro filho direito da raiz\n",
        "    log_operacoes['comparacoes'] = log_operacoes['comparacoes'] + 1 \n",
        "    if dir < heap_size and array[menor] > array[dir]: \n",
        "        menor = dir \n",
        "\n",
        "    # Troca a raiz se precisar\n",
        "    log_operacoes['comparacoes'] = log_operacoes['comparacoes'] + 1 \n",
        "    if menor != elemento: \n",
        "        array[elemento],array[menor] = array[menor],array[elemento] \n",
        "        log_operacoes['trocas'] = log_operacoes['trocas'] + 1 \n",
        "        # Faz Heapify na raiz \n",
        "        min_heapify(array, menor, heap_size, log_operacoes)\n",
        "    return log_operacoes\n",
        "    \n",
        "# constrói um min-heap a partir de um array\n",
        "def build_min_heap(array):\n",
        "    log_operacoes = {'trocas':0, 'comparacoes':0}  \n",
        "    ultimo_pai = math.floor(len(array)/2)-1\n",
        "    for indice in range(ultimo_pai, -1, -1):                                    \n",
        "        min_heapify(array, indice, len(array), log_operacoes)\n",
        "    return log_operacoes\n",
        "\n",
        "# build-heap iterativo não local\n",
        "def iteractive_build_heap(arr):\n",
        "    n = len(arr)  \n",
        "    aux = arr\n",
        "    log_operacoes = {'trocas':0, 'comparacoes':0}\n",
        "    for i in range(n):       \n",
        "        log_operacoes['comparacoes'] = log_operacoes['comparacoes'] + 1       \n",
        "        if aux[i] > aux[pai(aux,i)]: \n",
        "            j = i  \n",
        "            log_operacoes['comparacoes'] = log_operacoes['comparacoes'] + 1 \n",
        "            while aux[j] > aux[pai(aux,j)]: \n",
        "                log_operacoes['comparacoes'] = log_operacoes['comparacoes'] + 1 \n",
        "                log_operacoes['trocas'] = log_operacoes['trocas'] + 1 \n",
        "                aux[j], aux[pai(aux,j)] = aux[pai(aux,j)], arr[j] \n",
        "                j = pai(aux,j)\n",
        "    return log_operacoes\n",
        "\n",
        "# Sorting usando min-heap (testado na parte IV com os demais algoritmos de sorting)\n",
        "def minHeapSort(array):\n",
        "    log_operacoes = {'trocas':0, 'comparacoes':0}  \n",
        "    heap_size = len(array)\n",
        "    qtd_elementos = heap_size-1\n",
        "    \n",
        "    log_operacoes = build_min_heap(array) \n",
        "    \n",
        "    for i in range(qtd_elementos, 0, -1):\n",
        "        log_operacoes['trocas'] = log_operacoes['trocas'] + 1\n",
        "        array[i], array[0] = array[0], array[i]          \n",
        "        heap_size = heap_size - 1\n",
        "        min_heapify(array, 0, heap_size, log_operacoes) \n",
        "        \n",
        "    return log_operacoes\n",
        "\n",
        "# Heapsort pra testar a build-heap iterativa (testado na parte IV com os demais algoritmos de sorting)\n",
        "def iterative_heap_sort(array):\n",
        "    log_operacoes = {'trocas':0, 'comparacoes':0}  \n",
        "    heap_size = len(array)\n",
        "    qtd_elementos = heap_size-1\n",
        "    \n",
        "    log_operacoes = iteractive_build_heap(array) \n",
        "    \n",
        "    for i in range(qtd_elementos, 0, -1):\n",
        "        log_operacoes['trocas'] = log_operacoes['trocas'] + 1\n",
        "        array[i], array[0] = array[0], array[i]          # troca\n",
        "        heap_size = heap_size - 1\n",
        "        heapify(array, 0, heap_size, log_operacoes) \n",
        "        \n",
        "    return log_operacoes\n"
      ],
      "execution_count": 1151,
      "outputs": []
    },
    {
      "cell_type": "code",
      "execution_count": 1152,
      "metadata": {},
      "outputs": [
        {
          "output_type": "stream",
          "name": "stdout",
          "text": [
            "[6 5 5 4 5 1 1 2 1 2]\nComparacoes:  25\nTrocas:  9\nTempo:  0.0\n\n [100 100  97  94  92  79  90  93  73  92  74  79  77  73  91  70  60  71\n  68  85  60  63  54  73  77  77  52  65  64  89  65  68  34  43  63  68\n  27  53  52  80  48  49  46  47  40  31  67  70  70  59  13  37   2  29\n  25  17  31  58   1  25  10  28   7  11  26   8  31  43  29  54   3  35\n   6  12   1   7  37  34  27  13  14  12  36  49  28  12  41  44   4  15\n  19  17  19  44  43  57   9  59  27  56]\nComparacoes:  264\nTrocas:  114\nTempo:  0.0\n\n [999 997 994 995 989 993 990 988 976 987 973 990 989 983 981 983 975 955\n 980 985 966 973 955 964 987 967 968 970 966 976 958 945 932 949 902 913\n 972 953 977 984 961 947 959 967 934 950 959 963 978 976 904 946 948 853\n 966 963 951 953 960 975 925 910 919 896 919 924 907 913 827 877 867 880\n 940 943 927 898 757 925 981 984 930 951 838 902 950 923 857 881 922 924\n 897 942 905 914 929 892 959 976 972 842 752 877 865 928 669 899 843 824\n 918 930 928 908 836 923 947 940 808 811 948 953 901 787 662 888 903 395\n 873 873 872 738 856 804 803 868 776 890 818 820 817 838 775 821 734 801\n 721 775 654 905 625 819 599 774 696 660 805 837 699 963 898 966 870 928\n 743 763 760 833 494 832 948 791 880 900 756 838 809 765 790 780 682 813\n 608 858 719 888 663 844 857 703 833 851 831 862 691 786 804 708 717 890\n 643 722 679 628 857 831 684 793 884 891 605 612 789 857 690 702 735 774\n 816 880 782 854 916 913 655 721 747 725 848 857 632 905 875 715 647 797\n 785 649 845 694 686 917 658 873 727 678 613 626 821 834 823 902 212 376\n 767 741 735 728 772 860 602 728 597 620 690 435 442 526 778 779 379 774\n 842 664 656 742 645 705 325 810 429 196 295 763 753 724 442 532 650 796\n 719 523 667 761 516 620 729 902 399 402 609 809 303 546 305 597 245 603\n 335 655 776 428 539 836 664 561 923 619 850 850 657 697 399 634 653 914\n 182 613 666 400 445 478 665 540 397 436 563 724 355 802 682 690 864 765\n 486 722 367 660 580 782 385 773 345 531 734 617 680 725 475 635 417 753\n 507 481 651 684 415 594 424 803 499 534 321 685 543 855 353 702 430 531\n 622 522 549 451 596 752 327 620 723 755 681 695 595 646 464 568 724 881\n 427 448 489 660 404 240 555 562 835 750 660 622 549 419 492 611 680 771\n 539 888 372 496 334 598 623 712 618 700 421 559 564 683 449 732 578 484\n 470 585 446 679 703 492 805 461 640 432 848 691 354 504 502 689 276 616\n 394 510 548 636 699 819 598 482 438 867 740 660 478 546 535 318 403 711\n 660 781 268 635 503 809 630 604 341 654 697 685 292 578 667 643 399 478\n 668 646 398 503 385 521 402 616 641 812 514 260  58 802  87 172 217 316\n 333 607 702 722  44 115 560 534  93 662  16 341 106 120  34 323  14 510\n 398 405  61 419 359  79 136  73 433 420  72 540 122 414 123 362  70 621\n 323 414 391 572   8 338 327 443 349 511 511 605 160 295 253 318  89 151\n 129 180  84 246  93 584 230 703 191 603  97 285 140 511   8 252 245 149\n 153 642 212 236 273 330 360 460  61 431 283 467 125 591  69 450 120 337\n 308 346 343 293 336 597 165 158 342  51 156 172 110 210   1  59  35 123\n 262 289 232 359 198 471  92 115 156 280 350 674  44 443  51 261  78 682\n 138 417   5 499 147 524  86 248 287  23 171 303 490 578 281 465 316 554\n  41 129 564 297 234 339 283 286 428 430 280 339 121 402 310 148 287  71\n 143 218 337 457 572 692  21 132 101 204 131  94 435 631 321 409  54 354\n  67 386 488 301 179 344 240 302 202  41 225 691 205 353 127 565 176 277\n 198 230 113 408 220 610  64 201 171 337  99 176 159 299  62 123 442 513\n  98 132  12 278 464 510 269 188  67 306 319  21  43 121 152 453  82 330\n 114   8  57 261 147 307  58 264 103 599  92 339 230 622 104 405 148 334\n 410 584 424 418 376 443 283 406  45 310 115 270 262 226 364 146 187 718\n 499 647   1 292 357 448 154 401 137 180   8  84 112 305 289 467   9 363\n 127  42  65 181 259 463 327 648  98 295 105 202 144 324 119 415 399 629\n 670 105 464 353 376 621 166 420  45 347 286   2  17  97 196 558 469 537\n 174 246 162 615  49 297 267 455  77 203 476 433 287 535 168 536  58 505\n 211 390 291 261 164 357 403  83 493 576  85  81 237 304 183 264 230 409\n  58 135  92 463   1 426 176 526  59 243 403 418 141 157 144 444  77 284\n 412 200 317 250 613 635 114 343 331 206  49 298 568 597  71 258 235 236\n 308 386 296 418 173 400  33 489 354 545 806 496 320 505  78 447 316 436\n 361 563 319 483 525 160  96 255 166   8  70 380 304 101 332 398 394 461\n 389 541 299 713  28  53 305 202 146 369 232 158   7 369 475 294 177  48\n 137 527 132 539  39 381  90 223 372 507 189 419 583 111 123  63 392 433\n 345 390 496 141  32  50 149 437  97 257 198 332 250 372  92 360   5 205\n 114 630 120 188 245 210   8  42 180 428]\nComparacoes:  2963\nTrocas:  1325\nTempo:  0.015625\n"
          ]
        }
      ],
      "source": [
        "# Testando o iteractive_build_heap para 3 arrays diferentes\n",
        "log_operacoes = {'trocas':0, 'comparacoes':0}\n",
        "tempo = time.process_time()\n",
        "\n",
        "array1 = random.randint(1, 11, size=10)\n",
        "array2 = random.randint(1, 101, size=100)\n",
        "array3 = random.randint(1, 1001, size=1000)\n",
        "\n",
        "log_operacoes = iteractive_build_heap(array1)\n",
        "t = time.process_time() - tempo\n",
        "print(array1)\n",
        "print(\"Comparacoes: \",log_operacoes['comparacoes'])\n",
        "print(\"Trocas: \",log_operacoes['trocas'])\n",
        "print(\"Tempo: \",t)\n",
        "\n",
        "log_operacoes = iteractive_build_heap(array2)\n",
        "t = time.process_time() - tempo\n",
        "print(\"\\n\",array2)\n",
        "print(\"Comparacoes: \",log_operacoes['comparacoes'])\n",
        "print(\"Trocas: \",log_operacoes['trocas'])\n",
        "print(\"Tempo: \",t)\n",
        "\n",
        "log_operacoes = iteractive_build_heap(array3)\n",
        "t = time.process_time() - tempo\n",
        "print(\"\\n\",array3)\n",
        "print(\"Comparacoes: \",log_operacoes['comparacoes'])\n",
        "print(\"Trocas: \",log_operacoes['trocas'])\n",
        "print(\"Tempo: \",t)"
      ]
    },
    {
      "cell_type": "code",
      "metadata": {
        "colab": {
          "base_uri": "https://localhost:8080/"
        },
        "id": "XtqdXgNiRO2n",
        "outputId": "df9faced-bd21-46f6-e8d5-f313f591c9f4"
      },
      "source": [
        "# Testando o build_heap para 3 arrays diferentes\n",
        "log_operacoes = {'trocas':0, 'comparacoes':0}\n",
        "tempo = time.process_time()\n",
        "\n",
        "array1 = random.randint(1, 11, size=10)\n",
        "array2 = random.randint(1, 101, size=100)\n",
        "array3 = random.randint(1, 1001, size=1000)\n",
        "\n",
        "log_operacoes = build_heap(array1)\n",
        "t = time.process_time() - tempo\n",
        "print(array1)\n",
        "print(\"Comparacoes: \",log_operacoes['comparacoes'])\n",
        "print(\"Trocas: \",log_operacoes['trocas'])\n",
        "print(\"Tempo: \",t)\n",
        "\n",
        "log_operacoes = build_heap(array2)\n",
        "t = time.process_time() - tempo\n",
        "print(\"\\n\",array2)\n",
        "print(\"Comparacoes: \",log_operacoes['comparacoes'])\n",
        "print(\"Trocas: \",log_operacoes['trocas'])\n",
        "print(\"Tempo: \",t)\n",
        "\n",
        "log_operacoes = build_heap(array3)\n",
        "t = time.process_time() - tempo\n",
        "print(\"\\n\",array3)\n",
        "print(\"Comparacoes: \",log_operacoes['comparacoes'])\n",
        "print(\"Trocas: \",log_operacoes['trocas'])\n",
        "print(\"Tempo: \",t)"
      ],
      "execution_count": 1153,
      "outputs": [
        {
          "output_type": "stream",
          "name": "stdout",
          "text": [
            "[10 10 10  7  9  8  7  2  5  4]\nComparacoes:  33\nTrocas:  6\nTempo:  0.0\n\n [100 100  99  98  96  92  97  95  84  91  88  72  87  96  90  94  85  64\n  82  70  54  86  87  68  67  86  81  86  62  59  38  84  85  71  83  61\n  61  70  54  49  65  39  39  22  32  72  80  21  40  43  61  51  59  74\n  36  26   6   9   9   6  14  26  24   2  48  29  64  15  22  52  23  50\n  38   8  54  32  59  32  27  45  22  26  65   7  32  34   3  10  21   2\n  31  40  22  22  13  20  10   9  25   4]\nComparacoes:  360\nTrocas:  70\nTempo:  0.0\n\n [999 998 998 996 997 996 998 993 993 982 983 994 995 997 985 974 985 943\n 990 968 952 980 982 924 990 990 963 986 985 972 976 972 955 978 954 925\n 927 899 930 956 958 935 899 939 955 962 968 804 900 941 979 959 988 961\n 921 951 970 959 967 958 970 969 942 917 963 893 914 876 946 855 875 822\n 809 878 899 863 848 863 920 783 907 880 932 861 909 826 747 927 939 832\n 907 878 958 823 891 780 784 818 874 934 905 924 959 846 923 815 934 903\n 903 879 880 885 893 969 909 902 909 830 894 949 908 712 964 911 787 891\n 912 898 875 754 823 881 790 759 772 865 756 834 811 668 469 865 801 816\n 810 745 803 685 776 812 860 415 847 829 822 728 643 671 805 507 486 726\n 613 843 799 895 868 853 747 703 660 804 522 369 668 831 822 703 864 669\n 674 806 779 704 598 888 954 818 763 841 714 434 688 668 759 700 630 747\n 761 869 930 859 872 895 866 777 740 816 753 895 811 776 789 772 851 861\n 881 791 789 528 786 644 803 684 853 853 870 838 968 867 822 627 864 769\n 811 780 681 681 876 935 627 830 634 564 698 821 910 723 814 716 418 769\n 806 892 725 889 598 628 791 514 752 687 803 858 744 634 733 713 567  70\n 326 856 646 397 604 803 250 765 251 567 639 413 426 723 534 758 448 508\n 815 329 540 646 573 785 699 670 608 760 770 735 746 438 606 391 391 682\n 785 679 552 784 396 473 514 417 603 580 620 767 524 378 505 479 352 669\n 544 536 585 671 832 756 774 853 523 805 564 263 803 668 533 585 500 541\n 510 642 434 507 474 324 212 439 620 377 747 794 522 137 552 446 564 460\n 553 573 463 772 474 454 545 387 512 440 497 462 804 890 637 579 489 661\n 661 675 784 542 676 392 181 675 443 281 655 447 732 651 580 555 587 538\n 108 535 599 657 813 673 663 766 602 857 752 812 882 602 416 344 633 547\n 482 742 807 636 478 855 607 774 606 712 259 328 490 677 683 797 788 687\n 621 704 709 424 429 440 711 352 465 766 336 579 299 741 244 475 539 604\n 771 676 727 302 385 581 699 334 781 585 861 786 664 254 589 270 607 523\n 692 733 428 522 552 101 536 442 407 697 832 591 680 460 543 759 400 434\n 536 428 423 594 440 697 792 824 516 518 526 702 609 678 197  66  54 150\n 351  19 293 837 442 360 718 372 245 535 514 385 227 374 620  88 136 290\n 235 546  41 451 104 582 717 246 113 454 554 460  51 210 630 457 314   8\n  41 124  27  26 837 125 546 297 226 365  77 522 614 240   2 192   4 140\n  69 318 118 360 233  66 305 176 276 369 331 359 418 279 668 106 171  60\n 457 577 349 167 273 431 411 545 484 240 474 448  40 273 667 339  49 410\n 348  73 302  60 364 218 208 108 639 116 112 546  13 350 153 111 109 144\n  14 704 583 544 312 191 244 719 118 336 132 313 205 284 221 349 102 348\n 295 272 487 572 550 591 174 305 182 273  64 155 313 339 356 185 262  92\n 329 263 301 481  41  41 155 556  65 456 653 255 700 400 439 202 584 193\n 377 420 551 100 423  78  43 308  16  39 347 251 350 330 546  79 418 344\n 507 393   4 361 275 193  14 415 281 249 134 306  31 155  11 316 250 417\n 168  57 328 669 280 609 400 270 276  17  55 398 155 364  44 417 542 210\n 132 478 109 176 463 226 390 545  20  60 320 311 311   4 335  67  22 431\n 378 177 407 423 387 281  20 292 261  82 109 450 304 265 110 407 198 565\n 232 655  79 472 122 486 202 351 219 293 394 316  39 110 164 552 533 363\n 242 119 237   7  72 317  84 706 227  29 631  57 530 273 393  36 159 460\n 114  96  56 258 308 384 548 402 273 197 119 629 324 238 274 337 418 151\n 478 188 208 692 675 513 479 737 537 216  30 357  89 140 210 159 488 190\n 487 362 439 565 380 636  36 465 579 297 157  53 309  13 182 359 340 326\n 536 397 543  22   7 208 276 470 477  45 514 365  53 794 387 561 659  73\n 330 102 285 493 577 704 687 219 107 330 394 258 306 649 538  86 134 305\n 439 486 367 236 333 137  52 163 133 461 421  40 152  76  64 452 109 451\n 519 257 705 154 502 538 476 264  92 327  93  15  92 167 551 318 321 705\n 564 185 415  57 787 582 725 239  79  81  14 253  54 188 141  72 259  80\n 192 629 230 289 321 129 296 334 245 170 487  38  98 216 403 122 339  94\n  97 199  41 394 621 151  35 264 475  34  85 430   4 186  76  13 210 422\n 195 187  57 125 143  94 319 251 523 312 197 150 470 743 129 619 159 287\n 423  57 107  24  77 364 226 386 546 393]\nComparacoes:  3741\nTrocas:  747\nTempo:  0.03125\n"
          ]
        }
      ]
    },
    {
      "source": [
        "O algoritmo iterativo faz menos comparações mas mais trocas que o recursivo em todos os casos testados. O tempo para os dois algoritmos não mudou em nenhum caso. Porém, na implementação do mergesort na parte IV, usando o build-heap iterativo, o tempo de execução do algoritmo iterativo se mostrou maior do que o do recursivo."
      ],
      "cell_type": "markdown",
      "metadata": {}
    },
    {
      "cell_type": "code",
      "execution_count": 1154,
      "metadata": {},
      "outputs": [
        {
          "output_type": "stream",
          "name": "stdout",
          "text": [
            "[8 7 8 6 5 1 8 2 1 1]\n",
            "Elemento inserido: 13\n",
            "Array pós inserção:\n",
            "[13  8  7  8  6  5  1  8  2  1  1]\n",
            "Comparacoes:  3\n",
            "Trocas:  0\n",
            "Tempo:  0.0\n",
            "\n",
            " [100  98  98  97  96  90  91  91  95  78  79  72  82  50  84  69  59  71\n",
            "  86  66  64  67  54  71  58  74  66  42  22  70  82  68  67  47  21  71\n",
            "  69  75  68  15  51  26  59  58  64  34  39  29  24  50  48  31  42  25\n",
            "  46   6  15   3   3   6  60  37  14  34  52  39  39  18   5  19  10  46\n",
            "  27  10  42  56  46  56  61   4  12  24  41  17   7  14  49  35  26  24\n",
            "  41   8  24  25  12  13   9  14  23  36]\n",
            "Elemento inserido: 11\n",
            "Array pós inserção:\n",
            "[100  98  98  91  97  96  90  84  91  95  78  79  72  82  50  82  69  59\n",
            "  71  86  66  64  67  54  71  58  74  66  42  22  70  34  68  67  47  21\n",
            "  71  69  75  68  15  51  26  59  58  64  34  39  29  24  50  48  31  42\n",
            "  25  46   6  15   3   3   6  60  37  14  11  52  39  39  18   5  19  10\n",
            "  46  27  10  42  56  46  56  61   4  12  24  41  17   7  14  49  35  26\n",
            "  24  41   8  24  25  12  13   9  14  23  36]\n",
            "Comparacoes:  21\n",
            "Trocas:  6\n",
            "Tempo:  0.0\n",
            "\n",
            " [1000  998  996  989  996  986  996  971  956  988  989  984  981  996\n",
            "  995  963  955  931  937  964  976  975  984  964  982  979  969  986\n",
            "  974  981  981  944  912  909  943  900  869  935  870  914  963  892\n",
            "  975  933  905  939  956  960  911  965  951  944  978  947  950  975\n",
            "  941  924  921  957  980  964  928  907  887  857  908  846  880  834\n",
            "  806  864  801  866  851  933  830  798  862  762  852  914  941  825\n",
            "  885  690  953  876  903  856  838  924  624  927  947  942  944  871\n",
            "  813  954  961  886  862  931  884  969  956  774  890  872  830  843\n",
            "  885  848  936  920  850  822  865  812  861  935  967  905  925  864\n",
            "  904  723  707  869  788  811  719  782  757  682  598  858  781  814\n",
            "  777  801  712  858  847  570  635  838  830  744  705  771  822  828\n",
            "  806  758  769  791  808  738  696  596  783  696  698  875  893  699\n",
            "  799  821  638  656  681  856  885  850  603  682  774  805  814  622\n",
            "  723  767  874  583  507  774  862  931  739  665  909  871  920  829\n",
            "  869  638  794  823  632  726  762  827  649  742  724  840  892  873\n",
            "  591  920  631  800  840  615  491  619  886  870  831  569  782  830\n",
            "  652  629  860  817  591  743  935  517  864  775  846  815  805  693\n",
            "  796  664  537  819  829  641  789  724  781  839  679  581  487  532\n",
            "  797  798  631  655  680  282  597  554  514  644  595  742  636  358\n",
            "  140  723  731  704  652  668  560  594  579  556  624  634  715  348\n",
            "  749  531  683  743  665  434  625  705  807  747  656  553  254  343\n",
            "  561  632  800  776  656  638  629  476  358  551  566  688  614  768\n",
            "  484  772  446  723  268  629  328  652  788  612  717  731  673  386\n",
            "  626  545  402  386  513  594  622  674  639  565  436  797  672  652\n",
            "  403  447  589  734  767  584  476  374  298  387  603  805  555  651\n",
            "  423  459  585  498  245  578  559  242  616  640  458  462  649  271\n",
            "  515  417  613  304  614  703  770  365  537  441  469  731  292  418\n",
            "  793  754  901  331  672  620  371  554  481  610  688  681  584  600\n",
            "  584  738  147  534  604  551  732  720  650  587  412  697  610  739\n",
            "  101  765  814  634  493  700  539  555  580  818  625  809  842  523\n",
            "  784  467  449  417  773  548  550  126  770  669  787  400  542  481\n",
            "  482  460  406  619  706  274  291  522  501  475  341  561  769  773\n",
            "  621  161  646  549  423  657  742  775  816  495  324  659  641  854\n",
            "  682  381  449  148  458  741  772  744  254  554  657  687  636  556\n",
            "  482  354  779  379  624   83  377  415  379  582  467  465  634  396\n",
            "  369  698  420  581  244  579  690  667  637  356  121   56  207  191\n",
            "   36  670  652  176  273  509  355   21  356  111  385  179  102   17\n",
            "   42    3  192  160  148  127  565   76  512  171  366  281  282  273\n",
            "  339   50   69  237  324  297  629   25  249  311   24  384  130  204\n",
            "  132   89  566  422  350  300  466   16  602  310  125  115  648  334\n",
            "  346  312   22   60  111  144  585  165  219  183  319   40  300  216\n",
            "  270  182  314    4  552  333  332  383  278  514  342  245   19  337\n",
            "   37  303  547  125   32  721  669  515  188  430  191  411   85  255\n",
            "  101  474  290  290  102  287  236  486  236  584  368  185  562  585\n",
            "  583  132  257  727  579  122  331  659  604  185   26  407  471  222\n",
            "  257  476   40  396  154  248  103   16  605  677  709  459  511  139\n",
            "  290  387  511    1  268  232  322  234  140  264  227  110  313   44\n",
            "   11  375  379  385  432  163  387   35   68   61  502  363   62  217\n",
            "  349  401   64  180  179  349  444   94   67  390  584  353  211   64\n",
            "  441  232  169   67  257  149  163  350  287   88  545  319  397  222\n",
            "  389  317  195  267   94  255   16  378  293  117  204   10  177   49\n",
            "  296   59  144  466  119  634   92  114  447   92  220  362  585   16\n",
            "   34  140  393   16    5  554  154  164   55  509  419   36  115  350\n",
            "  246  107  192  483  160   59  274  249  180  231  510  157  174  365\n",
            "  291  307  335  200  615   63  271    9    3  134  510  197   58   67\n",
            "  289  186  306  330  452  362  417  197  622  236  464   99  421  403\n",
            "  574  480  396  384  323  137  130  513  138  192  433  102  384  251\n",
            "   10  447  617  556    5  224    8  204  296  488  504  185  446  517\n",
            "  278   74   40  423  305  354  421  236  597  215   31  449  273  123\n",
            "  104  402  162  293  383  463  590  171  146  780  554  378  774    2\n",
            "   54   26  208  458  304  116  403  347  103   65  385  538  531  214\n",
            "  168   74   67  696  734  472  438  150  202  213  364  341  516  265\n",
            "  119  240  135  225  154  172  184  478  506  672    4  113  156  166\n",
            "  263  480  164   82  144  315  102  231  316  144  140  699  352   18\n",
            "   82  602  351  122  114  254  159  477  291   48  352  239   94  640\n",
            "   47   47  348  409  651  229  110   95  207  614   68  519  531  306\n",
            "  498  542  509  236  362   62  201   64   90  439  373  381  651  652\n",
            "   22  135  380   27  118    7  312  595  316  466  615  114  491  181\n",
            "  309  188  477   31  336  163   41  257  298  621  424   21   16  160\n",
            "  188  140  318  141   81  271  236  111  174  348   77  257   52  236\n",
            "  349  102  210  316  499  269  245  309  234  202  111  331  169  397\n",
            "  269  116  113  551  252  204]\n",
            "Elemento inserido: 23\n",
            "Array pós inserção:\n",
            "[1000  996  998 ...  551  252  204]\n",
            "Comparacoes:  30\n",
            "Trocas:  9\n",
            "Tempo:  0.015625\n"
          ]
        }
      ],
      "source": [
        "# Testando o heap_insert para 3 arrays diferentes\n",
        "log_operacoes = {'trocas':0, 'comparacoes':0}\n",
        "tempo = time.process_time()\n",
        "\n",
        "array1 = random.randint(1, 11, size=10)\n",
        "array2 = random.randint(1, 101, size=100)\n",
        "array3 = random.randint(1, 1001, size=1000)\n",
        "\n",
        "build_heap(array1)\n",
        "print(array1)\n",
        "[log_operacoes,array1] = heap_insert(array1, 13)\n",
        "t = time.process_time() - tempo\n",
        "print('Elemento inserido: 13\\nArray pós inserção:')\n",
        "print(array1)\n",
        "print(\"Comparacoes: \",log_operacoes['comparacoes'])\n",
        "print(\"Trocas: \",log_operacoes['trocas'])\n",
        "print(\"Tempo: \",t)\n",
        "\n",
        "build_heap(array2)\n",
        "print('\\n',array2)\n",
        "[log_operacoes,array2] = heap_insert(array2, 11)\n",
        "t = time.process_time() - tempo\n",
        "print('Elemento inserido: 11\\nArray pós inserção:')\n",
        "print(array2)\n",
        "print(\"Comparacoes: \",log_operacoes['comparacoes'])\n",
        "print(\"Trocas: \",log_operacoes['trocas'])\n",
        "print(\"Tempo: \",t)\n",
        "\n",
        "build_heap(array3)\n",
        "print('\\n',array3)\n",
        "[log_operacoes,array3] = heap_insert(array3, 23)\n",
        "t = time.process_time() - tempo\n",
        "print('Elemento inserido: 23\\nArray pós inserção:')\n",
        "print(array3)\n",
        "print(\"Comparacoes: \",log_operacoes['comparacoes'])\n",
        "print(\"Trocas: \",log_operacoes['trocas'])\n",
        "print(\"Tempo: \",t)\n"
      ]
    },
    {
      "cell_type": "code",
      "execution_count": 1156,
      "metadata": {},
      "outputs": [
        {
          "output_type": "stream",
          "name": "stdout",
          "text": [
            "Array pré extração:\n [10 10  7  8  3  7  3  6  1  2]\nMaior elemento:  10\nArray pós extração:\n [8 6 7 2 3 7 3 2 1 2]\nComparacoes:  9\nTrocas:  3\nTempo:  0.0\n\nArray pré extração:\n [100  98  96  95  97  89  88  89  85  86  94  76  77  86  88  81  86  77\n  77  78  78  78  94  57  69  67  51  68  79  59  67  62  63  81  65  66\n  55  55  57  76  58  67  69  70  59  81  54  46  33  49  47  16  63  20\n  27  67  57  52  13  40  26  10  13  22  24  31  42  39  10  43  45  29\n  30  48  43  16  47  20  45  40  41  32   4   8  56  48  55  36  53  24\n  58  51  43  29  50  35  38  24  33  39]\nMaior elemento:  100\nArray pós extração:\n [97 95 96 89 94 89 88 86 85 86 94 76 77 86 88 81 81 77 77 78 78 78 81 57\n 69 67 51 68 79 59 67 62 63 39 65 66 55 55 57 76 58 67 69 70 59 51 54 46\n 33 49 47 16 63 20 27 67 57 52 13 40 26 10 13 22 24 31 42 39 10 43 45 29\n 30 48 43 16 47 20 45 40 41 32  4  8 56 48 55 36 53 24 58 39 43 29 50 35\n 38 24 33 39]\nComparacoes:  18\nTrocas:  6\nTempo:  0.0\n\nArray pré extração:\n [999 999 999 991 995 998 992 988 989 992 993 996 991 977 980 966 978 987\n 977 986 990 989 993 983 990 984 936 977 962 978 948 962 897 905 959 980\n 960 844 977 982 976 959 989 971 985 956 989 971 959 927 976 967 923 927\n 931 973 968 946 937 950 933 905 856 919 936 805 851 858 875 823 953 938\n 896 952 931 752 825 961 938 971 976 826 966 894 951 940 949 934 737 891\n 879 908 908 943 948 969 825 851 948 855 927 917 933 889 926 794 758 837\n 883 929 907 950 920 939 950 840 912 896 864 797 947 919 854 689 771 839\n 791 857 859 927 881 790 630 788 764 814 698 859 863 757 776 917 848 717\n 824 801 741 723 871 899 780 751 659 672 756 565 948 831 782 959 950 945\n 915 533 632 566 827 788 735 706 929 914 825 911 858 836 901 735 676 823\n 859 634 857 888 804 603 575 923 770 838 914 825 836 655 722 820 750 771\n 706 769 738 840 880 874 866 768 836 829 786 853 893 709 680 685 627 681\n 796 787 875 741 654 844 800 841 726 610 881 921 854 889 930 632 706 839\n 836 819 834 850 775 687 745 828 816 859 823 822 758 403 673 684 747 259\n 834 266 210 570 769 683 736 557 583 370 797 762 392 530 464 643 568 738\n 615 809 735 565 502 684 501 742 833 712 706 759 479 478 308 718 650 692\n 700 722 749 664 792 731 494 612 642 854 478 708 832 483 678 684 694 647\n 469 615 455 312 277 435 550 868 318 768 539 713 636 722 257 697 869 812\n 588 367 858 451 292 457 489 318 560 487 341 660 597 417 729 587 683 345\n 595 836 395 770 721 752 732 652 627 271 564 573 640 627 349 672 318 745\n 655 456 287 307 596 505 643 696 752 753 753 563 203 288 425 819 653 652\n 334 464 518 870 902 479 677 721 830 648 379 581 621 377 699 380 297 747\n 673 182 582 679 481 720 602 537 629 798 830 309 866 448 524 722 639 604\n 649 714 785 572 663 526 822 667 832 656 403 550 446 682 592 235 450 596\n 523 622 685 707 726 668 656 678 684 491 518 621 574 766 731 770 474 545\n 464 383 491 471 877 113 898 672 275 460 800 602 767 419 556 467 514 535\n 817 501 766 815 709 768 761 677 692 632 539 395 513 476 629 554 358 394\n 577 497 814 482 793 693 587 744 576 386 347 392 599 394 151 363   8 183\n 173 317 762 210 106  77  21 108 516 225 423 416 153 397 679 484 533 328\n 303  92 342 250 176 750 158  63 129  26 268  51 422 314  23 168 261 508\n 314 567  63 527 457 130 571 474 505 165  87  63 314 326 102 647 491 152\n 116 433 694 268 276 323 387 161 105 365 342 189 277 463 693 428 486  84\n 310 105 475  26 680 233 154 171 200  46 467 162  88  35 487 475 122 418\n  64 710 337 305 404 131 132 611 363 175  57 365 626 330  33 163 676 631\n 217 101 369 449 204  29 263   1 126 257 106 336 183 386 367 766  84  69\n 135 384 217 101 479 471 400  15  92 606 717 111 187 287 195 704 247 190\n  70 562 570 359 321  23 721 371 102 248 155  19 457 120 159 200   8  62\n 406 218   3 245 144 131 432 160  14 188   7 645 715 331 409 444 333 340\n 339 370 220 718 103 138 376  43 433 482  56 691 250 686 478 427  37 113\n 216  81 163 306 436  22 347 600 315 410 155  87  19 259 421 104 147 291\n 225 601 145  26 415 223 126  72  68 278 416 283  54 369 439 193 608 651\n 126 682 479 597 609 229 236  51 125   5 272 298 256 228 801 505 429 595\n 482 175 112 189 442 221 116 849 716 830  95 185 249 297 285 469 705  65\n 515 391 184  35  73  35 164  87 620  79 352 292 375 241 292  23 145 411\n 528 614 296 161 119 220 309 321 624 388 305 233 340 121 486  68  60 180\n 348 754 120 174 494 116 135 792 570 246 115 347 180 386 259  64 115 280\n 364  20  66 243 499  99 553 349 147 602 501 145 516 763 229 430 388 825\n 260 247 378  12 139 223 150  50 243 191 392 446 406  57 197   8  32  93\n 296 407  46 606 191 320 109 570  13 491 336 452  74 510 183 175 598 321\n 257 444 482  52 226  38 148 556 234 323 197 102 706 553  60   5 307 411\n  68 295 113 164 273 355 121 318 304 188 799  75  56   2 341 657 132 261\n 171  68 460 416 471 565 131 415 616 411 410 359 145 306 144 495 107 488\n 317 222 432 134 114 224 643 132 501  19  17 510 177  22 603 383 230  55\n 640 307 552 449 524  39  62 150 155 313  72 510 138 399 507 345 181 107\n 227 435 263 322 443  26 103 158 440 421 194 489 543 338 166   7 335 316\n 433 324 350 181  92 184 177 562  40 113]\nMaior elemento:  999\nArray pós extração:\n [999 995 998 991 993 996 992 988 989 992 993 990 991 977 980 966 978 987\n 977 986 990 989 989 983 976 984 936 977 962 978 948 962 897 905 959 980\n 960 844 977 982 976 959 989 971 985 956 948 971 959 927 933 967 923 927\n 931 973 968 946 937 950 933 905 856 919 936 805 851 858 875 823 953 938\n 896 952 931 752 825 961 938 971 976 826 966 894 951 940 949 934 737 891\n 879 908 908 943 914 969 825 851 948 855 927 917 836 889 926 794 758 837\n 883 929 907 950 920 939 950 840 912 896 864 797 947 919 854 689 771 839\n 791 857 859 927 881 790 630 788 764 814 698 859 863 757 776 917 848 717\n 824 801 741 723 871 899 780 751 659 672 756 565 948 831 782 959 950 945\n 915 533 632 566 827 788 735 706 929 914 825 911 858 836 901 735 676 823\n 859 634 857 888 804 603 575 923 770 838 902 825 836 655 722 820 750 771\n 706 769 738 840 880 874 866 768 649 829 786 853 893 709 680 685 627 681\n 796 787 875 741 654 844 800 841 726 610 881 921 854 889 930 632 706 839\n 836 819 834 850 775 687 745 828 816 859 823 822 758 403 673 684 747 259\n 834 266 210 570 769 683 736 557 583 370 797 762 392 530 464 643 568 738\n 615 809 735 565 502 684 501 742 833 712 706 759 479 478 308 718 650 692\n 700 722 749 664 792 731 494 612 642 854 478 708 832 483 678 684 694 647\n 469 615 455 312 277 435 550 868 318 768 539 713 636 722 257 697 869 812\n 588 367 858 451 292 457 489 318 560 487 341 660 597 417 729 587 683 345\n 595 836 395 770 721 752 732 652 627 271 564 573 640 627 349 672 318 745\n 655 456 287 307 596 505 643 696 752 753 753 563 203 288 425 819 653 652\n 334 464 518 870 830 479 677 721 830 648 379 581 621 377 699 380 297 747\n 673 182 582 679 481 720 602 537 629 798 830 309 866 448 524 722 639 604\n 113 714 785 572 663 526 822 667 832 656 403 550 446 682 592 235 450 596\n 523 622 685 707 726 668 656 678 684 491 518 621 574 766 731 770 474 545\n 464 383 491 471 877 113 898 672 275 460 800 602 767 419 556 467 514 535\n 817 501 766 815 709 768 761 677 692 632 539 395 513 476 629 554 358 394\n 577 497 814 482 793 693 587 744 576 386 347 392 599 394 151 363   8 183\n 173 317 762 210 106  77  21 108 516 225 423 416 153 397 679 484 533 328\n 303  92 342 250 176 750 158  63 129  26 268  51 422 314  23 168 261 508\n 314 567  63 527 457 130 571 474 505 165  87  63 314 326 102 647 491 152\n 116 433 694 268 276 323 387 161 105 365 342 189 277 463 693 428 486  84\n 310 105 475  26 680 233 154 171 200  46 467 162  88  35 487 475 122 418\n  64 710 337 305 404 131 132 611 363 175  57 365 626 330  33 163 676 631\n 217 101 369 449 204  29 263   1 126 257 106 336 183 386 367 766  84  69\n 135 384 217 101 479 471 400  15  92 606 717 111 187 287 195 704 247 190\n  70 562 570 359 321  23 721 371 102 248 155  19 457 120 159 200   8  62\n 406 218   3 245 144 131 432 160  14 188   7 645 715 331 409 444 333 340\n 339 370 220 718 103 138 376  43 433 482  56 691 250 686 478 427  37 113\n 216  81 163 306 436  22 347 600 315 410 155  87  19 259 421 104 147 291\n 225 601 145  26 415 223 126  72  68 278 416 283  54 369 439 193 608 651\n 126 682 479 597 609 229 236  51 125   5 272 298 256 228 801 505 429 595\n 482 175 112 189 442 221 116 849 716 113  95 185 249 297 285 469 705  65\n 515 391 184  35  73  35 164  87 620  79 352 292 375 241 292  23 145 411\n 528 614 296 161 119 220 309 321 624 388 305 233 340 121 486  68  60 180\n 348 754 120 174 494 116 135 792 570 246 115 347 180 386 259  64 115 280\n 364  20  66 243 499  99 553 349 147 602 501 145 516 763 229 430 388 825\n 260 247 378  12 139 223 150  50 243 191 392 446 406  57 197   8  32  93\n 296 407  46 606 191 320 109 570  13 491 336 452  74 510 183 175 598 321\n 257 444 482  52 226  38 148 556 234 323 197 102 706 553  60   5 307 411\n  68 295 113 164 273 355 121 318 304 188 799  75  56   2 341 657 132 261\n 171  68 460 416 471 565 131 415 616 411 410 359 145 306 144 495 107 488\n 317 222 432 134 114 224 643 132 501  19  17 510 177  22 603 383 230  55\n 640 307 552 449 524  39  62 150 155 313  72 510 138 399 507 345 181 107\n 227 435 263 322 443  26 103 158 440 421 194 489 543 338 166   7 335 316\n 433 324 350 181  92 184 177 562  40 113]\nComparacoes:  27\nTrocas:  9\nTempo:  0.015625\n"
          ]
        }
      ],
      "source": [
        "# Testando o extract_max para 3 arrays diferentes\n",
        "log_operacoes = {'trocas':0, 'comparacoes':0}\n",
        "tempo = time.process_time()\n",
        "\n",
        "array1 = random.randint(1, 11, size=10)\n",
        "array2 = random.randint(1, 101, size=100)\n",
        "array3 = random.randint(1, 1001, size=1000)\n",
        "\n",
        "build_heap(array1)\n",
        "print('Array pré extração:\\n',array1)\n",
        "max = extract_max(array1).get('max')\n",
        "t = time.process_time() - tempo\n",
        "log_operacoes = extract_max(array1).get('log') \n",
        "print('Maior elemento: ',max)\n",
        "print('Array pós extração:\\n',array1)\n",
        "print(\"Comparacoes: \",log_operacoes['comparacoes'])\n",
        "print(\"Trocas: \",log_operacoes['trocas'])\n",
        "print(\"Tempo: \",t)\n",
        "\n",
        "build_heap(array2)\n",
        "print(\"\\nArray pré extração:\\n\",array2)\n",
        "max = extract_max(array2).get('max')\n",
        "t = time.process_time() - tempo\n",
        "log_operacoes = extract_max(array2).get('log')\n",
        "print('Maior elemento: ',max)\n",
        "print('Array pós extração:\\n',array2)\n",
        "print(\"Comparacoes: \",log_operacoes['comparacoes'])\n",
        "print(\"Trocas: \",log_operacoes['trocas'])\n",
        "print(\"Tempo: \",t)\n",
        "\n",
        "build_heap(array3)\n",
        "print(\"\\nArray pré extração:\\n\",array3)\n",
        "max = extract_max(array3).get('max')\n",
        "t = time.process_time() - tempo\n",
        "log_operacoes = extract_max(array3).get('log')\n",
        "print('Maior elemento: ',max)\n",
        "print('Array pós extração:\\n',array3)\n",
        "print(\"Comparacoes: \",log_operacoes['comparacoes'])\n",
        "print(\"Trocas: \",log_operacoes['trocas'])\n",
        "print(\"Tempo: \",t)\n"
      ]
    },
    {
      "cell_type": "code",
      "execution_count": 1157,
      "metadata": {},
      "outputs": [
        {
          "output_type": "stream",
          "name": "stdout",
          "text": [
            "[1 2 2 3 3 9 8 6 3 5]\n[1 2 2 3 3 3 5 6 8 9]\nComparacoes:  93\nTrocas:  26\n"
          ]
        }
      ],
      "source": [
        "# Testando o build_min_heap:\n",
        "log_operacoes = {'trocas':0, 'comparacoes':0}\n",
        "\n",
        "array1 = random.randint(1, 11, size=10)\n",
        "\n",
        "log_operacoes = build_min_heap(array1)\n",
        "print(array1)\n",
        "log_operacoes = heap_sort(array1)\n",
        "print(array1)\n",
        "print(\"Comparacoes: \",log_operacoes['comparacoes'])\n",
        "print(\"Trocas: \",log_operacoes['trocas'])"
      ]
    },
    {
      "cell_type": "markdown",
      "metadata": {
        "id": "nV8-K_7efYQI"
      },
      "source": [
        "## Parte II: algoritmos de intercalação\r\n",
        "\r\n",
        "A seguir você encontra uma versão do algoritmo de merge e um exemplo de sua aplicação.\r\n",
        "\r\n",
        "Em seguida, há uma célula com vários algoritmos a implementar, a saber:\r\n",
        "1. two_way_merge. \r\n",
        "2. multi_way_merge.\r\n",
        "2. merge_sort."
      ]
    },
    {
      "cell_type": "code",
      "metadata": {
        "id": "KwanVISofcnN"
      },
      "source": [
        "# Bibliotecas necessárias ao script:\n",
        "import numpy as np  # importa a biblioteca numpy (que trabalha com arrays numéricos)\n",
        "import time         # importa a biblioteca utilizada para contar o tempo\n",
        "import pandas as pd # biblioteca para trabalhar com data frames\n",
        "import math         # para funções matemáticas \n",
        " \n",
        "################################################\n",
        "# Merge\n",
        "def merge(array1, array2): \n",
        "    i = j = trocas = comparacoes = 0\n",
        "    qtd_a1 = len(array1)\n",
        "    qtd_a2 = len(array2)\n",
        "    \n",
        "    elementos = True\n",
        "    array_final = []\n",
        "    comparacoes += 1\n",
        "    while i < qtd_a1 and j < qtd_a2:\n",
        "        comparacoes += 3\n",
        "        if array1[i] <= array2[j]:\n",
        "            trocas += 1\n",
        "            array_final.append(array1[i])\n",
        "            i = i + 1\n",
        "        else:\n",
        "            trocas += 1\n",
        "            array_final.append(array2[j])\n",
        "            j = j + 1\n",
        "\n",
        "    comparacoes += 1\n",
        "    if j < qtd_a2 and i >= qtd_a1:           # array 1 terminou\n",
        "        array_final.extend(array2[j:qtd_a2+1])\n",
        "    \n",
        "    comparacoes += 1\n",
        "    if i < qtd_a1 and j >= qtd_a2:           # array 2 terminou\n",
        "        array_final.extend(array1[i:qtd_a1+1])\n",
        "        \n",
        "    return [array_final, {'trocas':trocas, 'comparacoes':comparacoes}]\n",
        "     "
      ],
      "execution_count": 1158,
      "outputs": []
    },
    {
      "cell_type": "code",
      "metadata": {
        "id": "sxcmf4Ddfcp0",
        "colab": {
          "base_uri": "https://localhost:8080/"
        },
        "outputId": "5ddc6ce9-efc1-4637-f89d-51d254600b0b"
      },
      "source": [
        "array1 = [1,2,4,5,7,10,11,12,14,15]\n",
        "array2 = [2,3,4,6,11,12,14]\n",
        "log_operacoes = {'trocas':0, 'comparacoes':0}\n",
        "[arr,log_operacoes] = merge(array1, array2)\n",
        "print(arr)\n",
        "print(\"Comparacoes: \",log_operacoes['comparacoes'])\n",
        "print(\"Trocas: \",log_operacoes['trocas'])"
      ],
      "execution_count": 1159,
      "outputs": [
        {
          "output_type": "stream",
          "name": "stdout",
          "text": [
            "[1, 2, 2, 3, 4, 4, 5, 6, 7, 10, 11, 11, 12, 12, 14, 14, 15]\nComparacoes:  51\nTrocas:  16\n"
          ]
        }
      ]
    },
    {
      "cell_type": "code",
      "metadata": {
        "id": "3dsiPaQUfcsR"
      },
      "source": [
        "# Recebe uma lista de arrays e intercala-os 2 a 2\n",
        "# retorna um array com o resultado da intercalação\n",
        "def two_way_merge(lst_arrays):\n",
        "    trocas = comparacoes = 0 \n",
        "    array_resultante = []\n",
        "    n = len(lst_arrays)\n",
        "\n",
        "    for x in range(n-1):\n",
        "        i, j = 0, 0\n",
        "        lst = lst_arrays[x]\n",
        "        aux = lst_arrays[x+1]\n",
        "        merged = [0]*(len(lst)+len(aux))\n",
        "\n",
        "        comparacoes += 1\n",
        "        while i < len(lst) and j < len(aux):\n",
        "            comparacoes += 3\n",
        "            if lst[i] <= aux[j]:\n",
        "                trocas += 1\n",
        "                merged[i+j]=lst[i]\n",
        "                i += 1\n",
        "            else:\n",
        "                trocas += 1\n",
        "                merged[i+j] = aux[j]\n",
        "                j += 1  \n",
        "\n",
        "        for i in range(i, len(lst)):\n",
        "            merged[i+j] = lst[i]\n",
        "\n",
        "        for j in range(j, len(aux)):\n",
        "            merged[i+j] = aux[j]\n",
        "\n",
        "        lst_arrays[x+1] = merged\n",
        "         \n",
        "    array_resultante = merged\n",
        "    return [array_resultante, {'trocas':trocas, 'comparacoes':comparacoes}]"
      ],
      "execution_count": 1160,
      "outputs": []
    },
    {
      "cell_type": "code",
      "metadata": {
        "id": "LJtjRwj4gNCQ",
        "colab": {
          "base_uri": "https://localhost:8080/"
        },
        "outputId": "285c1f68-897d-4b3d-9e13-4d3418c71358"
      },
      "source": [
        "array1 = [1,2,4,5,7,10,11,12,14,15]\n",
        "array2 = [2,3,4,6,11,12,14]\n",
        "array3 = [1,2,8,10,11,12,14,15]\n",
        "array4 = [0, 3, 25, 35, 115]\n",
        "  \n",
        "log_operacoes = {'trocas':0, 'comparacoes':0}\n",
        "[array_res,log_operacoes] = two_way_merge([array1, array2, array3, array4])\n",
        "print(array_res)\n",
        "print(\"Comparacoes: \",log_operacoes['comparacoes'])\n",
        "print(\"Trocas: \",log_operacoes['trocas'])"
      ],
      "execution_count": 1161,
      "outputs": [
        {
          "output_type": "stream",
          "name": "stdout",
          "text": [
            "[0, 1, 1, 2, 2, 2, 3, 3, 4, 4, 5, 6, 7, 8, 10, 10, 11, 11, 11, 12, 12, 12, 14, 14, 14, 15, 15, 25, 35, 115]\nComparacoes:  204\nTrocas:  67\n"
          ]
        }
      ]
    },
    {
      "cell_type": "code",
      "metadata": {
        "id": "pgrPyX9sgQ6V"
      },
      "source": [
        "# Recebe uma lista de arrays e intercala-os usando estrutura similar a heap-min\n",
        "# retorna um array com o resultado da intercalação\n",
        "def multi_way_merge(lst_arrays):\n",
        "    log_operacoes = {'trocas':0, 'comparacoes':0} \n",
        "    array_resultante = []\n",
        "    n = 0 # tam da arvore\n",
        "\n",
        "    # soma todos os tamanhos dos arrays a serem analisados   \n",
        "    for lst in lst_arrays:\n",
        "        n += len(lst)\n",
        "    arvore = [0]*n\n",
        "\n",
        "    j=n-1 # j começa no fim da árvore\n",
        "    i=0 # i começa no primeiro elemento de cada array\n",
        "    # enquanto não preencheu todaa árvore, coleta um elemento\n",
        "    # de cada array por vez e vai colocando na arvore\n",
        "    log_operacoes['comparacoes'] += 1\n",
        "    while j>=0:\n",
        "        log_operacoes['comparacoes'] += 1\n",
        "        # percorre a lista dos arrays dados\n",
        "        for lst in lst_arrays:\n",
        "            log_operacoes['comparacoes'] += 1\n",
        "            if(i < len(lst)):\n",
        "                arvore[j] = lst[i] # poe na posição j da árvore o i-ésimo elemento do array atual\n",
        "                j -= 1  # sobe a posição na árvore\n",
        "        i += 1  # se acabar a lista de arrays, incrementa o i que indica qual elemento de cada array pegar\n",
        "\n",
        "    log_operacoes = heap_sort(arvore)\n",
        "    return [arvore,log_operacoes]"
      ],
      "execution_count": 1162,
      "outputs": []
    },
    {
      "cell_type": "code",
      "metadata": {
        "id": "yyqHpaIBgQ8n",
        "colab": {
          "base_uri": "https://localhost:8080/"
        },
        "outputId": "4db2f97e-2069-4483-aa4e-3b527cde038d",
        "tags": []
      },
      "source": [
        "array = []\n",
        "log_operacoes = {'trocas':0, 'comparacoes':0} \n",
        "[array,log_operacoes] = multi_way_merge([array1, array2, array3, array4])\n",
        "print(array)\n",
        "print(\"Comparacoes: \",log_operacoes['comparacoes'])\n",
        "print(\"Trocas: \",log_operacoes['trocas'])"
      ],
      "execution_count": 1163,
      "outputs": [
        {
          "output_type": "stream",
          "name": "stdout",
          "text": [
            "[0, 1, 1, 2, 2, 2, 3, 3, 4, 4, 5, 6, 7, 8, 10, 10, 11, 11, 11, 12, 12, 12, 14, 14, 14, 15, 15, 25, 35, 115]\nComparacoes:  387\nTrocas:  114\n"
          ]
        }
      ]
    },
    {
      "cell_type": "code",
      "metadata": {
        "id": "KZCTQ1USgQ_A"
      },
      "source": [
        "# Ambos os algoritmos abaixo são testados na parte IV com os demais algoritmos de sorting\n",
        "\n",
        "# Merge sort usando two-way merge\n",
        "def merge_sort_two_way(array):\n",
        "    log_operacoes = {'trocas':0, 'comparacoes':0}\n",
        "    \n",
        "    log_operacoes['comparacoes'] += 1 \n",
        "    if len(array) <= 1:\n",
        "        return [array,log_operacoes]\n",
        "\n",
        "    m = len(array) // 2\n",
        "    [esq,log_operacoes], [dir,log_operacoes] = merge_sort(array[:m]), merge_sort(array[m:])\n",
        "\n",
        "    lista = [esq,dir]\n",
        "    [array_final,log_operacoes] = two_way_merge(lista)  \n",
        "\n",
        "    array = array_final\n",
        "    return log_operacoes\n",
        "\n",
        "# Merge sort usando multi-way merge\n",
        "def merge_sort_multi_way(array):\n",
        "    log_operacoes = {'trocas':0, 'comparacoes':0}\n",
        "    \n",
        "    log_operacoes['comparacoes'] += 1 \n",
        "    if len(array) <= 1:\n",
        "        return [array,log_operacoes]\n",
        "\n",
        "    m = len(array) // 2\n",
        "    [esq,log_operacoes], [dir,log_operacoes] = merge_sort(array[:m]), merge_sort(array[m:])\n",
        "\n",
        "    lista = [esq,dir]\n",
        "    [array_final,log_operacoes] = multi_way_merge(lista) \n",
        "\n",
        "    array = array_final \n",
        "    \n",
        "    return log_operacoes"
      ],
      "execution_count": 1164,
      "outputs": []
    },
    {
      "cell_type": "markdown",
      "metadata": {
        "id": "r9F_wrkCgla5"
      },
      "source": [
        "## Parte III: algoritmos lineares\r\n",
        "\r\n",
        "A seguir você encontra a implementação dos algoritmos RADIX-sort LSD e MSD, além de alguns testes.\r\n",
        "\r\n",
        "Analise-os.\r\n",
        "\r\n",
        "Após, implemente o counting-sort.\r\n",
        "\r\n",
        "Desafios:\r\n",
        "1. Modifique o radix_sort_msd_strings de maneira que também funcione em strings com letras maiúsculas (misturadas com as minúsculas e números)\r\n",
        "2. Crie uma versão do radix_sort_msd que trabalhe com dígitos numéricos (só para números inteiros)"
      ]
    },
    {
      "cell_type": "code",
      "metadata": {
        "id": "crUvj3dIgkzc"
      },
      "source": [
        "# Radix-sort LSD\n",
        "def radix_lsd(array): \n",
        "    tamanhoMaximo = False\n",
        "    RADIX = 10\n",
        "    digito = 1        \n",
        "    \n",
        "    while not tamanhoMaximo:\n",
        "        buckets = [list() for _ in range(RADIX)]\n",
        "        tamanhoMaximo = True\n",
        "        for n in array:\n",
        "            tmp = n/digito\n",
        "            buckets[int(tmp % RADIX)].append(n)\n",
        "            if tamanhoMaximo and tmp>0:\n",
        "                tamanhoMaximo = False\n",
        "        a = 0\n",
        "        for b in range( RADIX ):\n",
        "            bucket = buckets[b]\n",
        "            for i in bucket:\n",
        "                array[a] = i\n",
        "                a += 1 \n",
        "        digito *= RADIX            \n",
        "        \n",
        "# Radix sort MSD para Strings\n",
        "def radix_sort_msd_strings(L, i):\n",
        "    if len(L) <= 1:\n",
        "        return L\n",
        "    \n",
        "    done_bucket = []\n",
        "    buckets = [ [] for x in range(27+10) ] # um para cada letra do alfabeto [a-z] + digitos [0-9]\n",
        " \n",
        "    for s in L:\n",
        "        if i >= len(s):\n",
        "            done_bucket.append(s)\n",
        "        else:\n",
        "            pos = ord(s[i]) - ord('a')\n",
        "            if pos < 0:\n",
        "                pos = 27 + ord(s[i]) - ord('0')\n",
        "            buckets[pos].append(s)\n",
        " \n",
        "    buckets = [ radix_sort_msd_strings(b, i + 1) for b in buckets ]\n",
        " \n",
        "    return done_bucket + [ b for blist in buckets for b in blist ]\n",
        "\n",
        "# Função auxiliar para descobrir o maior elemento do array\n",
        "def maior(a):\n",
        "    maior = 0\n",
        "    for i in range(len(a)):\n",
        "        if a[i] > maior:\n",
        "            maior = a[i]\n",
        "    return maior\n",
        "\n",
        "# implementação do algoritmo de Counting sort\n",
        "def countingSort(a):\n",
        "    log_operacoes = {'trocas':0, 'comparacoes':0}\n",
        "    b = [0]*len(a)\n",
        "    k = maior(a)\n",
        "    c = [0]*(k+1)\n",
        "    n=len(a)\n",
        "    \n",
        "    for i in range(n):\n",
        "        c[a[i]] += 1\n",
        "    for i in range(2, k):\n",
        "        c[i] = c[i] + c[i-1]\n",
        "    for j in range(n,-1):\n",
        "        b[c[a[j]]] = a[j]\n",
        "        c[a[j]] -= 1\n",
        "    \n",
        "    a = b\n",
        "    return log_operacoes\n"
      ],
      "execution_count": 1165,
      "outputs": []
    },
    {
      "cell_type": "code",
      "metadata": {
        "id": "cIHl5Rzvgk16",
        "colab": {
          "base_uri": "https://localhost:8080/"
        },
        "outputId": "c77eceae-e55c-47c6-9bbd-357ec137b4fa"
      },
      "source": [
        "# geração de um array\n",
        " \n",
        "import numpy as np\n",
        "import time\n",
        " \n",
        "gerador = np.random.RandomState()\n",
        "qtd = 100                                # quantidade de elementos a gerar aleatoriamente \n",
        "max = qtd                                # valor máximo do intervalo de sorteio\n",
        " \n",
        "arrayrandomico = gerador.randint(0, max+1, qtd)       # gera array com 'qtd' números entre 0 e 'max'\n",
        " \n",
        "print('Array gerado:\\n' , arrayrandomico)"
      ],
      "execution_count": 1166,
      "outputs": [
        {
          "output_type": "stream",
          "name": "stdout",
          "text": [
            "Array gerado:\n [49 43 30 89 42 27 60 93 77 48 26  2 46 15 43 44 32  2 78 25 93 69 71 85\n 82 26 37 65 98  8 82 33  0 93 97  1 12 24 94 33 53 71 49 18 12 16 11  1\n 40 94 78 96 84  7 91 39 82 11 33 87  4 68 79 11 60 85  1 34 75 53  1  1\n  7 15 23  8 73 12 74 56 38 38 26 32 12 53 48 61 81 60 86 28 42 21 81 85\n 56 57 41 75]\n"
          ]
        }
      ]
    },
    {
      "cell_type": "code",
      "metadata": {
        "id": "JHdo5vFggk4w",
        "colab": {
          "base_uri": "https://localhost:8080/"
        },
        "outputId": "49316e06-cf9d-493f-e38c-362b63ae649c"
      },
      "source": [
        "# Teste do radix LSD\n",
        " \n",
        "a = np.copy(arrayrandomico) # cria uma cópia do array\n",
        " \n",
        "print('Ordenando...')\n",
        "tempo = time.process_time()\n",
        "radix_lsd(a)                    \n",
        "t = time.process_time() - tempo      \n",
        " \n",
        "print('Array ordenado:\\n', a)\n",
        "print('Tempo: ', t)"
      ],
      "execution_count": 1167,
      "outputs": [
        {
          "output_type": "stream",
          "name": "stdout",
          "text": [
            "Ordenando...\nArray ordenado:\n [ 0  1  1  1  1  1  2  2  4  7  7  8  8 11 11 11 12 12 12 12 15 15 16 18\n 21 23 24 25 26 26 26 27 28 30 32 32 33 33 33 34 37 38 38 39 40 41 42 42\n 43 43 44 46 48 48 49 49 53 53 53 56 56 57 60 60 60 61 65 68 69 71 71 73\n 74 75 75 77 78 78 79 81 81 82 82 82 84 85 85 85 86 87 89 91 93 93 93 94\n 94 96 97 98]\nTempo:  0.21875\n"
          ]
        }
      ]
    },
    {
      "cell_type": "code",
      "metadata": {
        "id": "dPa5-t4ag3EA",
        "colab": {
          "base_uri": "https://localhost:8080/"
        },
        "outputId": "41b648f9-1174-4ff3-f65e-4cc12e8930e4"
      },
      "source": [
        "radix_sort_msd_strings(['ana', 'marcio', 'joao', 'carlos', 'carla', 'cicero', 'douglas', 'jose'], 0)"
      ],
      "execution_count": 1168,
      "outputs": [
        {
          "output_type": "execute_result",
          "data": {
            "text/plain": [
              "['ana', 'carla', 'carlos', 'cicero', 'douglas', 'joao', 'jose', 'marcio']"
            ]
          },
          "metadata": {},
          "execution_count": 1168
        }
      ]
    },
    {
      "cell_type": "code",
      "metadata": {
        "id": "YKHlFV93fghn",
        "colab": {
          "base_uri": "https://localhost:8080/"
        },
        "outputId": "35b1771d-90e1-4158-9c93-c0fe7164f732"
      },
      "source": [
        "radix_sort_msd_strings(['10', '2', '24', '1', '100', '23', '101', '40'], 0)"
      ],
      "execution_count": 1169,
      "outputs": [
        {
          "output_type": "execute_result",
          "data": {
            "text/plain": [
              "['1', '10', '100', '101', '2', '23', '24', '40']"
            ]
          },
          "metadata": {},
          "execution_count": 1169
        }
      ]
    },
    {
      "source": [
        "    O radix sort MSD neste caso só analisa strings, então ele trata os inteiros de acordo com o valor de cada dígito na tabela ASCII e não pelo seu real valor numérico. Por isso os primeiros números são aqueles cujo primeiro dígito seja 1 (1, 10, 100, 101...), vindo antes de números menores como o 2."
      ],
      "cell_type": "markdown",
      "metadata": {}
    },
    {
      "cell_type": "markdown",
      "metadata": {
        "id": "hMsuDFDmhYsz"
      },
      "source": [
        "## Parte IV: teste de desempenho de todos os algoritmos\r\n",
        "\r\n",
        "Inclua os algoritmos mergesort, heapsort e outros que desejar e avalie os seus desempenhos para diferentes tipos e tamanhos de array."
      ]
    },
    {
      "cell_type": "code",
      "metadata": {
        "colab": {
          "base_uri": "https://localhost:8080/"
        },
        "id": "kZq9ZdWyfbk7",
        "outputId": "0cb5933c-5c00-44c3-860f-2ac9cc99a4b5",
        "tags": [
          "outputPrepend"
        ]
      },
      "source": [
        "# Avaliação do desempenho de diferentes algoritmos para diferentes quantidades de números\n",
        "\n",
        "# Variáveis globais necessárias:\n",
        "medicoes_dec = []                      # lista que armazena os resultados das medições em memória\n",
        "medicoes_cre = []\n",
        "medicoes_ran = []\n",
        "medicoes_equ = []\n",
        "\n",
        "# lista de algoritmos a testar (insira o seu, caso elabore outros):\n",
        "algoritmos = { \n",
        "    'HPST': { 'nome': 'Heap sort', 'funcao': heap_sort },\n",
        "    'SLST': { 'nome': 'Selection sort', 'funcao': selection_sort },\n",
        "    'MNHPST': { 'nome': 'Min-Heap sort', 'funcao': minHeapSort },\n",
        "    'IHPST': { 'nome': 'Iterativa Heap sort', 'funcao': iterative_heap_sort },\n",
        "    'TWMGST': { 'nome': 'Two-way Merge sort', 'funcao': merge_sort_two_way},\n",
        "    'MWMGST': { 'nome': 'Multi-way Merge sort', 'funcao': merge_sort_multi_way}, \n",
        "    'CTST': { 'nome': 'Counting sort', 'funcao': countingSort},\n",
        "}  \n",
        "\n",
        "# testa o desempenho dos algoritmos para diferentes quantidades (múltiplos de 10):\n",
        "for qtd in [10**x for x in range(2,5)]:\n",
        "    max = qtd\n",
        "    array_decrescente = list(range(qtd, 0, -1))             # array decrescente\n",
        "    array_crescente = list(range(1, qtd+1))                 # array crescente \n",
        "    array_random = random.randint(1, qtd+1, size=(qtd))     # array aleatório\n",
        "\n",
        "    print('---------------------------------------------------')\n",
        "    print('Testando algoritmos com array de tamanho ', qtd)\n",
        "    print('---------------------------------------------------')\n",
        "\n",
        "    print('Array gerado (decrescente) (',qtd, 'numeros):\\n' , array_decrescente, '\\n') \n",
        "\n",
        "    for algoritmo in algoritmos:                            # itera sobre cada um dos algoritmos enunciados anteriormente\n",
        "        print('=> Avaliando ordenação por \"',algoritmos[algoritmo]['nome'],'\"...')\n",
        "        \n",
        "        array_tmp_decrescente = array_decrescente.copy()    # faz cópia do array para não perder\n",
        "        \n",
        "        tempo = time.process_time()                         # armazena o tempo de início do processamento\n",
        "        m = algoritmos[algoritmo]['funcao'](array_tmp_decrescente ) # aplica algorimo e retorna quantidade de trocas e comparações em 'm'\n",
        "        t = time.process_time() - tempo                     # verifica o tempo de fim de processamento e calcula a diferença\n",
        "        print('\\nArray ordenado:\\n', array_tmp_decrescente, '\\n')\n",
        "        \n",
        "        # armazena informações sobre a execução do algoritmo em um dicionário:\n",
        "        medicao = {}\n",
        "        medicao['algoritmo']=algoritmo\n",
        "        medicao['tipo']='Decrescente'\n",
        "        medicao['quantidade']=qtd\n",
        "        medicao['trocas']=m['trocas']\n",
        "        medicao['comparacoes']=m['comparacoes']\n",
        "        medicao['tempo']=t\n",
        "        \n",
        "        medicoes_dec.append(medicao)                        # adiciona medição em uma lista de medições\n",
        "\n",
        "    print('Array gerado (crescente) (',qtd, 'numeros):\\n' , array_crescente, '\\n') \n",
        "\n",
        "    for algoritmo in algoritmos:                       \n",
        "        print('=> Avaliando ordenação por \"',algoritmos[algoritmo]['nome'],'\"...')\n",
        "        \n",
        "        array_tmp_crescente = array_crescente.copy()   \n",
        "        \n",
        "        tempo = time.process_time()                     \n",
        "        m = algoritmos[algoritmo]['funcao'](array_tmp_crescente ) \n",
        "        t = time.process_time() - tempo                 \n",
        "        print('\\nArray ordenado:\\n', array_tmp_crescente, '\\n')\n",
        "        \n",
        "        medicao = {}\n",
        "        medicao['algoritmo']=algoritmo\n",
        "        medicao['tipo']='Crescente'\n",
        "        medicao['quantidade']=qtd\n",
        "        medicao['trocas']=m['trocas']\n",
        "        medicao['comparacoes']=m['comparacoes']\n",
        "        medicao['tempo']=t\n",
        "        \n",
        "        medicoes_cre.append(medicao)                              \n",
        "\n",
        "    print('Array gerado (aleatório) (',qtd, 'numeros):\\n' , array_random, '\\n') \n",
        "\n",
        "    for algoritmo in algoritmos:                       \n",
        "        print('=> Avaliando ordenação por \"',algoritmos[algoritmo]['nome'],'\"...')\n",
        "        \n",
        "        array_tmp_random = array_random.copy()                       \n",
        "        \n",
        "        tempo = time.process_time()                     \n",
        "        m = algoritmos[algoritmo]['funcao'](array_tmp_random ) \n",
        "        t = time.process_time() - tempo                 \n",
        "        print('\\nArray ordenado:\\n', array_tmp_random, '\\n')\n",
        "        \n",
        "        medicao = {}\n",
        "        medicao['algoritmo']=algoritmo\n",
        "        medicao['tipo']='Aleatório'\n",
        "        medicao['quantidade']=qtd\n",
        "        medicao['trocas']=m['trocas']\n",
        "        medicao['comparacoes']=m['comparacoes']\n",
        "        medicao['tempo']=t\n",
        "        \n",
        "        medicoes_ran.append(medicao)                              \n",
        "\n",
        "print('Fim do processamento!')\n",
        "\n",
        "\n",
        "# testa o desempenho dos algoritmos para um array de 10000 elementos iguais:\n",
        "array_igual = [1] * 10000                                  # array igual\n",
        "\n",
        "print('---------------------------------------------------')\n",
        "print('Testando algoritmos para um array de 10000 elementos iguais')\n",
        "print('---------------------------------------------------')\n",
        "\n",
        "print('Array gerado (10000 numeros):\\n' , array_igual, '\\n') \n",
        "\n",
        "for algoritmo in algoritmos:                       \n",
        "    print('=> Avaliando ordenação por \"', algoritmos[algoritmo]['nome'], '\"...')\n",
        "    \n",
        "    array_tmp_igual = array_igual.copy()                       \n",
        "    \n",
        "    tempo = time.process_time()                     \n",
        "    m = algoritmos[algoritmo]['funcao'](array_tmp_igual ) \n",
        "    t = time.process_time() - tempo                 \n",
        "    print('\\nArray ordenado:\\n', array_tmp_igual, '\\n')\n",
        "    \n",
        "    medicao = {}\n",
        "    medicao['algoritmo']=algoritmo\n",
        "    medicao['tipo']='Igual'\n",
        "    medicao['quantidade']=qtd\n",
        "    medicao['trocas']=m['trocas']\n",
        "    medicao['comparacoes']=m['comparacoes']\n",
        "    medicao['tempo']=t\n",
        "    \n",
        "    medicoes_equ.append(medicao)                                                           \n",
        "\n",
        "print('Fim do processamento!')\n"
      ],
      "execution_count": 1170,
      "outputs": [
        {
          "output_type": "stream",
          "name": "stdout",
          "text": [
            ", 1, 1, 1, 1, 1, 1, 1, 1, 1, 1, 1, 1, 1, 1, 1, 1, 1, 1, 1, 1, 1, 1, 1, 1, 1, 1, 1, 1, 1, 1, 1, 1, 1, 1, 1, 1, 1, 1, 1, 1, 1, 1, 1, 1, 1, 1, 1, 1, 1, 1, 1, 1, 1, 1, 1, 1, 1, 1, 1, 1, 1, 1, 1, 1, 1, 1, 1, 1, 1, 1, 1, 1, 1, 1, 1, 1, 1, 1, 1, 1, 1, 1, 1, 1, 1, 1, 1, 1, 1, 1, 1, 1, 1, 1, 1, 1, 1, 1, 1, 1, 1, 1, 1, 1, 1, 1, 1, 1, 1, 1, 1, 1, 1, 1, 1, 1, 1, 1, 1, 1, 1, 1, 1, 1, 1, 1, 1, 1, 1, 1, 1, 1, 1, 1, 1, 1, 1, 1, 1, 1, 1, 1, 1, 1, 1, 1, 1, 1, 1, 1, 1, 1, 1, 1, 1, 1, 1, 1, 1, 1, 1, 1, 1, 1, 1, 1, 1, 1, 1, 1, 1, 1, 1, 1, 1, 1, 1, 1, 1, 1, 1, 1, 1, 1, 1, 1, 1, 1, 1, 1, 1, 1, 1, 1, 1, 1, 1, 1, 1, 1, 1, 1, 1, 1, 1, 1, 1, 1, 1, 1, 1, 1, 1, 1, 1, 1, 1, 1, 1, 1, 1, 1, 1, 1, 1, 1, 1, 1, 1, 1, 1, 1, 1, 1, 1, 1, 1, 1, 1, 1, 1, 1, 1, 1, 1, 1, 1, 1, 1, 1, 1, 1, 1, 1, 1, 1, 1, 1, 1, 1, 1, 1, 1, 1, 1, 1, 1, 1, 1, 1, 1, 1, 1, 1, 1, 1, 1, 1, 1, 1, 1, 1, 1, 1, 1, 1, 1, 1, 1, 1, 1, 1, 1, 1, 1, 1, 1, 1, 1, 1, 1, 1, 1, 1, 1, 1, 1, 1, 1, 1, 1, 1, 1, 1, 1, 1, 1, 1, 1, 1, 1, 1, 1, 1, 1, 1, 1, 1, 1, 1, 1, 1, 1, 1, 1, 1, 1, 1, 1, 1, 1, 1, 1, 1, 1, 1, 1, 1, 1, 1, 1, 1, 1, 1, 1, 1, 1, 1, 1, 1, 1, 1, 1, 1, 1, 1, 1, 1, 1, 1, 1, 1, 1, 1, 1, 1, 1, 1, 1, 1, 1, 1, 1, 1, 1, 1, 1, 1, 1, 1, 1, 1, 1, 1, 1, 1, 1, 1, 1, 1, 1, 1, 1, 1, 1, 1, 1, 1, 1, 1, 1, 1, 1, 1, 1, 1, 1, 1, 1, 1, 1, 1, 1, 1, 1, 1, 1, 1, 1, 1, 1, 1, 1, 1, 1, 1, 1, 1, 1, 1, 1, 1, 1, 1, 1, 1, 1, 1, 1, 1, 1, 1, 1, 1, 1, 1, 1, 1, 1, 1, 1, 1, 1, 1, 1, 1, 1, 1, 1, 1, 1, 1, 1, 1, 1, 1, 1, 1, 1, 1, 1, 1, 1, 1, 1, 1, 1, 1, 1, 1, 1, 1, 1, 1, 1, 1, 1, 1, 1, 1, 1, 1, 1, 1, 1, 1, 1, 1, 1, 1, 1, 1, 1, 1, 1, 1, 1, 1, 1, 1, 1, 1, 1, 1, 1, 1, 1, 1, 1, 1, 1, 1, 1, 1, 1, 1, 1, 1, 1, 1, 1, 1, 1, 1, 1, 1, 1, 1, 1, 1, 1, 1, 1, 1, 1, 1, 1, 1, 1, 1, 1, 1, 1, 1, 1, 1, 1, 1, 1, 1, 1, 1, 1, 1, 1, 1, 1, 1, 1, 1, 1, 1, 1, 1, 1, 1, 1, 1, 1, 1, 1, 1, 1, 1, 1, 1, 1, 1, 1, 1, 1, 1, 1, 1, 1, 1, 1, 1, 1, 1, 1, 1, 1, 1, 1, 1, 1, 1, 1, 1, 1, 1, 1, 1, 1, 1, 1, 1, 1, 1, 1, 1, 1, 1, 1, 1, 1, 1, 1, 1, 1, 1, 1, 1, 1, 1, 1, 1, 1, 1, 1, 1, 1, 1, 1, 1, 1, 1, 1, 1, 1, 1, 1, 1, 1, 1, 1, 1, 1, 1, 1, 1, 1, 1, 1, 1, 1, 1, 1, 1, 1, 1, 1, 1, 1, 1, 1, 1, 1, 1, 1, 1, 1, 1, 1, 1, 1, 1, 1, 1, 1, 1, 1, 1, 1, 1, 1, 1, 1, 1, 1, 1, 1, 1, 1, 1, 1, 1, 1, 1, 1, 1, 1, 1, 1, 1, 1, 1, 1, 1, 1, 1, 1, 1, 1, 1, 1, 1, 1, 1, 1, 1, 1, 1, 1, 1, 1, 1, 1, 1, 1, 1, 1, 1, 1, 1, 1, 1, 1, 1, 1, 1, 1, 1, 1, 1, 1, 1, 1, 1, 1, 1, 1, 1, 1, 1, 1, 1, 1, 1, 1, 1, 1, 1, 1, 1, 1, 1, 1, 1, 1, 1, 1, 1, 1, 1, 1, 1, 1, 1, 1, 1, 1, 1, 1, 1, 1, 1, 1, 1, 1, 1, 1, 1, 1, 1, 1, 1, 1, 1, 1, 1, 1, 1, 1, 1, 1, 1, 1, 1, 1, 1, 1, 1, 1, 1, 1, 1, 1, 1, 1, 1, 1, 1, 1, 1, 1, 1, 1, 1, 1, 1, 1, 1, 1, 1, 1, 1, 1, 1, 1, 1, 1, 1, 1, 1, 1, 1, 1, 1, 1, 1, 1, 1, 1, 1, 1, 1, 1, 1, 1, 1, 1, 1, 1, 1, 1, 1, 1, 1, 1, 1, 1, 1, 1, 1, 1, 1, 1, 1, 1, 1, 1, 1, 1, 1, 1, 1, 1, 1, 1, 1, 1, 1, 1, 1, 1, 1, 1, 1, 1, 1, 1, 1, 1, 1, 1, 1, 1, 1, 1, 1, 1, 1, 1, 1, 1, 1, 1, 1, 1, 1, 1, 1, 1, 1, 1, 1, 1, 1, 1, 1, 1, 1, 1, 1, 1, 1, 1, 1, 1, 1, 1, 1, 1, 1, 1, 1, 1, 1, 1, 1, 1, 1, 1, 1, 1, 1, 1, 1, 1, 1, 1, 1, 1, 1, 1, 1, 1, 1, 1, 1, 1, 1, 1, 1, 1, 1, 1, 1, 1, 1, 1, 1, 1, 1, 1, 1, 1, 1, 1, 1, 1, 1, 1, 1, 1, 1, 1, 1, 1, 1, 1, 1, 1, 1, 1, 1, 1, 1, 1, 1, 1, 1, 1, 1, 1, 1, 1, 1, 1, 1, 1, 1, 1, 1, 1, 1, 1, 1, 1, 1, 1, 1, 1, 1, 1, 1, 1, 1, 1, 1, 1, 1, 1, 1, 1, 1, 1, 1, 1, 1, 1, 1, 1, 1, 1, 1, 1, 1, 1, 1, 1, 1, 1, 1, 1, 1, 1, 1, 1, 1, 1, 1, 1, 1, 1, 1, 1, 1, 1, 1, 1, 1, 1, 1, 1, 1, 1, 1, 1, 1, 1, 1, 1, 1, 1, 1, 1, 1, 1, 1, 1, 1, 1, 1, 1, 1, 1, 1, 1, 1, 1, 1, 1, 1, 1, 1, 1, 1, 1, 1, 1, 1, 1, 1, 1, 1, 1, 1, 1, 1, 1, 1, 1, 1, 1, 1, 1, 1, 1, 1, 1, 1, 1, 1, 1, 1, 1, 1, 1, 1, 1, 1, 1, 1, 1, 1, 1, 1, 1, 1, 1, 1, 1, 1, 1, 1, 1, 1, 1, 1, 1, 1, 1, 1, 1, 1, 1, 1, 1, 1, 1, 1, 1, 1, 1, 1, 1, 1, 1, 1, 1, 1, 1, 1, 1, 1, 1, 1, 1, 1, 1, 1, 1, 1, 1, 1, 1, 1, 1, 1, 1, 1, 1, 1, 1, 1, 1, 1, 1, 1, 1, 1, 1, 1, 1, 1, 1, 1, 1, 1, 1, 1, 1, 1, 1, 1, 1, 1, 1, 1, 1, 1, 1, 1, 1, 1, 1, 1, 1, 1, 1, 1, 1, 1, 1, 1, 1, 1, 1, 1, 1, 1, 1, 1, 1, 1, 1, 1, 1, 1, 1, 1, 1, 1, 1, 1, 1, 1, 1, 1, 1, 1, 1, 1, 1, 1, 1, 1, 1, 1, 1, 1, 1, 1, 1, 1, 1, 1, 1, 1, 1, 1, 1, 1, 1, 1, 1, 1, 1, 1, 1, 1, 1, 1, 1, 1, 1, 1, 1, 1, 1, 1, 1, 1, 1, 1, 1, 1, 1, 1, 1, 1, 1, 1, 1, 1, 1, 1, 1, 1, 1, 1, 1, 1, 1, 1, 1, 1, 1, 1, 1, 1, 1, 1, 1, 1, 1, 1, 1, 1, 1, 1, 1, 1, 1, 1, 1, 1, 1, 1, 1, 1, 1, 1, 1, 1, 1, 1, 1, 1, 1, 1, 1, 1, 1, 1, 1, 1, 1, 1, 1, 1, 1, 1, 1, 1, 1, 1, 1, 1, 1, 1, 1, 1, 1, 1, 1, 1, 1, 1, 1, 1, 1, 1, 1, 1, 1, 1, 1, 1, 1, 1, 1, 1, 1, 1, 1, 1, 1, 1, 1, 1, 1, 1, 1, 1, 1, 1, 1, 1, 1, 1, 1, 1, 1, 1, 1, 1, 1, 1, 1, 1, 1, 1, 1, 1, 1, 1, 1, 1, 1, 1, 1, 1, 1, 1, 1, 1, 1, 1, 1, 1, 1, 1, 1, 1, 1, 1, 1, 1, 1, 1, 1, 1, 1, 1, 1, 1, 1, 1, 1, 1, 1, 1, 1, 1, 1, 1, 1, 1, 1, 1, 1, 1, 1, 1, 1, 1, 1, 1, 1, 1, 1, 1, 1, 1, 1, 1, 1, 1, 1, 1, 1, 1, 1, 1, 1, 1, 1, 1, 1, 1, 1, 1, 1, 1, 1, 1, 1, 1, 1, 1, 1, 1, 1, 1, 1, 1, 1, 1, 1, 1, 1, 1, 1, 1, 1, 1, 1, 1, 1, 1, 1, 1, 1, 1, 1, 1, 1, 1, 1, 1, 1, 1, 1, 1, 1, 1, 1, 1, 1, 1, 1, 1, 1, 1, 1, 1, 1, 1, 1, 1, 1, 1, 1, 1, 1, 1, 1, 1, 1, 1, 1, 1, 1, 1, 1, 1, 1, 1, 1, 1, 1, 1, 1, 1, 1, 1, 1, 1, 1, 1, 1, 1, 1, 1, 1, 1, 1, 1, 1, 1, 1, 1, 1, 1, 1, 1, 1, 1, 1, 1, 1, 1, 1, 1, 1, 1, 1, 1, 1, 1, 1, 1, 1, 1, 1, 1, 1, 1, 1, 1, 1, 1, 1, 1, 1, 1, 1, 1, 1, 1, 1, 1, 1, 1, 1, 1, 1, 1, 1, 1, 1, 1, 1, 1, 1, 1, 1, 1, 1, 1, 1, 1, 1, 1, 1, 1, 1, 1, 1, 1, 1, 1, 1, 1, 1, 1, 1, 1, 1, 1, 1, 1, 1, 1, 1, 1, 1, 1, 1, 1, 1, 1, 1, 1, 1, 1, 1, 1, 1, 1, 1, 1, 1, 1, 1, 1, 1, 1, 1, 1, 1, 1, 1, 1, 1, 1, 1, 1, 1, 1, 1, 1, 1, 1, 1, 1, 1, 1, 1, 1, 1, 1, 1, 1, 1, 1, 1, 1, 1, 1, 1, 1, 1, 1, 1, 1, 1, 1, 1, 1, 1, 1, 1, 1, 1, 1, 1, 1, 1, 1, 1, 1, 1, 1, 1, 1, 1, 1, 1, 1, 1, 1, 1, 1, 1, 1, 1, 1, 1, 1, 1, 1, 1, 1, 1, 1, 1, 1, 1, 1, 1, 1, 1, 1, 1, 1, 1, 1, 1, 1, 1, 1, 1, 1, 1, 1, 1, 1, 1, 1, 1, 1, 1, 1, 1, 1, 1, 1, 1, 1, 1, 1, 1, 1, 1, 1, 1, 1, 1, 1, 1, 1, 1, 1, 1, 1, 1, 1, 1, 1, 1, 1, 1, 1, 1, 1, 1, 1, 1, 1, 1, 1, 1, 1, 1, 1, 1, 1, 1, 1, 1, 1, 1, 1, 1, 1, 1, 1, 1, 1, 1, 1, 1, 1, 1, 1, 1, 1, 1, 1, 1, 1, 1, 1, 1, 1, 1, 1, 1, 1, 1, 1, 1, 1, 1, 1, 1, 1, 1, 1, 1, 1, 1, 1, 1, 1, 1, 1, 1, 1, 1, 1, 1, 1, 1, 1, 1, 1, 1, 1, 1, 1, 1, 1, 1, 1, 1, 1, 1, 1, 1, 1, 1, 1, 1, 1, 1, 1, 1, 1, 1, 1, 1, 1, 1, 1, 1, 1, 1, 1, 1, 1, 1, 1, 1, 1, 1, 1, 1, 1, 1, 1, 1, 1, 1, 1, 1, 1, 1, 1, 1, 1, 1, 1, 1, 1, 1, 1, 1, 1, 1, 1, 1, 1, 1, 1, 1, 1, 1, 1, 1, 1, 1, 1, 1, 1, 1, 1, 1, 1, 1, 1, 1, 1, 1, 1, 1, 1, 1, 1, 1, 1, 1, 1, 1, 1, 1, 1, 1, 1, 1, 1, 1, 1, 1, 1, 1, 1, 1, 1, 1, 1, 1, 1, 1, 1, 1, 1, 1, 1, 1, 1, 1, 1, 1, 1, 1, 1, 1, 1, 1, 1, 1, 1, 1, 1, 1, 1, 1, 1, 1, 1, 1, 1, 1, 1, 1, 1, 1, 1, 1, 1, 1, 1, 1, 1, 1, 1, 1, 1, 1, 1, 1, 1, 1, 1, 1, 1, 1, 1, 1, 1, 1, 1, 1, 1, 1, 1, 1, 1, 1, 1, 1, 1, 1, 1, 1, 1, 1, 1, 1, 1, 1, 1, 1, 1, 1, 1, 1, 1, 1, 1, 1, 1, 1, 1, 1, 1, 1, 1, 1, 1, 1, 1, 1, 1, 1, 1, 1, 1, 1, 1, 1, 1, 1, 1, 1, 1, 1, 1, 1, 1, 1, 1, 1, 1, 1, 1, 1, 1, 1, 1, 1, 1, 1, 1, 1, 1, 1, 1, 1, 1, 1, 1, 1, 1, 1, 1, 1, 1, 1, 1, 1, 1, 1, 1, 1, 1, 1, 1, 1, 1, 1, 1, 1, 1, 1, 1, 1, 1, 1, 1, 1, 1, 1, 1, 1, 1, 1, 1, 1, 1, 1, 1, 1, 1, 1, 1, 1, 1, 1, 1, 1, 1, 1, 1, 1, 1, 1, 1, 1, 1, 1, 1, 1, 1, 1, 1, 1, 1, 1, 1, 1, 1, 1, 1, 1, 1, 1, 1, 1, 1, 1, 1, 1, 1, 1, 1, 1, 1, 1, 1, 1, 1, 1, 1, 1, 1, 1, 1, 1, 1, 1, 1, 1, 1, 1, 1, 1, 1, 1, 1, 1, 1, 1, 1, 1, 1, 1, 1, 1, 1, 1, 1, 1, 1, 1, 1, 1, 1, 1, 1, 1, 1, 1, 1, 1, 1, 1, 1, 1, 1, 1, 1, 1, 1, 1, 1, 1, 1, 1, 1, 1, 1, 1, 1, 1, 1, 1, 1, 1, 1, 1, 1, 1, 1, 1, 1, 1, 1, 1, 1, 1, 1, 1, 1, 1, 1, 1, 1, 1, 1, 1, 1, 1, 1, 1, 1, 1, 1, 1, 1, 1, 1, 1, 1, 1, 1, 1, 1, 1, 1, 1, 1, 1, 1, 1, 1, 1, 1, 1, 1, 1, 1, 1, 1, 1, 1, 1, 1, 1, 1, 1, 1, 1, 1, 1, 1, 1, 1, 1, 1, 1, 1, 1, 1, 1, 1, 1, 1, 1, 1, 1, 1, 1, 1, 1, 1, 1, 1, 1, 1, 1, 1, 1, 1, 1, 1, 1, 1, 1, 1, 1, 1, 1, 1, 1, 1, 1, 1, 1, 1, 1, 1, 1, 1, 1, 1, 1, 1, 1, 1, 1, 1, 1, 1, 1, 1, 1, 1, 1, 1, 1, 1, 1, 1, 1, 1, 1, 1, 1, 1, 1, 1, 1, 1, 1, 1, 1, 1, 1, 1, 1, 1, 1, 1, 1, 1, 1, 1, 1, 1, 1, 1, 1, 1, 1, 1, 1, 1, 1, 1, 1, 1, 1, 1, 1, 1, 1, 1, 1, 1, 1, 1, 1, 1, 1, 1, 1, 1, 1, 1, 1, 1, 1, 1, 1, 1, 1, 1, 1, 1, 1, 1, 1, 1, 1, 1, 1, 1, 1, 1, 1, 1, 1, 1, 1, 1, 1, 1, 1, 1, 1, 1, 1, 1, 1, 1, 1, 1, 1, 1, 1, 1, 1, 1, 1, 1, 1, 1, 1, 1, 1, 1, 1, 1, 1, 1, 1, 1, 1, 1, 1, 1, 1, 1, 1, 1, 1, 1, 1, 1, 1, 1, 1, 1, 1, 1, 1, 1, 1, 1, 1, 1, 1, 1, 1, 1, 1, 1, 1, 1, 1, 1, 1, 1, 1, 1, 1, 1, 1, 1, 1, 1, 1, 1, 1, 1, 1, 1, 1, 1, 1, 1, 1, 1, 1, 1, 1, 1, 1, 1, 1, 1, 1, 1, 1, 1, 1, 1, 1, 1, 1, 1, 1, 1, 1, 1, 1, 1, 1, 1, 1, 1, 1, 1, 1, 1, 1, 1, 1, 1, 1, 1, 1, 1, 1, 1, 1, 1, 1, 1, 1, 1, 1, 1, 1, 1, 1, 1, 1, 1, 1, 1, 1, 1, 1, 1, 1, 1, 1, 1, 1, 1, 1, 1, 1, 1, 1, 1, 1, 1, 1, 1, 1, 1, 1, 1, 1, 1, 1, 1, 1, 1, 1, 1, 1, 1, 1, 1, 1, 1, 1, 1, 1, 1, 1, 1, 1, 1, 1, 1, 1, 1, 1, 1, 1, 1, 1, 1, 1, 1, 1, 1, 1, 1, 1, 1, 1, 1, 1, 1, 1, 1, 1, 1, 1, 1, 1, 1, 1, 1, 1, 1, 1, 1, 1, 1, 1, 1, 1, 1, 1, 1, 1, 1, 1, 1, 1, 1, 1, 1, 1, 1, 1, 1, 1, 1, 1, 1, 1, 1, 1, 1, 1, 1, 1, 1, 1, 1, 1, 1, 1, 1, 1, 1, 1, 1, 1, 1, 1, 1, 1, 1, 1, 1, 1, 1, 1, 1, 1, 1, 1, 1, 1, 1, 1, 1, 1, 1, 1, 1, 1, 1, 1, 1, 1, 1, 1, 1, 1, 1, 1, 1, 1, 1, 1, 1, 1, 1, 1, 1, 1, 1, 1, 1, 1, 1, 1, 1, 1, 1, 1, 1, 1, 1, 1, 1, 1, 1, 1, 1, 1, 1, 1, 1, 1, 1, 1, 1, 1, 1, 1, 1, 1, 1, 1, 1, 1, 1, 1, 1, 1, 1, 1, 1, 1, 1, 1, 1, 1, 1, 1, 1, 1, 1, 1, 1, 1, 1, 1, 1, 1, 1, 1, 1, 1, 1, 1, 1, 1, 1, 1, 1, 1, 1, 1, 1, 1, 1, 1, 1, 1, 1, 1, 1, 1, 1, 1, 1, 1, 1, 1, 1, 1, 1, 1, 1, 1, 1, 1, 1, 1, 1, 1, 1, 1, 1, 1, 1, 1, 1, 1, 1, 1, 1, 1, 1, 1, 1, 1, 1, 1, 1, 1, 1, 1, 1, 1, 1, 1, 1, 1, 1, 1, 1, 1, 1, 1, 1, 1, 1, 1, 1, 1, 1, 1, 1, 1, 1, 1, 1, 1, 1, 1, 1, 1, 1, 1, 1, 1, 1, 1, 1, 1, 1, 1, 1, 1, 1, 1, 1, 1, 1, 1, 1, 1, 1, 1, 1, 1, 1, 1, 1, 1, 1, 1, 1, 1, 1, 1, 1, 1, 1, 1, 1, 1, 1, 1, 1, 1, 1, 1, 1, 1, 1, 1, 1, 1, 1, 1, 1, 1, 1, 1, 1, 1, 1, 1, 1, 1, 1, 1, 1, 1, 1, 1, 1, 1, 1, 1, 1, 1, 1, 1, 1, 1, 1, 1, 1, 1, 1, 1, 1, 1, 1, 1, 1, 1, 1, 1, 1, 1, 1, 1, 1, 1, 1, 1, 1, 1, 1, 1, 1, 1, 1, 1, 1, 1, 1, 1, 1, 1, 1, 1, 1, 1, 1, 1, 1, 1, 1, 1, 1, 1, 1, 1, 1, 1, 1, 1, 1, 1, 1, 1, 1, 1, 1, 1, 1, 1, 1, 1, 1, 1, 1, 1, 1, 1, 1, 1, 1, 1, 1, 1, 1, 1, 1, 1, 1, 1, 1, 1, 1, 1, 1, 1, 1, 1, 1, 1, 1, 1, 1, 1, 1, 1, 1, 1, 1, 1, 1, 1, 1, 1, 1, 1, 1, 1, 1, 1, 1, 1, 1, 1, 1, 1, 1, 1, 1, 1, 1, 1, 1, 1, 1, 1, 1, 1, 1, 1, 1, 1, 1, 1, 1, 1, 1, 1, 1, 1, 1, 1, 1, 1, 1, 1, 1, 1, 1, 1, 1, 1, 1, 1, 1, 1, 1, 1, 1, 1, 1, 1, 1, 1, 1, 1, 1, 1, 1, 1, 1, 1, 1, 1, 1, 1, 1, 1, 1, 1, 1, 1, 1, 1, 1, 1, 1, 1, 1, 1, 1, 1, 1, 1, 1, 1, 1, 1, 1, 1, 1, 1, 1, 1, 1, 1, 1, 1, 1, 1, 1, 1, 1, 1, 1, 1, 1, 1, 1, 1, 1, 1, 1, 1, 1, 1, 1, 1, 1, 1, 1, 1, 1, 1, 1, 1, 1, 1, 1, 1, 1, 1, 1, 1, 1, 1, 1, 1, 1, 1, 1, 1, 1, 1, 1, 1, 1, 1, 1, 1, 1, 1, 1, 1, 1, 1, 1, 1, 1, 1, 1, 1, 1, 1, 1, 1, 1, 1, 1, 1, 1, 1, 1, 1, 1, 1, 1, 1, 1, 1, 1, 1, 1, 1, 1, 1, 1, 1, 1, 1, 1, 1, 1, 1, 1, 1, 1, 1, 1, 1, 1, 1, 1, 1, 1, 1, 1, 1, 1, 1, 1, 1, 1, 1, 1, 1, 1, 1, 1, 1, 1, 1, 1, 1, 1, 1, 1, 1, 1, 1, 1, 1, 1, 1, 1, 1, 1, 1, 1, 1, 1, 1, 1, 1, 1, 1, 1, 1, 1, 1, 1, 1, 1, 1, 1, 1, 1, 1, 1, 1, 1, 1, 1, 1, 1, 1, 1, 1, 1, 1, 1, 1, 1, 1, 1, 1, 1, 1, 1, 1, 1, 1, 1, 1, 1, 1, 1, 1, 1, 1, 1, 1, 1, 1, 1, 1, 1, 1, 1, 1, 1, 1, 1, 1, 1, 1, 1, 1, 1, 1, 1, 1, 1, 1, 1, 1, 1, 1, 1, 1, 1, 1, 1, 1, 1, 1, 1, 1, 1, 1, 1, 1, 1, 1, 1, 1, 1, 1, 1, 1, 1, 1, 1, 1, 1, 1, 1, 1, 1, 1, 1, 1, 1, 1, 1, 1, 1, 1, 1, 1, 1, 1, 1, 1, 1, 1, 1, 1, 1, 1, 1, 1, 1, 1, 1, 1, 1, 1, 1, 1, 1, 1, 1, 1, 1, 1, 1, 1, 1, 1, 1, 1, 1, 1, 1, 1, 1, 1, 1, 1, 1, 1, 1, 1, 1, 1, 1, 1, 1, 1, 1, 1, 1, 1, 1, 1, 1, 1, 1, 1, 1, 1, 1, 1, 1, 1, 1, 1, 1, 1, 1, 1, 1, 1, 1, 1, 1, 1, 1, 1, 1, 1, 1, 1, 1, 1, 1, 1, 1, 1, 1, 1, 1, 1, 1, 1, 1, 1, 1, 1, 1, 1, 1, 1, 1, 1, 1, 1, 1, 1, 1, 1, 1, 1, 1, 1, 1, 1, 1, 1, 1, 1, 1, 1, 1, 1, 1, 1, 1, 1, 1, 1, 1, 1, 1, 1, 1, 1, 1, 1, 1, 1, 1, 1, 1, 1, 1, 1, 1, 1, 1, 1, 1, 1, 1, 1, 1, 1, 1, 1, 1, 1, 1, 1, 1, 1, 1, 1, 1, 1, 1, 1, 1, 1, 1, 1, 1, 1, 1, 1, 1, 1, 1, 1, 1, 1, 1, 1, 1, 1, 1, 1, 1, 1, 1, 1, 1, 1, 1, 1, 1, 1, 1, 1, 1, 1, 1, 1, 1, 1, 1, 1, 1, 1, 1, 1, 1, 1, 1, 1, 1, 1, 1, 1, 1, 1, 1, 1, 1, 1, 1, 1, 1, 1, 1, 1, 1, 1, 1, 1, 1, 1, 1, 1, 1, 1, 1, 1, 1, 1, 1, 1, 1, 1, 1, 1, 1, 1, 1, 1, 1, 1, 1, 1, 1, 1, 1, 1, 1, 1, 1, 1, 1, 1, 1, 1, 1, 1, 1, 1, 1, 1, 1, 1, 1, 1, 1, 1, 1, 1, 1, 1, 1, 1, 1, 1, 1, 1, 1, 1, 1, 1, 1, 1, 1, 1, 1, 1, 1, 1, 1, 1, 1, 1, 1, 1, 1, 1, 1, 1, 1, 1, 1, 1, 1, 1, 1, 1, 1, 1, 1, 1, 1, 1, 1, 1, 1, 1, 1, 1, 1, 1, 1, 1, 1, 1, 1, 1, 1, 1, 1, 1, 1, 1, 1, 1, 1, 1, 1, 1, 1, 1, 1, 1, 1, 1, 1, 1, 1, 1, 1, 1, 1, 1, 1, 1, 1, 1, 1, 1, 1, 1, 1, 1, 1, 1, 1, 1, 1, 1, 1, 1, 1, 1, 1, 1, 1, 1, 1, 1, 1, 1, 1, 1, 1, 1, 1, 1, 1, 1, 1, 1, 1, 1, 1, 1, 1, 1, 1, 1, 1, 1, 1, 1, 1, 1, 1, 1, 1, 1, 1, 1, 1, 1, 1, 1, 1, 1, 1, 1, 1, 1, 1, 1, 1, 1, 1, 1, 1, 1, 1, 1, 1, 1, 1, 1, 1, 1, 1, 1, 1, 1, 1, 1, 1, 1, 1, 1, 1, 1, 1, 1, 1, 1, 1, 1, 1, 1, 1, 1, 1, 1, 1, 1, 1, 1, 1, 1, 1, 1, 1, 1, 1, 1, 1, 1, 1, 1, 1, 1, 1, 1, 1, 1, 1, 1, 1, 1, 1, 1, 1, 1, 1, 1, 1, 1, 1, 1, 1, 1, 1, 1, 1, 1, 1, 1, 1, 1, 1, 1, 1, 1, 1, 1, 1, 1, 1, 1, 1, 1, 1, 1, 1, 1, 1, 1, 1, 1, 1, 1, 1, 1, 1, 1, 1, 1, 1, 1, 1, 1, 1, 1, 1, 1, 1, 1, 1, 1, 1, 1, 1, 1, 1, 1, 1, 1, 1, 1, 1, 1, 1, 1, 1, 1, 1, 1, 1, 1, 1, 1, 1, 1, 1, 1, 1, 1, 1, 1, 1, 1, 1, 1, 1, 1, 1, 1, 1, 1, 1, 1, 1, 1, 1, 1, 1, 1, 1, 1, 1, 1, 1, 1, 1, 1, 1, 1, 1, 1, 1, 1, 1, 1, 1, 1, 1, 1, 1, 1, 1, 1, 1, 1, 1, 1, 1, 1, 1, 1, 1, 1, 1, 1, 1, 1, 1, 1, 1, 1, 1, 1, 1, 1, 1, 1, 1, 1, 1, 1, 1, 1, 1, 1, 1, 1, 1, 1, 1, 1, 1, 1, 1, 1, 1, 1, 1, 1, 1, 1, 1, 1, 1, 1, 1, 1, 1, 1, 1, 1, 1, 1, 1, 1, 1, 1, 1, 1, 1, 1, 1, 1, 1, 1, 1, 1, 1, 1, 1, 1, 1, 1, 1, 1, 1, 1, 1, 1, 1, 1, 1, 1, 1, 1, 1, 1, 1, 1, 1, 1, 1, 1, 1, 1, 1, 1, 1, 1, 1, 1, 1, 1, 1, 1, 1, 1, 1, 1, 1, 1, 1, 1, 1, 1, 1, 1, 1, 1, 1, 1, 1, 1, 1, 1, 1, 1, 1, 1, 1, 1, 1, 1, 1, 1, 1, 1, 1, 1, 1, 1, 1, 1, 1, 1, 1, 1, 1, 1, 1, 1, 1, 1, 1, 1, 1, 1, 1, 1, 1, 1, 1, 1, 1, 1, 1, 1, 1, 1, 1, 1, 1, 1, 1, 1, 1, 1, 1, 1, 1, 1, 1, 1, 1, 1, 1, 1, 1, 1, 1, 1, 1, 1, 1, 1, 1, 1, 1, 1, 1, 1, 1, 1, 1, 1, 1, 1, 1, 1, 1, 1, 1, 1, 1, 1, 1, 1, 1, 1, 1, 1, 1, 1, 1, 1, 1, 1, 1, 1, 1, 1, 1, 1, 1, 1, 1, 1, 1, 1, 1, 1, 1, 1, 1, 1, 1, 1, 1, 1, 1, 1, 1, 1, 1, 1, 1, 1, 1, 1, 1, 1, 1, 1, 1, 1, 1, 1, 1, 1, 1, 1, 1, 1, 1, 1, 1, 1, 1, 1, 1, 1, 1, 1, 1, 1, 1, 1, 1, 1, 1, 1, 1, 1, 1, 1, 1, 1, 1, 1, 1, 1, 1, 1, 1, 1, 1, 1, 1, 1, 1, 1, 1, 1, 1, 1, 1, 1, 1, 1, 1, 1, 1, 1, 1, 1, 1, 1, 1, 1, 1, 1, 1, 1, 1, 1, 1, 1, 1, 1, 1, 1, 1, 1, 1, 1, 1, 1, 1, 1, 1, 1, 1, 1, 1, 1, 1, 1, 1, 1, 1, 1, 1, 1, 1, 1, 1, 1, 1, 1, 1, 1, 1, 1, 1, 1, 1, 1, 1, 1, 1, 1, 1, 1, 1, 1, 1, 1, 1, 1, 1, 1, 1, 1, 1, 1, 1, 1, 1, 1, 1, 1, 1, 1, 1, 1, 1, 1, 1, 1, 1, 1, 1, 1, 1, 1, 1, 1, 1, 1, 1, 1, 1, 1, 1, 1, 1, 1, 1, 1, 1, 1, 1, 1, 1, 1, 1, 1, 1, 1, 1, 1, 1, 1, 1, 1, 1, 1, 1, 1, 1, 1, 1, 1, 1, 1, 1, 1, 1, 1, 1, 1, 1, 1, 1, 1, 1, 1, 1, 1, 1, 1, 1, 1, 1, 1, 1, 1, 1, 1, 1, 1, 1, 1, 1, 1, 1, 1, 1, 1, 1, 1, 1, 1, 1, 1, 1, 1, 1, 1, 1, 1, 1, 1, 1, 1, 1, 1, 1, 1, 1, 1, 1, 1, 1, 1, 1, 1, 1, 1, 1, 1, 1, 1, 1, 1, 1, 1, 1, 1, 1, 1, 1, 1, 1, 1, 1, 1, 1, 1, 1, 1, 1, 1, 1, 1, 1, 1, 1, 1, 1, 1, 1, 1, 1, 1, 1, 1, 1, 1, 1, 1, 1, 1, 1, 1, 1, 1, 1, 1, 1, 1, 1, 1, 1, 1, 1, 1, 1, 1, 1, 1, 1, 1, 1, 1, 1, 1, 1, 1, 1, 1, 1, 1, 1, 1, 1, 1, 1, 1, 1, 1, 1, 1, 1, 1, 1, 1, 1, 1, 1, 1, 1, 1, 1, 1, 1, 1, 1, 1, 1, 1, 1, 1, 1, 1, 1, 1, 1, 1, 1, 1, 1, 1, 1, 1, 1, 1, 1, 1, 1, 1, 1, 1, 1, 1, 1, 1, 1, 1, 1, 1, 1, 1, 1, 1, 1, 1, 1, 1, 1, 1, 1, 1, 1, 1, 1, 1, 1, 1, 1, 1, 1, 1, 1, 1, 1, 1, 1, 1, 1, 1, 1, 1, 1, 1, 1, 1, 1, 1, 1, 1, 1, 1, 1, 1, 1, 1, 1, 1, 1, 1, 1, 1, 1, 1, 1, 1, 1, 1, 1, 1, 1, 1, 1, 1, 1, 1, 1, 1, 1, 1, 1, 1, 1, 1, 1, 1, 1, 1, 1, 1, 1, 1, 1, 1, 1, 1, 1, 1, 1, 1, 1, 1, 1, 1, 1, 1, 1, 1, 1, 1, 1, 1, 1, 1, 1, 1, 1, 1, 1, 1, 1, 1, 1, 1, 1, 1, 1, 1, 1, 1, 1, 1, 1, 1, 1, 1, 1, 1, 1, 1, 1, 1, 1, 1, 1, 1, 1, 1, 1, 1, 1, 1, 1, 1, 1, 1, 1, 1, 1, 1, 1, 1, 1, 1, 1, 1, 1, 1, 1, 1, 1, 1, 1, 1, 1, 1, 1, 1, 1, 1, 1, 1, 1, 1, 1, 1, 1, 1, 1, 1, 1, 1, 1, 1, 1, 1, 1, 1, 1, 1, 1, 1, 1, 1, 1, 1, 1, 1, 1, 1, 1, 1, 1, 1, 1, 1, 1, 1, 1, 1, 1, 1, 1, 1, 1, 1, 1, 1, 1, 1, 1, 1, 1, 1, 1, 1, 1, 1, 1, 1, 1, 1, 1, 1, 1, 1, 1, 1, 1, 1, 1, 1, 1, 1, 1, 1, 1, 1, 1, 1, 1, 1, 1, 1, 1, 1, 1, 1, 1, 1, 1, 1, 1, 1, 1, 1, 1, 1, 1, 1, 1, 1, 1, 1, 1, 1, 1, 1, 1, 1, 1, 1, 1, 1, 1, 1, 1, 1, 1, 1, 1, 1, 1, 1, 1, 1, 1, 1, 1, 1, 1, 1, 1, 1, 1, 1, 1, 1, 1, 1, 1, 1, 1, 1, 1, 1, 1, 1, 1, 1, 1, 1, 1, 1, 1, 1, 1, 1, 1, 1, 1, 1, 1, 1, 1, 1, 1, 1, 1, 1, 1, 1, 1, 1, 1, 1, 1, 1, 1, 1, 1, 1, 1, 1, 1, 1, 1, 1, 1, 1, 1, 1, 1, 1, 1, 1, 1, 1, 1, 1, 1, 1, 1, 1, 1, 1, 1, 1, 1, 1, 1, 1, 1, 1, 1, 1, 1, 1, 1, 1, 1, 1, 1, 1, 1, 1, 1, 1, 1, 1, 1, 1, 1, 1, 1, 1, 1, 1, 1, 1, 1, 1, 1, 1, 1, 1, 1, 1, 1, 1, 1, 1, 1, 1, 1, 1, 1, 1, 1, 1, 1, 1, 1, 1, 1, 1, 1, 1, 1, 1, 1, 1, 1, 1, 1, 1, 1, 1, 1, 1, 1, 1, 1, 1, 1, 1, 1, 1, 1, 1, 1, 1, 1, 1, 1, 1, 1, 1, 1, 1, 1, 1, 1, 1, 1, 1, 1, 1, 1, 1, 1, 1, 1, 1, 1, 1, 1, 1, 1, 1, 1, 1, 1, 1, 1, 1, 1, 1, 1, 1, 1, 1, 1, 1, 1, 1, 1, 1, 1, 1, 1, 1, 1, 1, 1, 1, 1, 1, 1, 1, 1, 1, 1, 1, 1, 1, 1, 1, 1, 1, 1, 1, 1, 1, 1, 1, 1, 1, 1, 1, 1, 1, 1, 1, 1, 1, 1, 1, 1, 1, 1, 1, 1, 1, 1, 1, 1, 1, 1, 1, 1, 1, 1, 1, 1, 1, 1, 1, 1, 1, 1, 1, 1, 1, 1, 1, 1, 1, 1, 1, 1, 1, 1, 1, 1, 1, 1, 1, 1, 1, 1, 1, 1, 1, 1, 1, 1, 1, 1, 1, 1, 1, 1, 1, 1, 1, 1, 1, 1, 1, 1, 1, 1, 1, 1, 1, 1, 1, 1, 1, 1, 1, 1, 1, 1, 1, 1, 1, 1, 1, 1, 1, 1, 1, 1, 1, 1, 1, 1, 1, 1, 1, 1, 1, 1, 1, 1, 1, 1, 1, 1, 1, 1, 1, 1, 1, 1, 1, 1, 1, 1, 1, 1, 1, 1, 1, 1, 1, 1, 1, 1, 1, 1, 1, 1, 1, 1, 1, 1, 1, 1, 1, 1, 1, 1, 1, 1, 1, 1, 1, 1, 1, 1, 1, 1, 1, 1, 1, 1, 1, 1, 1, 1, 1, 1, 1, 1, 1, 1, 1, 1, 1, 1, 1, 1, 1, 1, 1, 1, 1, 1, 1, 1, 1, 1, 1, 1, 1, 1, 1, 1, 1, 1, 1, 1, 1, 1, 1, 1, 1, 1, 1, 1, 1, 1, 1, 1, 1, 1, 1, 1, 1, 1, 1, 1, 1, 1, 1, 1, 1, 1, 1, 1, 1, 1, 1, 1, 1, 1, 1, 1, 1, 1, 1, 1, 1, 1, 1, 1, 1, 1, 1, 1, 1, 1, 1, 1, 1, 1, 1, 1, 1, 1, 1, 1, 1, 1, 1, 1, 1, 1, 1, 1, 1, 1, 1, 1, 1, 1, 1, 1, 1, 1, 1, 1, 1, 1, 1, 1, 1, 1, 1, 1, 1, 1, 1, 1, 1, 1, 1, 1, 1, 1, 1, 1, 1, 1, 1, 1, 1, 1, 1, 1, 1, 1, 1, 1, 1, 1, 1, 1, 1, 1, 1, 1, 1, 1, 1, 1, 1, 1, 1, 1, 1, 1, 1, 1, 1, 1, 1, 1, 1, 1, 1, 1, 1, 1, 1, 1, 1, 1, 1, 1, 1, 1, 1, 1, 1, 1, 1, 1, 1, 1, 1, 1, 1, 1, 1, 1, 1, 1, 1, 1, 1, 1, 1, 1, 1, 1, 1, 1, 1, 1, 1, 1, 1, 1, 1, 1, 1, 1, 1, 1, 1, 1, 1, 1, 1, 1, 1, 1, 1, 1, 1, 1, 1, 1, 1, 1, 1, 1, 1, 1, 1, 1, 1, 1, 1, 1, 1, 1, 1, 1, 1, 1, 1, 1, 1, 1, 1, 1, 1, 1, 1, 1, 1, 1, 1, 1, 1, 1, 1, 1, 1, 1, 1, 1, 1, 1, 1, 1, 1, 1, 1, 1, 1, 1, 1, 1, 1, 1, 1, 1, 1, 1, 1, 1, 1, 1, 1, 1, 1, 1, 1, 1, 1, 1, 1, 1, 1, 1, 1, 1, 1, 1, 1, 1, 1, 1, 1, 1, 1, 1, 1, 1, 1, 1, 1, 1, 1, 1, 1, 1, 1, 1, 1, 1, 1, 1, 1, 1, 1, 1, 1, 1, 1, 1, 1, 1, 1, 1, 1, 1, 1, 1, 1, 1, 1, 1, 1, 1, 1, 1, 1, 1, 1, 1, 1, 1, 1, 1, 1, 1, 1, 1, 1, 1, 1, 1, 1, 1, 1, 1, 1, 1, 1, 1, 1, 1, 1, 1, 1, 1, 1, 1, 1, 1, 1, 1, 1, 1, 1, 1, 1, 1, 1, 1, 1, 1, 1, 1, 1, 1, 1, 1, 1, 1, 1, 1, 1, 1, 1, 1, 1, 1, 1, 1, 1, 1, 1, 1, 1, 1, 1, 1, 1, 1, 1, 1, 1, 1, 1, 1, 1, 1, 1, 1, 1, 1, 1, 1, 1, 1, 1, 1, 1, 1, 1, 1, 1, 1, 1, 1, 1, 1, 1, 1, 1, 1, 1, 1, 1, 1, 1, 1, 1, 1, 1, 1, 1, 1, 1, 1, 1, 1, 1, 1, 1, 1, 1, 1, 1, 1, 1, 1, 1, 1, 1, 1, 1, 1, 1, 1, 1, 1, 1, 1, 1, 1, 1, 1, 1, 1, 1, 1, 1, 1, 1, 1, 1, 1, 1, 1, 1, 1, 1, 1, 1, 1, 1, 1, 1, 1, 1, 1, 1, 1, 1, 1, 1, 1, 1, 1, 1, 1, 1, 1, 1, 1, 1, 1, 1, 1, 1, 1, 1, 1, 1, 1, 1, 1, 1, 1, 1, 1, 1, 1, 1, 1, 1, 1, 1, 1, 1, 1, 1, 1, 1, 1, 1, 1, 1, 1, 1, 1, 1, 1, 1, 1, 1, 1, 1, 1, 1, 1, 1, 1, 1, 1, 1, 1, 1, 1, 1, 1, 1, 1, 1, 1, 1, 1, 1, 1, 1, 1, 1, 1, 1, 1, 1, 1, 1, 1, 1, 1, 1, 1, 1, 1, 1, 1, 1, 1, 1, 1, 1, 1, 1, 1, 1, 1, 1, 1, 1, 1, 1, 1, 1, 1, 1, 1, 1, 1, 1, 1, 1, 1, 1, 1, 1, 1, 1, 1, 1, 1, 1, 1, 1, 1, 1, 1, 1, 1, 1, 1, 1, 1, 1, 1, 1, 1, 1, 1, 1, 1, 1, 1, 1, 1, 1, 1, 1, 1, 1, 1, 1, 1, 1, 1, 1, 1, 1, 1, 1, 1, 1, 1, 1, 1, 1, 1, 1, 1, 1, 1, 1, 1, 1, 1, 1, 1, 1, 1, 1, 1, 1, 1, 1, 1, 1, 1, 1, 1, 1, 1, 1, 1, 1, 1, 1, 1, 1, 1, 1, 1, 1, 1, 1, 1, 1, 1, 1, 1, 1, 1, 1, 1, 1, 1, 1, 1, 1, 1, 1, 1, 1, 1, 1, 1, 1, 1, 1, 1, 1, 1, 1, 1, 1, 1, 1, 1, 1, 1, 1, 1, 1, 1, 1, 1, 1, 1, 1, 1, 1, 1, 1, 1, 1, 1, 1, 1, 1, 1, 1, 1, 1, 1, 1, 1, 1, 1, 1, 1, 1, 1, 1, 1, 1, 1, 1, 1, 1, 1, 1, 1, 1, 1, 1, 1, 1, 1, 1, 1, 1, 1, 1, 1, 1, 1, 1, 1, 1, 1, 1, 1, 1, 1, 1, 1, 1, 1, 1, 1, 1, 1, 1, 1, 1, 1, 1, 1, 1, 1, 1, 1, 1, 1, 1, 1, 1, 1, 1, 1, 1, 1, 1, 1, 1, 1, 1, 1, 1, 1, 1, 1, 1, 1, 1, 1, 1, 1, 1, 1, 1, 1, 1, 1, 1, 1, 1, 1, 1, 1, 1, 1, 1, 1, 1, 1, 1, 1, 1, 1, 1, 1, 1, 1, 1, 1, 1, 1, 1, 1, 1, 1, 1, 1, 1, 1, 1, 1, 1, 1, 1, 1, 1, 1, 1, 1, 1, 1, 1, 1, 1, 1, 1, 1, 1, 1, 1, 1, 1, 1, 1, 1, 1, 1, 1, 1, 1, 1, 1, 1, 1, 1, 1, 1, 1, 1, 1, 1, 1, 1, 1, 1, 1, 1, 1, 1, 1, 1, 1, 1, 1, 1, 1, 1, 1, 1, 1, 1, 1, 1, 1, 1, 1, 1, 1, 1, 1, 1, 1, 1, 1, 1, 1, 1, 1, 1, 1, 1, 1, 1, 1, 1, 1, 1, 1, 1, 1, 1, 1, 1, 1, 1, 1, 1, 1, 1, 1, 1, 1, 1, 1, 1] \n",
            "\n",
            "Fim do processamento!\n"
          ]
        }
      ]
    },
    {
      "cell_type": "code",
      "execution_count": 1171,
      "metadata": {},
      "outputs": [
        {
          "output_type": "stream",
          "name": "stdout",
          "text": [
            "   algoritmo         tipo  quantidade  trocas  comparacoes      tempo\n0       HPST  Decrescente         100     516         1698   0.000000\n1       SLST  Decrescente         100      50         5049   0.000000\n2     MNHPST  Decrescente         100     640         2070   0.000000\n3      IHPST  Decrescente         100     516         1648   0.015625\n4     TWMGST  Decrescente         100      50          151   0.000000\n5     MWMGST  Decrescente         100     567         1851   0.000000\n6       CTST  Decrescente         100       0            0   0.000000\n7       HPST  Decrescente        1000    8316        26448   0.015625\n8       SLST  Decrescente        1000     500       500499   0.140625\n9     MNHPST  Decrescente        1000    9708        30624   0.015625\n10     IHPST  Decrescente        1000    8316        25948   0.031250\n11    TWMGST  Decrescente        1000     500         1501   0.015625\n12    MWMGST  Decrescente        1000    8958        28374   0.031250\n13      CTST  Decrescente        1000       0            0   0.000000\n14      HPST  Decrescente       10000  116696       365088   0.296875\n15      SLST  Decrescente       10000    5000     50004999  14.125000\n16    MNHPST  Decrescente       10000  131956       410868   0.328125\n17     IHPST  Decrescente       10000  116696       360088   0.250000\n18    TWMGST  Decrescente       10000    5000        15001   0.140625\n19    MWMGST  Decrescente       10000  122624       382872   0.468750\n20      CTST  Decrescente       10000       0            0   0.000000\n\n    algoritmo       tipo  quantidade  trocas  comparacoes      tempo\n0       HPST  Crescente         100     640         2070   0.000000\n1       SLST  Crescente         100       0         5049   0.000000\n2     MNHPST  Crescente         100     516         1698   0.000000\n3      IHPST  Crescente         100    1059         2230   0.000000\n4     TWMGST  Crescente         100      50          151   0.015625\n5     MWMGST  Crescente         100     561         1833   0.000000\n6       CTST  Crescente         100       0            0   0.000000\n7       HPST  Crescente        1000    9708        30624   0.000000\n8       SLST  Crescente        1000       0       500499   0.109375\n9     MNHPST  Crescente        1000    8316        26448   0.031250\n10     IHPST  Crescente        1000   16881        34688   0.031250\n11    TWMGST  Crescente        1000     500         1501   0.015625\n12    MWMGST  Crescente        1000    8868        28104   0.031250\n13      CTST  Crescente        1000       0            0   0.000000\n14      HPST  Crescente       10000  131956       410868   0.328125\n15      SLST  Crescente       10000       0     50004999  13.140625\n16    MNHPST  Crescente       10000  116696       365088   0.250000\n17     IHPST  Crescente       10000  242398       499959   0.562500\n18    TWMGST  Crescente       10000    5000        15001   0.093750\n19    MWMGST  Crescente       10000  122040       381120   0.390625\n20      CTST  Crescente       10000       0            0   0.015625\n\n    algoritmo       tipo  quantidade  trocas  comparacoes      tempo\n0       HPST  Aleatório         100     573         1869   0.000000\n1       SLST  Aleatório         100      96         5049   0.000000\n2     MNHPST  Aleatório         100     585         1905   0.000000\n3      IHPST  Aleatório         100     627         1789   0.000000\n4     TWMGST  Aleatório         100      99          298   0.000000\n5     MWMGST  Aleatório         100     517         1701   0.000000\n6       CTST  Aleatório         100       0            0   0.000000\n7       HPST  Aleatório        1000    9042        28626   0.031250\n8       SLST  Aleatório        1000     995       500499   0.203125\n9     MNHPST  Aleatório        1000    9090        28770   0.046875\n10     IHPST  Aleatório        1000    9620        27864   0.031250\n11    TWMGST  Aleatório        1000     996         2989   0.015625\n12    MWMGST  Aleatório        1000    8327        26481   0.031250\n13      CTST  Aleatório        1000       0            0   0.000000\n14      HPST  Aleatório       10000  124212       387636   0.343750\n15      SLST  Aleatório       10000    9991     50004999  18.843750\n16    MNHPST  Aleatório       10000  124081       387243   0.359375\n17     IHPST  Aleatório       10000  129587       379170   0.359375\n18    TWMGST  Aleatório       10000    9999        29998   0.125000\n19    MWMGST  Aleatório       10000  116265       363795   0.390625\n20      CTST  Aleatório       10000       0            0   0.000000\n\n   algoritmo   tipo  quantidade  trocas  comparacoes      tempo\n0      HPST  Igual       10000    9999        44997   0.031250\n1      SLST  Igual       10000       0     50004999  11.437500\n2    MNHPST  Igual       10000    9999        44997   0.015625\n3     IHPST  Igual       10000    9999        39997   0.031250\n4    TWMGST  Igual       10000    5000        15001   0.093750\n5    MWMGST  Igual       10000    9999        44997   0.109375\n6      CTST  Igual       10000       0            0   0.000000\n"
          ]
        }
      ],
      "source": [
        "# Cria dataframe pandas (i.e., uma tabela) que organiza os dados relacionados com a execução dos algorimos acima\n",
        "cols = ['algoritmo', 'tipo', 'quantidade', 'trocas', 'comparacoes', 'tempo']  # ordem correta das colunas \n",
        "df_dec = pd.DataFrame(medicoes_dec)\n",
        "df_dec = df_dec[cols]\n",
        "\n",
        "print(df_dec) # imprime os dados de execução dos algoritmos\n",
        "\n",
        "df_cre = pd.DataFrame(medicoes_cre)\n",
        "df_cre = df_cre[cols]\n",
        "\n",
        "print('\\n',df_cre) \n",
        "\n",
        "df_ran = pd.DataFrame(medicoes_ran)\n",
        "df_ran = df_ran[cols]\n",
        "\n",
        "print('\\n',df_ran) \n",
        "\n",
        "df_equ = pd.DataFrame(medicoes_equ)\n",
        "df_equ = df_equ[cols]\n",
        "\n",
        "print('\\n',df_equ) "
      ]
    }
  ]
}